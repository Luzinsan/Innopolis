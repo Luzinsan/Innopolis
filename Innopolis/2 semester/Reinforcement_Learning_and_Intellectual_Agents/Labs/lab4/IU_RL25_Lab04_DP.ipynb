{
  "cells": [
    {
      "cell_type": "code",
      "execution_count": 8,
      "metadata": {},
      "outputs": [
        {
          "name": "stdout",
          "output_type": "stream",
          "text": [
            "/home/luzinsan/Innopolis/Innopolis/2 semester/Reinforcement_Learning_and_Intellectual_Agents/Labs/lab4\n"
          ]
        }
      ],
      "source": [
        "%cd ../lab4/"
      ]
    },
    {
      "cell_type": "markdown",
      "metadata": {
        "id": "Aheo3nJp1g3R"
      },
      "source": [
        "## Recap for the MDP lab\n",
        "### Markov Decision Processes\n",
        "\n",
        "Let's formalize the key components of the RL problem in the context of MDPs:\n",
        "\n",
        "An MDP is defined by: $(S, A, P, R, S_0, \\gamma)$\n",
        "* S = set of states (state-space)\n",
        "* A = set of actions (action-space)\n",
        "* P = state transition probabilities\n",
        "* R = reward for taking an action $a\\in\\text{A}$ in state $s\\in\\text{S}$\n",
        "* $S_0$ = starting state\n",
        "* $\\gamma$ = discount rate\n",
        "    \n",
        "In more detail:\n",
        "* **States** - states can be discrete/finite (imagine cells in a grid world) or continuous/infinite (position on a road).\n",
        "    * Referred to as the *state space* (i.e. discrete state space or continuous state space)\n",
        "* **Actions** - actions can also be discrete (moving up/down/left/right in a grid world cell) or continuous (how many degrees to turn a steering wheel when driving a car).\n",
        "    * Referred to as the *action space* (i.e. discrete action space or continuous action space)\n",
        "* **Rewards** - rewards are issued by a reward function $\\rho : S_t \\times A_t \\rightarrow R$. The reward function is a property of the environment.\n",
        "* **Transition probabilities**. In MDPs, this is denoted by $P_{s,a}$. The transition probability is the probability that, for example, some action $A$ in state $S$ leads to state $S^\\prime$ (prime denotes the next time step) - represented notationally as $P(s^\\prime|s,a)$.\n",
        "* **Discount factor** - the discount factor is a number greater than 0 and less than 1 that is used to discount rewards received over sequential time-steps. It is denoted as $\\gamma \\in [0, 1)$\n",
        "* **Value function** - one of the primary functions learned by the agent: the value function dictates either the value of a state or the value of action. More on this below.\n",
        "* **Policy function** - one of the primary functions learned by the agent: the policy maps states to actions. More below.\n",
        "\n",
        "#### Other useful definitions\n",
        "* **Experience** - $\\big(\\text{State}_{t}$, $\\text{Action}_{t}$, $\\text{Reward}_{t}\\big)$ tuple\n",
        "* **Trajectory** - A sequence of *experiences* through time, represented as: $\\tau$ (tau)\n",
        "* **Episode** - A trajectory that ends in a terminal state\n",
        "\n",
        "\n",
        "### Policy\n",
        "\n",
        "The process of learning for the agent can be thought of as a sequence of mapping states to actions $a = \\pi(s)$ to maximize expected reward over an episode. This is known as the **policy:** $\\pi: S \\rightarrow A$.\n",
        "\n",
        "Note:\n",
        "* The agent needs to explore and interact with its environment to learn where actions earn the maximum rewards.\n",
        "* Actions in the current time step effect rewards in future time steps\n",
        "* There is a trade off between the frequency of sampling the environment and frequency of taking actions\n",
        "* It can be based on discrete state-spaces or continuous state-spaces (and same for action-spaces)\n",
        "\n",
        "### Value functions\n",
        "\n",
        "The **worthiness** of a policy is calculated by the aforementioned *value function*. There are various forms of value functions. First, the value of a state:\n",
        "\n",
        "<img src=\"https://drive.google.com/uc?id=1W6LE42KbtNoOs1LKkFxlWhOF6-7wzWxS\" />\n",
        "\n",
        "Second, the value of action:\n",
        "\n",
        "<img src=\"https://drive.google.com/uc?id=1I0Df6jgFDH7gBU1djylJ8ZzmJUO36P9_\" />\n",
        "\n",
        "\n",
        "\n",
        "#### <font color=\"#DE008A\">Bellman's optimal ($*$) action-value function</font> :\n",
        "\n",
        "$$Q^*{(s,a)} = \\ R{(s,a)} + \\gamma \\max_{a^\\prime} \\sum_{s^\\prime\\in\\text{S}} \\big[P{(s^\\prime|s,a)}  Q^*{(s^\\prime,a^\\prime)}\\big]$$\n"
      ]
    },
    {
      "cell_type": "markdown",
      "metadata": {
        "id": "Eh-qQmfCJVOA"
      },
      "source": [
        "## Cleaning Robot Problem\n",
        "\n",
        "The main characteristics of this world are the following:\n",
        "\n",
        "- Discrete time and space\n",
        "- Fully observable\n",
        "- Infinite horizon\n",
        "- Known Transition Model\n",
        "\n",
        "<img src=\"https://drive.google.com/uc?id=1Yz6xnDuo6StlKzmj4eDqVYvZfOORBlBT\"/>\n",
        "\n",
        "The main goal for the robot in this task is to find the best way to reach the charging station.\n",
        "\n",
        "What does the \"best way\" even mean?\n",
        "It depends on the reward that the robot receives in each intermediate state -> that leads to multiple optimal policies.\n",
        "\n",
        "<img src=\"https://drive.google.com/uc?id=1vef0Xhpy5OMwTxKLgBBqxrxNTp9bhw9S\"/>\n",
        "\n",
        "**The Bellman equation**\n",
        "\n",
        "$$Q^*{(s,a)} = \\ R{(s,a)} + \\gamma \\max_{a^\\prime} \\sum_{s^\\prime\\in\\text{S}} \\big[P{(s^\\prime|s,a)}  Q^*{(s^\\prime,a^\\prime)}\\big]$$\n",
        "\n",
        "In this example the reward for each non-terminal state is\n",
        "$$R(s) = −0.04$$\n",
        "\n",
        "\n",
        "BUT, before we begin let's assume that somehow we got the optima optimal policy and utility values generated by the optimal value-function just to help us understand the idea.\n",
        "\n",
        "<img src=\"https://drive.google.com/uc?id=1C-hx0MwCi9hNQcM9Q-QIvVJzalbVWypa\"/>\n",
        "\n",
        "In our example we suppose the robot starts from the state (1,1). Using the Bellman equation we have to find the action with the highest utility between UP, LEFT, DOWN and RIGHT. We do not have the optimal policy, but we have the transition model and the utility values for each state. You have to recall the two main rules of our environment: (i) if the robot bounce on the wall it goes back to the previous state, and (ii) the selected action is executed only with a probability of 80% in accordance with the transition model. Instead of dealing with those ugly numbers I want to show you a visual representaion of the possible outcomes:\n",
        "<img src=\"https://drive.google.com/uc?id=1_X65joHfWYkFNEIorjSNXmMR0rRGNTjX\"/>\n",
        "\n",
        "For each possible outcome I reported the utility and the probability given by the transition model. This corresponds to the first part of the Bellman equation. The next step is to calculate the product between the utility and the transition probability, then sum up the value for each action.\n",
        "\n",
        "<img src=\"https://drive.google.com/uc?id=1lmDRxIXOs0h6cGP6VzzsRjauu-nGJYbO\"/>\n",
        "\n",
        "We found out that for state (1,1) the action UP has the highest value. This is in accordance with the optimal policy we magically got.\n",
        "\n",
        "Now we have all the elements and we can plug the values in the Bellman equation finding the utility of the state (1,1):\n",
        "\n",
        "$$U(s11)=−0.04 + 1.0 × 0.7456= 0.7056$$"
      ]
    },
    {
      "cell_type": "markdown",
      "metadata": {
        "id": "5qbUGWMp15L0"
      },
      "source": [
        "## Introduction to Dynamic Programming (DP)"
      ]
    },
    {
      "cell_type": "markdown",
      "metadata": {
        "id": "A7EMeZcA0i5r"
      },
      "source": [
        "- Dynamic programming (DP) is used to compute optimal policies given a complete model of the environment\n",
        "  - This model should be a Markov Decision Process (MDP)\n",
        "  - In dynamic programming, the dynamics function, $P$ should be known\n",
        "    - i.e $ P(s'|s, a)$ should be fully defined\n",
        "    - What do we mean by this?\n",
        "    - Well, basically when given a state and action, the model of the environment will give the probabilities for all possible next states and rewards\n"
      ]
    },
    {
      "cell_type": "markdown",
      "metadata": {
        "id": "50xKvwhM2W1w"
      },
      "source": [
        "- In DP (Dynamic programming) the objective is to determine optimal policies using optimal value functions\n",
        "  - In order to do that, we first calculate optimal value functions for each state\n",
        "  - As a recap: value functions allow us to get an idea of how good each state is, in terms of giving highest accumulated reward\n",
        "    - More formally, state-value functions are the \"expected\" future rewards starting at some state, $s$ and then following a specific policy\n",
        "   - Action-value functions are the \"expected\" future rewards starting at some state $s$ and action $a$ and then following a specific policy\n",
        "- So, that leads us to one question: how do we determine state-values and action-values?"
      ]
    },
    {
      "cell_type": "markdown",
      "metadata": {
        "id": "5G0JYRSB7F49"
      },
      "source": [
        "## The policy iteration algorithm"
      ]
    },
    {
      "cell_type": "markdown",
      "metadata": {
        "id": "kt5HxAa77Vj9"
      },
      "source": [
        "use the policy iteration algorithm to find an optimal policy that maximizes the expected reward. No policy generates more reward than the optimal policy $\\pi^∗$\n",
        ". Policy iteration is guaranteed to converge and at convergence, the current policy and its utility function are the optimal policy and the optimal utility function. First of all, we define a policy\n",
        "$\\pi$ assigning an action to each state. We can assign random actions to this policy, it does not matter. Using the Bellman equation we can compute the expected utility of the policy. There is a good news. We do not really need the complete version of the Bellman equation which is:\n",
        "\n",
        "$$Q{(s,a)} = \\ R{(s,a)} + \\gamma \\color{red}{\\max_{a^\\prime}} \\sum_{s^\\prime\\in\\text{S}} \\big[P{(s^\\prime|s,a)}  Q{(s^\\prime,a^\\prime)}\\big]$$\n",
        "\n",
        "Since we have a policy and the policy associate to each state an action, we can get rid of the\n",
        " max\n",
        " operator and use a simplified version of the Bellman equation:\n",
        "\n",
        " $$Q{(s,a)} = \\ R{(s,a)} + \\gamma \\sum_{s^\\prime\\in\\text{S}} \\big[P{(s^\\prime|s,a)}  Q{(s^\\prime,\\pi(s))}\\big]$$\n"
      ]
    },
    {
      "cell_type": "markdown",
      "metadata": {
        "id": "WcNx8O1FHduv"
      },
      "source": [
        "Once we have evaluated the policy, we can improve it. Policy improvement is the second and last step of the algorithm. Our environment has a finite number of states, therefore a finite number of policies. Each iteration returns a better policy."
      ]
    },
    {
      "cell_type": "code",
      "execution_count": 25,
      "metadata": {
        "colab": {
          "base_uri": "https://localhost:8080/",
          "height": 297
        },
        "id": "li9qwo6mVi8_",
        "outputId": "ec134412-aef3-4c77-82f9-864760a56d16"
      },
      "outputs": [],
      "source": [
        "import numpy as np\n",
        "import matplotlib.pyplot as plt\n",
        "\n",
        "data = np.load('T.npy')"
      ]
    },
    {
      "cell_type": "code",
      "execution_count": 28,
      "metadata": {
        "id": "vK000bcrH7IO"
      },
      "outputs": [],
      "source": [
        "class MDP:\n",
        "  def __init__(self):\n",
        "        #Starting state vector\n",
        "        #The agent starts from (1, 1)\n",
        "        self.states = np.array([[0.0, 0.0, 0.0, 0.0,\n",
        "                                    0.0, 0.0, 0.0, 0.0,\n",
        "                                    1.0, 0.0, 0.0, 0.0]])\n",
        "        self.rewards = np.array([-0.04, -0.04, -0.04,  +1.0,\n",
        "                                 -0.04,   0.0, -0.04,  -1.0,\n",
        "                                 -0.04, -0.04, -0.04, -0.04])\n",
        "\n",
        "        # Probabilities Transition matrix loaded from file\n",
        "        #(It is too big to write here)\n",
        "        self.transits = np.load(\"T.npy\")\n",
        "        #Generate the first policy randomly\n",
        "        # Nan=Nothing, -1=Terminal, 0=Up, 1=Left, 2=Down, 3=Right\n",
        "        self.policy = np.random.randint(0, 4, size=(12)).astype(np.float32)\n",
        "        self.policy[5] = np.nan\n",
        "        self.policy[3] = self.policy[7] = -1\n",
        "\n",
        "        #Utility vector\n",
        "        self.values = np.array([0.0, 0.0, 0.0,  +1.0,\n",
        "                                0.0, 0.0, 0.0,  -1.0,\n",
        "                                0.0, 0.0, 0.0,  0.0])\n",
        "        self.gamma = 0.999\n",
        "\n",
        "        self.epsilon = 0.0001\n",
        "        self.iteration = 0\n",
        "\n",
        "  def policy_evaluation(self, shape=(3,4)):\n",
        "      \"\"\"\n",
        "      One sweep of policy evaluation:\n",
        "      For each non-terminal & non-obstacle state s,\n",
        "      update self.values[s] = R(s) + gamma * sum( P(s'|s, action) * values[s'] ).\n",
        "      The 'action' is the one indicated by the current policy.\n",
        "      \"\"\"\n",
        "      for s in range(12):\n",
        "          if not np.isnan(self.policy[s]) and self.policy[s] != -1:\n",
        "              action = int(self.policy[s])  # the chosen action from the policy\n",
        "              # Probability distribution from state s using 'action'\n",
        "              prob_dist = self.transits[s, :, action]  # shape (12,)\n",
        "              # Expected future value under that action\n",
        "              expected_value = np.sum(prob_dist * self.values)\n",
        "              # Bellman expectation for policy evaluation\n",
        "              self.values[s] = self.rewards[s] + self.gamma * expected_value\n",
        "      return self.values\n",
        "\n",
        "  def expected_action(self):\n",
        "      \"\"\"Return the expected action.\n",
        "\n",
        "      It returns an action based on the\n",
        "      expected utility of doing a in state s,\n",
        "      according to T and u. This action is\n",
        "      the one that maximize the expected\n",
        "      utility.\n",
        "\n",
        "      @return expected action (int)\n",
        "      \"\"\"\n",
        "      actions = np.zeros(4)\n",
        "      for action in range(4):\n",
        "        #Expected utility of doing a in state s, according to T and u.\n",
        "        actions[action] = np.sum(np.multiply(self.values, np.dot(self.states, self.transits[:,:,action])))\n",
        "      return np.argmax(actions)\n",
        "\n",
        "def print_policy(p, shape):\n",
        "    \"\"\"Printing utility.\n",
        "\n",
        "    Print the policy actions using symbols:\n",
        "    ^, v, <, > up, down, left, right\n",
        "    * terminal states\n",
        "    # obstacles\n",
        "    \"\"\"\n",
        "    counter = 0\n",
        "    policy_string = \"\"\n",
        "    for row in range(shape[0]):\n",
        "        for col in range(shape[1]):\n",
        "            if(p[counter] == -1): policy_string += \" *  \"\n",
        "            elif(p[counter] == 0): policy_string += \" ^  \"\n",
        "            elif(p[counter] == 1): policy_string += \" <  \"\n",
        "            elif(p[counter] == 2): policy_string += \" v  \"\n",
        "            elif(p[counter] == 3): policy_string += \" >  \"\n",
        "            elif(np.isnan(p[counter])): policy_string += \" #  \"\n",
        "            counter += 1\n",
        "        policy_string += '\\n'\n",
        "    print(policy_string)\n",
        "\n",
        "\n",
        "def generate_graph(utility_list):\n",
        "    \"\"\"Given a list of utility arrays (one for each iteration)\n",
        "    it generates a matplotlib graph and save it as 'output.jpg'\n",
        "    \"\"\"\n",
        "    name_list = ('(1,3)', '(2,3)', '(3,3)', '+1', '(1,2)', '#', '(3,2)', '-1', '(1,1)', '(2,1)', '(3,1)', '(4,1)')\n",
        "    color_list = ('cyan', 'teal', 'blue', 'green', 'magenta', 'black', 'yellow', 'red', 'brown', 'pink', 'gray', 'sienna')\n",
        "    counter = 0\n",
        "    index_vector = np.arange(len(utility_list))\n",
        "    for state in range(12):\n",
        "        state_list = list()\n",
        "        for utility_array in utility_list:\n",
        "            state_list.append(utility_array[state])\n",
        "        plt.plot(index_vector, state_list, color=color_list[state], label=name_list[state])\n",
        "        counter += 1\n",
        "    #Adjust the legend and the axis\n",
        "    plt.legend(loc='upper center', bbox_to_anchor=(0.5, 0.4), ncol=3, fancybox=True, shadow=True)\n",
        "    plt.ylim((-1.1, +1.1))\n",
        "    plt.xlim((1, len(utility_list)-1))\n",
        "    plt.ylabel('Utility', fontsize=15)\n",
        "    plt.xlabel('Iterations', fontsize=15)\n",
        "    plt.savefig(\"./output.jpg\", dpi=500)"
      ]
    },
    {
      "cell_type": "code",
      "execution_count": 31,
      "metadata": {
        "id": "8b9WvhSbIEl5"
      },
      "outputs": [
        {
          "name": "stdout",
          "output_type": "stream",
          "text": [
            "=================== FINAL RESULT ==================\n",
            "Iterations: 22\n",
            "Delta: 7.485759478953469e-08\n",
            "Gamma: 0.999\n",
            "Epsilon: 0.0001\n",
            "===================================================\n",
            "[0.80796344 0.86539911 0.91653199 1.        ]\n",
            "[ 0.75696624  0.          0.65836281 -1.        ]\n",
            "[0.69968296 0.64882105 0.60471973 0.38150427]\n",
            "===================================================\n",
            " >   >   >   *  \n",
            " ^   #   ^   *  \n",
            " ^   <   <   <  \n",
            "\n",
            "===================================================\n"
          ]
        },
        {
          "data": {
            "image/png": "[encoded data removed]",
            "text/plain": [
              "<Figure size 640x480 with 1 Axes>"
            ]
          },
          "metadata": {},
          "output_type": "display_data"
        }
      ],
      "source": [
        "mdp = MDP()\n",
        "graph_list = list()\n",
        "\n",
        "while True:\n",
        "    mdp.iteration += 1\n",
        "    #1- Policy evaluation\n",
        "    u_old = mdp.values.copy()\n",
        "    u = mdp.policy_evaluation()\n",
        "    graph_list.append(u_old)\n",
        "    #Stopping criteria\n",
        "    delta = np.absolute(u - u_old).max()\n",
        "    if delta < mdp.epsilon * (1 - mdp.gamma) / mdp.gamma: break\n",
        "    for s in range(12):\n",
        "        if not np.isnan(mdp.policy[s]) and not mdp.policy[s]==-1:\n",
        "            mdp.states = np.zeros((1,12))\n",
        "            mdp.states[0,s] = 1.0\n",
        "            #2- Policy improvement\n",
        "            a = mdp.expected_action()\n",
        "            if a != mdp.policy[s]: mdp.policy[s] = a\n",
        "    # print_policy(mdp.policy, shape=(3,4))\n",
        "\n",
        "print(\"=================== FINAL RESULT ==================\")\n",
        "print(\"Iterations: \" + str(mdp.iteration))\n",
        "print(\"Delta: \" + str(delta))\n",
        "print(\"Gamma: \" + str(mdp.gamma))\n",
        "print(\"Epsilon: \" + str(mdp.epsilon))\n",
        "print(\"===================================================\")\n",
        "print(u[0:4])\n",
        "print(u[4:8])\n",
        "print(u[8:12])\n",
        "print(\"===================================================\")\n",
        "print_policy(mdp.policy, shape=(3,4))\n",
        "print(\"===================================================\")\n",
        "generate_graph(graph_list)"
      ]
    },
    {
      "cell_type": "code",
      "execution_count": null,
      "metadata": {},
      "outputs": [],
      "source": []
    }
  ],
  "metadata": {
    "colab": {
      "provenance": []
    },
    "kernelspec": {
      "display_name": "Python 3 (ipykernel)",
      "language": "python",
      "name": "python3"
    },
    "language_info": {
      "codemirror_mode": {
        "name": "ipython",
        "version": 3
      },
      "file_extension": ".py",
      "mimetype": "text/x-python",
      "name": "python",
      "nbconvert_exporter": "python",
      "pygments_lexer": "ipython3",
      "version": "3.10.13"
    }
  },
  "nbformat": 4,
  "nbformat_minor": 0
}

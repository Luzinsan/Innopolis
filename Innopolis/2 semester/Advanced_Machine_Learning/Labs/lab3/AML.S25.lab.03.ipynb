{
  "cells": [
    {
      "cell_type": "markdown",
      "metadata": {
        "id": "xqXoek6foX8O"
      },
      "source": [
        "# Lab 3: Generative Models (Denoising Diffusion Probabilistic Model)\n",
        "```\n",
        "- [S25] Advanced Machine Learning, Innopolis University\n",
        "- Teaching Assistant: Gcinizwe Dlamini\n",
        "```\n",
        "<hr>\n",
        "\n",
        "```\n",
        "Lab Plan\n",
        "\n",
        "In this lab we will try to build a very simple (as few code as possible) Diffusion Model for generating images.\n",
        "\n",
        "1. The forward process\n",
        "2. The backward process = U-Net\n",
        "3. The Training procedure\n",
        "```"
      ]
    },
    {
      "cell_type": "markdown",
      "metadata": {
        "id": "y-oUK3BsE022"
      },
      "source": [
        "## Recap\n",
        "\n",
        "What have we covered so far and how is it linked to Diffusion Models?"
      ]
    },
    {
      "cell_type": "markdown",
      "metadata": {
        "id": "803IkQ87Dxf2"
      },
      "source": [
        "<!-- ![](https://lilianweng.github.io/posts/2021-07-11-diffusion-models/generative-overview.png) -->\n",
        "<img src='https://lilianweng.github.io/posts/2021-07-11-diffusion-models/generative-overview.png' width=\"100%\" height=\"100%\"/>\n",
        "\n",
        "<!-- <table><tr>\n",
        "<td> <img src='https://lilianweng.github.io/posts/2021-07-11-diffusion-models/generative-overview.png' style=\"width:30%\"/> </td>\n",
        "<td> <img src='https://lilianweng.github.io/posts/2021-07-11-diffusion-models/generative-overview.png' style=\"width:30%\"/> </td>\n",
        "</tr></table> -->"
      ]
    },
    {
      "cell_type": "markdown",
      "metadata": {
        "id": "_gWWs5tMFylD"
      },
      "source": [
        "## Denoising Diffusion Probabilistic Model\n",
        "\n",
        "**Overall Idea:**<br>\n",
        "**Original Publication:** <br>\n",
        "**Application & Usage:**"
      ]
    },
    {
      "cell_type": "markdown",
      "metadata": {
        "id": "utW_MZmhEcHF"
      },
      "source": [
        "![](https://learnopencv.com/wp-content/uploads/2023/02/denoising-diffusion-probabilistic-models-forward_and_backward_equations.png)"
      ]
    },
    {
      "cell_type": "code",
      "execution_count": 5,
      "metadata": {
        "id": "8wlOcKeaBQyj"
      },
      "outputs": [],
      "source": [
        "import torch\n",
        "import torch.nn as nn\n",
        "import torch.nn.functional as F\n",
        "import matplotlib.pyplot as plt\n",
        "\n",
        "import numpy as np\n",
        "\n",
        "from tqdm import tqdm\n",
        "from torchvision.utils import save_image, make_grid\n",
        "from tqdm import tqdm\n",
        "from torch.optim import Adam\n",
        "\n",
        "import math"
      ]
    },
    {
      "cell_type": "markdown",
      "metadata": {
        "id": "hdL5jv9QBTxY"
      },
      "source": [
        "## Model Hyperparameters"
      ]
    },
    {
      "cell_type": "code",
      "execution_count": 6,
      "metadata": {
        "colab": {
          "base_uri": "https://localhost:8080/"
        },
        "id": "kxZ11LX6AvGy",
        "outputId": "073b84d1-8ca7-4532-bb35-7c13f12579c6"
      },
      "outputs": [
        {
          "name": "stdout",
          "output_type": "stream",
          "text": [
            "cuda\n"
          ]
        }
      ],
      "source": [
        "device = torch.device(\"cuda\" if torch.cuda.is_available() else \"cpu\")\n",
        "print(device)\n",
        "img_size = (28, 28, 1) # (width, height, channels)\n",
        "\n",
        "timestep_embedding_dim = 256\n",
        "n_layers = 8\n",
        "hidden_dim = 256\n",
        "n_timesteps = 1000\n",
        "beta_minmax=[1e-4, 2e-2]\n",
        "\n",
        "seed = 1234\n",
        "\n",
        "hidden_dims = [hidden_dim for _ in range(n_layers)]\n",
        "torch.manual_seed(seed)\n",
        "np.random.seed(seed)"
      ]
    },
    {
      "cell_type": "markdown",
      "metadata": {
        "id": "zK4v2Ou1H-Rp"
      },
      "source": [
        "## Dataset\n"
      ]
    },
    {
      "cell_type": "code",
      "execution_count": 7,
      "metadata": {
        "id": "HFkOdCEPIBoI"
      },
      "outputs": [],
      "source": [
        "from torchvision.datasets import MNIST\n",
        "import torchvision.transforms as transforms\n",
        "from torch.utils.data import DataLoader\n",
        "\n",
        "transform = transforms.Compose([\n",
        "    transforms.ToTensor(),\n",
        "    ])\n",
        "\n",
        "train_dataset = MNIST('~/datasets', transform=transform, train=True, download=True)\n",
        "test_dataset  = MNIST('~/datasets', transform=transform, train=False, download=True)\n",
        "\n",
        "train_batch_size = 128\n",
        "inference_batch_size = 64\n",
        "\n",
        "train_loader = DataLoader(dataset=train_dataset, batch_size=train_batch_size, shuffle=True)\n",
        "test_loader  = DataLoader(dataset=test_dataset,  batch_size=inference_batch_size, shuffle=False)"
      ]
    },
    {
      "cell_type": "markdown",
      "metadata": {
        "id": "dpuswzFfGlOa"
      },
      "source": [
        "## Implementation ✨\n",
        "\n",
        "* **Step 1**: Define Foward diffusion\n",
        "* **Step 2**: Define Reverse Diffusion Process\n",
        "* **Step 3:** Train Denoising Diffusion Probabilistic Model (DDPM)\n",
        "\n",
        "**Note:** Implementation closer to original Denoising Diffusion Probabilistic Model paper but with some modifications"
      ]
    },
    {
      "cell_type": "markdown",
      "metadata": {
        "id": "ht0KVo65HwBa"
      },
      "source": [
        "### Step 1: The forward process = Noise scheduler\n",
        "\n",
        "![](https://learnopencv.com/wp-content/uploads/2023/01/diffusion-models-forwardbackward_process_ddpm.png)\n",
        "\n",
        "We first need to build the inputs for our model, which are more and more noisy images. Instead of doing this sequentially, we can use the closed form provided in the papers to calculate the image for any of the timesteps individually.\n",
        "\n",
        "**Key Takeaways**:\n",
        "- The noise-levels/variances can be pre-computed\n",
        "- There are different types of variance schedules\n",
        "- We can sample each timestep image independently (Sums of Gaussians is also Gaussian)\n",
        "- No model is needed in this forward step"
      ]
    },
    {
      "cell_type": "code",
      "execution_count": 8,
      "metadata": {
        "id": "gybxcfO9oUqs"
      },
      "outputs": [],
      "source": [
        "import torch.nn.functional as F\n",
        "\n",
        "def linear_beta_schedule(timesteps, start=0.0001, end=0.02):\n",
        "    return torch.linspace(start, end, timesteps)\n",
        "\n",
        "def get_index_from_list(vals, t, x_shape):\n",
        "    \"\"\"\n",
        "    Returns a specific index t of a passed list of values vals\n",
        "    while considering the batch dimension.\n",
        "    \"\"\"\n",
        "    batch_size = t.shape[0]\n",
        "    out = vals.gather(-1, t.cpu())\n",
        "    return out.reshape(batch_size, *((1,) * (len(x_shape) - 1))).to(t.device)\n",
        "\n",
        "def forward_diffusion_sample(x_0, t, device=\"cpu\"):\n",
        "    \"\"\"\n",
        "    Takes an image and a timestep as input and\n",
        "    returns the noisy version of it\n",
        "    \"\"\"\n",
        "    noise = torch.randn_like(x_0)\n",
        "    sqrt_alphas_cumprod_t = get_index_from_list(sqrt_alphas_cumprod, t, x_0.shape)\n",
        "    sqrt_one_minus_alphas_cumprod_t = get_index_from_list(\n",
        "        sqrt_one_minus_alphas_cumprod, t, x_0.shape\n",
        "    )\n",
        "    # mean + variance\n",
        "    return sqrt_alphas_cumprod_t.to(device) * x_0.to(device) \\\n",
        "    + sqrt_one_minus_alphas_cumprod_t.to(device) * noise.to(device), noise.to(device)\n",
        "\n",
        "\n",
        "# Define beta schedule\n",
        "T = 300\n",
        "betas = linear_beta_schedule(timesteps=T)\n",
        "\n",
        "# Pre-calculate different terms for closed form\n",
        "alphas = 1. - betas\n",
        "alphas_cumprod = torch.cumprod(alphas, axis=0)\n",
        "alphas_cumprod_prev = F.pad(alphas_cumprod[:-1], (1, 0), value=1.0)\n",
        "sqrt_recip_alphas = torch.sqrt(1.0 / alphas)\n",
        "sqrt_alphas_cumprod = torch.sqrt(alphas_cumprod)\n",
        "sqrt_one_minus_alphas_cumprod = torch.sqrt(1. - alphas_cumprod)\n",
        "posterior_variance = betas * (1. - alphas_cumprod_prev) / (1. - alphas_cumprod)"
      ]
    },
    {
      "cell_type": "markdown",
      "metadata": {
        "id": "b1ug6BWRYDIp"
      },
      "source": [
        "#### Visialize the foward diffusion process\n",
        "\n",
        "**Lab TASK**: Implement a function that takes an image represented as a tensor and visualizes it"
      ]
    },
    {
      "cell_type": "code",
      "execution_count": 33,
      "metadata": {
        "id": "nNkd0qY5Xd4j"
      },
      "outputs": [],
      "source": [
        "def show_tensor_image(image_tensor):\n",
        "    \"\"\"Visualize a tensor as an image\"\"\"\n",
        "    if image_tensor.ndim == 4:\n",
        "        image_tensor = image_tensor[0]\n",
        "    image_tensor = image_tensor.detach().cpu().permute(1, 2, 0)\n",
        "    image_tensor = (image_tensor - image_tensor.min()) / (image_tensor.max() - image_tensor.min())\n",
        "    plt.imshow(image_tensor.numpy(), cmap='gray')\n",
        "    # plt.tight_layout()\n"
      ]
    },
    {
      "cell_type": "code",
      "execution_count": 34,
      "metadata": {
        "id": "YovzvX4EXPqZ"
      },
      "outputs": [
        {
          "data": {
            "image/png": "[encoded data removed]",
            "text/plain": [
              "<Figure size 1500x1500 with 11 Axes>"
            ]
          },
          "metadata": {},
          "output_type": "display_data"
        }
      ],
      "source": [
        "# Simulate forward diffusion\n",
        "image = next(iter(train_loader))[0]\n",
        "\n",
        "plt.figure(figsize=(15,15))\n",
        "plt.axis('off')\n",
        "num_images = 10\n",
        "stepsize = int(T/num_images)\n",
        "\n",
        "for idx in range(0, T, stepsize):\n",
        "    t = torch.Tensor([idx]).type(torch.int64)\n",
        "    plt.subplot(1, num_images+1, int(idx/stepsize) + 1)\n",
        "    img, noise = forward_diffusion_sample(image, t)\n",
        "    show_tensor_image(img)"
      ]
    },
    {
      "cell_type": "markdown",
      "metadata": {
        "id": "2Tkxd2sZJTHt"
      },
      "source": [
        "### Step 2: The backward process\n",
        "\n",
        "![](https://learnopencv.com/wp-content/uploads/2023/02/denoising-diffusion-probabilistic-models-overall_reverse_diffusion_process-1024x173.png)\n",
        "\n",
        "In original paper U-net is used to facilitate the backward/reverse process.\n",
        "For a great introduction to UNets, have a look at this post: https://amaarora.github.io/2020/09/13/unet.html.\n",
        "\n",
        "\n",
        "**Key Notes**:\n",
        "- We use a simple stacked-convolution model with various dilations instead of UNet-like architecture to predict the noise in the image\n",
        "- The input is a noisy image, the ouput the noise in the image\n",
        "- Because the parameters are shared accross time, we need to tell the network in which timestep we are\n",
        "- The Timestep is encoded by the transformer Sinusoidal Embedding\n",
        "\n",
        "\n"
      ]
    },
    {
      "cell_type": "markdown",
      "metadata": {
        "id": "e8nFEpFrPIjo"
      },
      "source": [
        "#### Sinusoidal embedding for diffusion timestep"
      ]
    },
    {
      "cell_type": "code",
      "execution_count": 35,
      "metadata": {
        "id": "aWdH0xb-PQcT"
      },
      "outputs": [],
      "source": [
        "class SinusoidalPosEmb(nn.Module):\n",
        "  def __init__(self, dim):\n",
        "    super().__init__()\n",
        "    self.dim = dim\n",
        "\n",
        "  def forward(self, x):\n",
        "    device = x.device\n",
        "    half_dim = self.dim // 2\n",
        "    emb = math.log(10000) / (half_dim - 1)\n",
        "    emb = torch.exp(torch.arange(half_dim, device=device) * -emb)\n",
        "    emb = x[:, None] * emb[None, :]\n",
        "    emb = torch.cat((emb.sin(), emb.cos()), dim=-1)\n",
        "    return emb"
      ]
    },
    {
      "cell_type": "markdown",
      "metadata": {
        "id": "EyOQZr_YPZmF"
      },
      "source": [
        "#### Stacked-convolution model (instead of U-net)"
      ]
    },
    {
      "cell_type": "code",
      "execution_count": 36,
      "metadata": {
        "id": "Qv-heWe4qX18"
      },
      "outputs": [],
      "source": [
        "class ConvBlock(nn.Conv2d):\n",
        "    def __init__(self, in_channels, out_channels, kernel_size, activation_fn=None, drop_rate=0., stride=1,\n",
        "                 padding='same', dilation=1, groups=1, bias=True, gn=False, gn_groups=8):\n",
        "\n",
        "        if padding == 'same':\n",
        "            padding = kernel_size // 2 * dilation\n",
        "\n",
        "        super(ConvBlock, self).__init__(in_channels, out_channels, kernel_size, stride=stride, padding=padding, dilation=dilation, groups=groups, bias=bias)\n",
        "        self.activation_fn = nn.SiLU() if activation_fn else None\n",
        "        self.group_norm = nn.GroupNorm(gn_groups, out_channels) if gn else None\n",
        "\n",
        "    def forward(self, x, time_embedding=None, residual=False):\n",
        "\n",
        "        if residual:\n",
        "            # in the paper, diffusion timestep embedding was only applied to residual blocks of U-Net\n",
        "            x = x + time_embedding\n",
        "            y = x\n",
        "            x = super(ConvBlock, self).forward(x)\n",
        "            y = y + x\n",
        "        else:\n",
        "            y = super(ConvBlock, self).forward(x)\n",
        "        y = self.group_norm(y) if self.group_norm is not None else y\n",
        "        y = self.activation_fn(y) if self.activation_fn is not None else y\n",
        "\n",
        "        return y"
      ]
    },
    {
      "cell_type": "code",
      "execution_count": 37,
      "metadata": {
        "id": "PnAB4VCdPieb"
      },
      "outputs": [],
      "source": [
        "class Denoiser(nn.Module):\n",
        "\n",
        "    def __init__(self, image_resolution, hidden_dims=[256, 256], diffusion_time_embedding_dim = 256, n_times=1000):\n",
        "        super(Denoiser, self).__init__()\n",
        "\n",
        "        _, _, img_C = image_resolution\n",
        "\n",
        "        self.time_embedding = SinusoidalPosEmb(diffusion_time_embedding_dim)\n",
        "        self.in_project = ConvBlock(img_C, hidden_dims[0], kernel_size=7)\n",
        "        self.time_project = nn.Sequential(\n",
        "                                 ConvBlock(diffusion_time_embedding_dim, hidden_dims[0], kernel_size=1, activation_fn=True),\n",
        "                                 ConvBlock(hidden_dims[0], hidden_dims[0], kernel_size=1))\n",
        "\n",
        "        self.convs = nn.ModuleList([ConvBlock(in_channels=hidden_dims[0], out_channels=hidden_dims[0], kernel_size=3)])\n",
        "\n",
        "        for idx in range(1, len(hidden_dims)):\n",
        "            self.convs.append(ConvBlock(hidden_dims[idx-1], hidden_dims[idx], kernel_size=3, dilation=3**((idx-1)//2),\n",
        "                                        activation_fn=True, gn=True, gn_groups=8))\n",
        "\n",
        "        self.out_project = ConvBlock(hidden_dims[-1], out_channels=img_C, kernel_size=3)\n",
        "\n",
        "\n",
        "    def forward(self, perturbed_x, diffusion_timestep):\n",
        "        y = perturbed_x\n",
        "\n",
        "        diffusion_embedding = self.time_embedding(diffusion_timestep)\n",
        "        diffusion_embedding = self.time_project(diffusion_embedding.unsqueeze(-1).unsqueeze(-2))\n",
        "\n",
        "        y = self.in_project(y)\n",
        "\n",
        "        for i in range(len(self.convs)):\n",
        "            y = self.convs[i](y, diffusion_embedding, residual = True)\n",
        "\n",
        "        y = self.out_project(y)\n",
        "\n",
        "        return y\n",
        "\n",
        "denoiser_model = Denoiser(image_resolution=img_size,\n",
        "                          hidden_dims=hidden_dims,\n",
        "                          diffusion_time_embedding_dim=timestep_embedding_dim,\n",
        "                          n_times=n_timesteps).to(device)"
      ]
    },
    {
      "cell_type": "code",
      "execution_count": 38,
      "metadata": {
        "id": "NOx3H5ngKQ34"
      },
      "outputs": [
        {
          "data": {
            "text/plain": [
              "Denoiser(\n",
              "  (time_embedding): SinusoidalPosEmb()\n",
              "  (in_project): ConvBlock(1, 256, kernel_size=(7, 7), stride=(1, 1), padding=(3, 3))\n",
              "  (time_project): Sequential(\n",
              "    (0): ConvBlock(\n",
              "      256, 256, kernel_size=(1, 1), stride=(1, 1)\n",
              "      (activation_fn): SiLU()\n",
              "    )\n",
              "    (1): ConvBlock(256, 256, kernel_size=(1, 1), stride=(1, 1))\n",
              "  )\n",
              "  (convs): ModuleList(\n",
              "    (0): ConvBlock(256, 256, kernel_size=(3, 3), stride=(1, 1), padding=(1, 1))\n",
              "    (1-2): 2 x ConvBlock(\n",
              "      256, 256, kernel_size=(3, 3), stride=(1, 1), padding=(1, 1)\n",
              "      (activation_fn): SiLU()\n",
              "      (group_norm): GroupNorm(8, 256, eps=1e-05, affine=True)\n",
              "    )\n",
              "    (3-4): 2 x ConvBlock(\n",
              "      256, 256, kernel_size=(3, 3), stride=(1, 1), padding=(3, 3), dilation=(3, 3)\n",
              "      (activation_fn): SiLU()\n",
              "      (group_norm): GroupNorm(8, 256, eps=1e-05, affine=True)\n",
              "    )\n",
              "    (5-6): 2 x ConvBlock(\n",
              "      256, 256, kernel_size=(3, 3), stride=(1, 1), padding=(9, 9), dilation=(9, 9)\n",
              "      (activation_fn): SiLU()\n",
              "      (group_norm): GroupNorm(8, 256, eps=1e-05, affine=True)\n",
              "    )\n",
              "    (7): ConvBlock(\n",
              "      256, 256, kernel_size=(3, 3), stride=(1, 1), padding=(27, 27), dilation=(27, 27)\n",
              "      (activation_fn): SiLU()\n",
              "      (group_norm): GroupNorm(8, 256, eps=1e-05, affine=True)\n",
              "    )\n",
              "  )\n",
              "  (out_project): ConvBlock(256, 1, kernel_size=(3, 3), stride=(1, 1), padding=(1, 1))\n",
              ")"
            ]
          },
          "execution_count": 38,
          "metadata": {},
          "output_type": "execute_result"
        }
      ],
      "source": [
        "denoiser_model"
      ]
    },
    {
      "cell_type": "markdown",
      "metadata": {
        "id": "axukUnLeQmgb"
      },
      "source": [
        "## Full Diffusion Model (foward + reverse process)\n",
        "![](https://i.imgur.com/S7KH5hZ.png)"
      ]
    },
    {
      "cell_type": "code",
      "execution_count": 39,
      "metadata": {
        "id": "OcYWwAkKQm-9"
      },
      "outputs": [],
      "source": [
        "class Diffusion(nn.Module):\n",
        "    def __init__(self, model, image_resolution=[32, 32, 3], n_times=1000, beta_minmax=[1e-4, 2e-2], device='cuda'):\n",
        "\n",
        "        super(Diffusion, self).__init__()\n",
        "\n",
        "        self.n_times = n_times\n",
        "        self.img_H, self.img_W, self.img_C = image_resolution\n",
        "\n",
        "        self.model = model\n",
        "\n",
        "        # define linear variance schedule(betas)\n",
        "        beta_1, beta_T = beta_minmax\n",
        "        betas = torch.linspace(start=beta_1, end=beta_T, steps=n_times).to(device) # follows DDPM paper\n",
        "        self.sqrt_betas = torch.sqrt(betas)\n",
        "\n",
        "        # define alpha for forward diffusion kernel\n",
        "        self.alphas = 1 - betas\n",
        "        self.sqrt_alphas = torch.sqrt(self.alphas)\n",
        "        alpha_bars = torch.cumprod(self.alphas, dim=0)\n",
        "        self.sqrt_one_minus_alpha_bars = torch.sqrt(1-alpha_bars)\n",
        "        self.sqrt_alpha_bars = torch.sqrt(alpha_bars)\n",
        "\n",
        "        self.device = device\n",
        "\n",
        "    def extract(self, a, t, x_shape):\n",
        "        b, *_ = t.shape\n",
        "        out = a.gather(-1, t)\n",
        "        return out.reshape(b, *((1,) * (len(x_shape) - 1)))\n",
        "\n",
        "    def scale_to_minus_one_to_one(self, x):\n",
        "        # according to the DDPMs paper, normalization seems to be crucial to train reverse process network\n",
        "        return x * 2 - 1\n",
        "\n",
        "    def reverse_scale_to_zero_to_one(self, x):\n",
        "        return (x + 1) * 0.5\n",
        "\n",
        "    def make_noisy(self, x_zeros, t):\n",
        "        # perturb x_0 into x_t (i.e., take x_0 samples into forward diffusion kernels)\n",
        "        epsilon = torch.randn_like(x_zeros).to(self.device)\n",
        "\n",
        "        sqrt_alpha_bar = self.extract(self.sqrt_alpha_bars, t, x_zeros.shape)\n",
        "        sqrt_one_minus_alpha_bar = self.extract(self.sqrt_one_minus_alpha_bars, t, x_zeros.shape)\n",
        "        noisy_sample = x_zeros * sqrt_alpha_bar + epsilon * sqrt_one_minus_alpha_bar\n",
        "\n",
        "        return noisy_sample.detach(), epsilon\n",
        "\n",
        "\n",
        "    def forward(self, x_zeros):\n",
        "        x_zeros = self.scale_to_minus_one_to_one(x_zeros)\n",
        "\n",
        "        B, _, _, _ = x_zeros.shape\n",
        "\n",
        "        # (1) randomly choose diffusion time-step\n",
        "        t = torch.randint(low=0, high=self.n_times, size=(B,)).long().to(self.device)\n",
        "\n",
        "        # (2) forward diffusion process: perturb x_zeros with fixed variance schedule\n",
        "        perturbed_images, epsilon = self.make_noisy(x_zeros, t)\n",
        "\n",
        "        # (3) predict epsilon/noise given perturbed data at diffusion-timestep t.\n",
        "        pred_epsilon = self.model(perturbed_images, t)\n",
        "\n",
        "        return perturbed_images, epsilon, pred_epsilon\n",
        "\n",
        "\n",
        "    def denoise_at_t(self, x_t, timestep, t):\n",
        "        B, _, _, _ = x_t.shape\n",
        "        if t > 1:\n",
        "            z = torch.randn_like(x_t).to(self.device)\n",
        "        else:\n",
        "            z = torch.zeros_like(x_t).to(self.device)\n",
        "\n",
        "        # at inference, we use predicted noise / epsilon to restore perturbed data sample.\n",
        "        epsilon_pred = self.model(x_t, timestep)\n",
        "\n",
        "        alpha = self.extract(self.alphas, timestep, x_t.shape)\n",
        "        sqrt_alpha = self.extract(self.sqrt_alphas, timestep, x_t.shape)\n",
        "        sqrt_one_minus_alpha_bar = self.extract(self.sqrt_one_minus_alpha_bars, timestep, x_t.shape)\n",
        "        sqrt_beta = self.extract(self.sqrt_betas, timestep, x_t.shape)\n",
        "\n",
        "        # denoise at time t, utilizing predicted noise\n",
        "        x_t_minus_1 = 1 / sqrt_alpha * (x_t - (1-alpha)/sqrt_one_minus_alpha_bar*epsilon_pred) + sqrt_beta*z\n",
        "\n",
        "        return x_t_minus_1.clamp(-1., 1)\n",
        "\n",
        "    def sample(self, N):\n",
        "        # start from random noise vector, x_0 (for simplicity, x_T declared as x_t instead of x_T)\n",
        "        x_t = torch.randn((N, self.img_C, self.img_H, self.img_W)).to(self.device)\n",
        "\n",
        "        # autoregressively denoise from x_T to x_0\n",
        "        for t in range(self.n_times-1, -1, -1):\n",
        "            timestep = torch.tensor([t]).repeat_interleave(N, dim=0).long().to(self.device)\n",
        "            x_t = self.denoise_at_t(x_t, timestep, t)\n",
        "\n",
        "        # denormalize x_0 into 0 ~ 1 ranged values.\n",
        "        x_0 = self.reverse_scale_to_zero_to_one(x_t)\n",
        "\n",
        "        return x_0\n",
        "\n",
        "\n",
        "diffusion_model = Diffusion(denoiser_model, image_resolution=img_size, n_times=n_timesteps,\n",
        "                            beta_minmax=beta_minmax, device=device).to(device)\n",
        "lr = 5e-5\n",
        "optimizer = Adam(diffusion_model.parameters(), lr=lr)\n",
        "denoising_loss = nn.MSELoss()"
      ]
    },
    {
      "cell_type": "code",
      "execution_count": 40,
      "metadata": {
        "colab": {
          "base_uri": "https://localhost:8080/"
        },
        "id": "VCOo4jCCKd91",
        "outputId": "d5d37345-b4d4-4ce4-c054-d1a5162e722f"
      },
      "outputs": [
        {
          "data": {
            "text/plain": [
              "Diffusion(\n",
              "  (model): Denoiser(\n",
              "    (time_embedding): SinusoidalPosEmb()\n",
              "    (in_project): ConvBlock(1, 256, kernel_size=(7, 7), stride=(1, 1), padding=(3, 3))\n",
              "    (time_project): Sequential(\n",
              "      (0): ConvBlock(\n",
              "        256, 256, kernel_size=(1, 1), stride=(1, 1)\n",
              "        (activation_fn): SiLU()\n",
              "      )\n",
              "      (1): ConvBlock(256, 256, kernel_size=(1, 1), stride=(1, 1))\n",
              "    )\n",
              "    (convs): ModuleList(\n",
              "      (0): ConvBlock(256, 256, kernel_size=(3, 3), stride=(1, 1), padding=(1, 1))\n",
              "      (1-2): 2 x ConvBlock(\n",
              "        256, 256, kernel_size=(3, 3), stride=(1, 1), padding=(1, 1)\n",
              "        (activation_fn): SiLU()\n",
              "        (group_norm): GroupNorm(8, 256, eps=1e-05, affine=True)\n",
              "      )\n",
              "      (3-4): 2 x ConvBlock(\n",
              "        256, 256, kernel_size=(3, 3), stride=(1, 1), padding=(3, 3), dilation=(3, 3)\n",
              "        (activation_fn): SiLU()\n",
              "        (group_norm): GroupNorm(8, 256, eps=1e-05, affine=True)\n",
              "      )\n",
              "      (5-6): 2 x ConvBlock(\n",
              "        256, 256, kernel_size=(3, 3), stride=(1, 1), padding=(9, 9), dilation=(9, 9)\n",
              "        (activation_fn): SiLU()\n",
              "        (group_norm): GroupNorm(8, 256, eps=1e-05, affine=True)\n",
              "      )\n",
              "      (7): ConvBlock(\n",
              "        256, 256, kernel_size=(3, 3), stride=(1, 1), padding=(27, 27), dilation=(27, 27)\n",
              "        (activation_fn): SiLU()\n",
              "        (group_norm): GroupNorm(8, 256, eps=1e-05, affine=True)\n",
              "      )\n",
              "    )\n",
              "    (out_project): ConvBlock(256, 1, kernel_size=(3, 3), stride=(1, 1), padding=(1, 1))\n",
              "  )\n",
              ")"
            ]
          },
          "execution_count": 40,
          "metadata": {},
          "output_type": "execute_result"
        }
      ],
      "source": [
        "diffusion_model"
      ]
    },
    {
      "cell_type": "markdown",
      "metadata": {
        "id": "G8M-oVnFTEly"
      },
      "source": [
        "## Step 3. Train Denoising Diffusion Probabilistic Models(DDPMs)\n",
        "![](https://huggingface.co/blog/assets/78_annotated-diffusion/training.png)"
      ]
    },
    {
      "cell_type": "code",
      "execution_count": 41,
      "metadata": {
        "colab": {
          "base_uri": "https://localhost:8080/"
        },
        "id": "XwoXJ3_iTetU",
        "outputId": "d8c58e4d-4093-4cc8-d3fe-eca1b373a641"
      },
      "outputs": [
        {
          "name": "stderr",
          "output_type": "stream",
          "text": [
            "100%|██████████████████████████████████████████████████████████████████████████████████████████████████████████| 469/469 [09:04<00:00,  1.16s/it]\n"
          ]
        },
        {
          "name": "stdout",
          "output_type": "stream",
          "text": [
            "\t[Epoch 1 ]\tDenoising Loss:  0.09988294122342625\n"
          ]
        },
        {
          "name": "stderr",
          "output_type": "stream",
          "text": [
            "100%|██████████████████████████████████████████████████████████████████████████████████████████████████████████| 469/469 [09:17<00:00,  1.19s/it]\n"
          ]
        },
        {
          "name": "stdout",
          "output_type": "stream",
          "text": [
            "\t[Epoch 2 ]\tDenoising Loss:  0.03965247416884726\n"
          ]
        },
        {
          "name": "stderr",
          "output_type": "stream",
          "text": [
            "100%|██████████████████████████████████████████████████████████████████████████████████████████████████████████| 469/469 [10:49<00:00,  1.38s/it]"
          ]
        },
        {
          "name": "stdout",
          "output_type": "stream",
          "text": [
            "\t[Epoch 3 ]\tDenoising Loss:  0.034882795682543107\n"
          ]
        },
        {
          "name": "stderr",
          "output_type": "stream",
          "text": [
            "\n"
          ]
        }
      ],
      "source": [
        "denoiser_model.train()\n",
        "epochs = 3\n",
        "\n",
        "for epoch in range(epochs):\n",
        "    noise_prediction_loss = 0\n",
        "    for batch_idx, (x, _) in tqdm(enumerate(train_loader), total=len(train_loader)):\n",
        "        optimizer.zero_grad()\n",
        "\n",
        "        x = x.to(device)\n",
        "\n",
        "        noisy_input, epsilon, pred_epsilon = diffusion_model(x)\n",
        "        loss = denoising_loss(pred_epsilon, epsilon)\n",
        "\n",
        "        noise_prediction_loss += loss.item()\n",
        "\n",
        "        loss.backward()\n",
        "        optimizer.step()\n",
        "\n",
        "    print(\"\\t[Epoch\", epoch + 1, \"]\\tDenoising Loss: \", noise_prediction_loss / batch_idx)"
      ]
    },
    {
      "cell_type": "markdown",
      "metadata": {
        "id": "g2aTMGi5P9hx"
      },
      "source": [
        "## Results visualization and Generating Images"
      ]
    },
    {
      "cell_type": "code",
      "execution_count": 45,
      "metadata": {
        "id": "c2uJ1CJ_PhdL"
      },
      "outputs": [],
      "source": [
        "# Take one batch from testset\n",
        "denoiser_model.eval()\n",
        "\n",
        "with torch.no_grad():\n",
        "    generated_images = diffusion_model.sample(N=10)\n",
        "\n",
        "def show_image(x, idx):\n",
        "    fig = plt.figure()\n",
        "    plt.imshow(x[idx].transpose(0, 1).transpose(1, 2).detach().cpu().numpy())"
      ]
    },
    {
      "cell_type": "code",
      "execution_count": 46,
      "metadata": {
        "colab": {
          "base_uri": "https://localhost:8080/",
          "height": 430
        },
        "id": "xExL9ZRsQYCP",
        "outputId": "1d3b2a0a-345e-47dc-8911-c79aaadba5dd"
      },
      "outputs": [
        {
          "data": {
            "image/png": "[encoded data removed]",
            "text/plain": [
              "<Figure size 640x480 with 1 Axes>"
            ]
          },
          "metadata": {},
          "output_type": "display_data"
        }
      ],
      "source": [
        "show_image(generated_images, idx=0)"
      ]
    },
    {
      "cell_type": "markdown",
      "metadata": {
        "id": "BKwpFrCBA1DO"
      },
      "source": [
        "# Resources\n",
        "- Github implementation [Denoising Diffusion Pytorch](https://github.com/lucidrains/denoising-diffusion-pytorch)\n",
        "- Niels Rogge, Kashif Rasul, [Huggingface notebook](https://colab.research.google.com/github/huggingface/notebooks/blob/main/examples/annotated_diffusion.ipynb#scrollTo=3a159023)\n",
        "- Papers on Diffusion models ([Dhariwal, Nichol, 2021], [Ho et al., 2020] ect.)\n",
        "- [An In-Depth Guide to Denoising Diffusion Probabilistic Models - From Theory to Implementation](https://learnopencv.com/denoising-diffusion-probabilistic-models/)\n",
        "- [A Survey on Generative Diffusion Model](https://arxiv.org/pdf/2209.02646.pdf)\n"
      ]
    },
    {
      "cell_type": "code",
      "execution_count": null,
      "metadata": {
        "id": "J2xlrqy2A3oO"
      },
      "outputs": [],
      "source": []
    }
  ],
  "metadata": {
    "accelerator": "GPU",
    "colab": {
      "gpuType": "T4",
      "provenance": []
    },
    "kernelspec": {
      "display_name": "Python 3 (ipykernel)",
      "language": "python",
      "name": "python3"
    },
    "language_info": {
      "codemirror_mode": {
        "name": "ipython",
        "version": 3
      },
      "file_extension": ".py",
      "mimetype": "text/x-python",
      "name": "python",
      "nbconvert_exporter": "python",
      "pygments_lexer": "ipython3",
      "version": "3.10.13"
    }
  },
  "nbformat": 4,
  "nbformat_minor": 0
}

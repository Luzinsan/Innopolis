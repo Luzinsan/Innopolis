{
 "cells": [
  {
   "cell_type": "code",
   "execution_count": 2,
   "id": "32c7b8a4",
   "metadata": {
    "execution": {
     "iopub.execute_input": "2024-11-18T20:47:04.023203Z",
     "iopub.status.busy": "2024-11-18T20:47:04.022512Z",
     "iopub.status.idle": "2024-11-18T20:47:05.522737Z",
     "shell.execute_reply": "2024-11-18T20:47:05.522055Z"
    },
    "papermill": {
     "duration": 1.506953,
     "end_time": "2024-11-18T20:47:05.524649",
     "exception": false,
     "start_time": "2024-11-18T20:47:04.017696",
     "status": "completed"
    },
    "tags": []
   },
   "outputs": [],
   "source": [
    "import os\n",
    "import pandas as pd\n",
    "import numpy as np\n",
    "\n",
    "dataset_path = \"dataset\"\n",
    "directory = os.fsencode(dataset_path)\n",
    "file_list = os.listdir(directory)\n",
    "dfs = []\n",
    "for file in file_list:\n",
    "    filename = os.fsdecode(file)\n",
    "    dfs.append(pd.read_csv(f\"{dataset_path}/{filename}\"))"
   ]
  },
  {
   "cell_type": "code",
   "execution_count": 3,
   "id": "90bc9c23",
   "metadata": {
    "execution": {
     "iopub.execute_input": "2024-11-18T20:47:05.531684Z",
     "iopub.status.busy": "2024-11-18T20:47:05.531401Z",
     "iopub.status.idle": "2024-11-18T20:47:05.576813Z",
     "shell.execute_reply": "2024-11-18T20:47:05.575779Z"
    },
    "papermill": {
     "duration": 0.050929,
     "end_time": "2024-11-18T20:47:05.578667",
     "exception": false,
     "start_time": "2024-11-18T20:47:05.527738",
     "status": "completed"
    },
    "tags": []
   },
   "outputs": [
    {
     "name": "stdout",
     "output_type": "stream",
     "text": [
      "We have 1 nan values in df 11.\n",
      "We have 1 nan values in df 25.\n"
     ]
    }
   ],
   "source": [
    "for i in range(len(dfs)):\n",
    "    nan_number = dfs[i].isna().sum().sum()\n",
    "    if nan_number > 0:\n",
    "        print(f\"We have {nan_number} nan values in df {i}.\")"
   ]
  },
  {
   "cell_type": "code",
   "execution_count": 5,
   "id": "a3567255",
   "metadata": {
    "execution": {
     "iopub.execute_input": "2024-11-18T20:47:05.585375Z",
     "iopub.status.busy": "2024-11-18T20:47:05.585113Z",
     "iopub.status.idle": "2024-11-18T20:47:05.599940Z",
     "shell.execute_reply": "2024-11-18T20:47:05.599340Z"
    },
    "papermill": {
     "duration": 0.020112,
     "end_time": "2024-11-18T20:47:05.601658",
     "exception": false,
     "start_time": "2024-11-18T20:47:05.581546",
     "status": "completed"
    },
    "tags": []
   },
   "outputs": [],
   "source": [
    "dfs[0].dropna(inplace=True)\n",
    "dfs[23].dropna(inplace=True)"
   ]
  },
  {
   "cell_type": "code",
   "execution_count": 6,
   "id": "d9aa64fe",
   "metadata": {
    "execution": {
     "iopub.execute_input": "2024-11-18T20:47:05.608640Z",
     "iopub.status.busy": "2024-11-18T20:47:05.608383Z",
     "iopub.status.idle": "2024-11-18T20:47:05.612333Z",
     "shell.execute_reply": "2024-11-18T20:47:05.611666Z"
    },
    "papermill": {
     "duration": 0.009159,
     "end_time": "2024-11-18T20:47:05.613930",
     "exception": false,
     "start_time": "2024-11-18T20:47:05.604771",
     "status": "completed"
    },
    "tags": []
   },
   "outputs": [],
   "source": [
    "CORR_COLS = ['CD',\n",
    " 'NII',\n",
    " 'NL',\n",
    " 'NLE',\n",
    " 'TCD',\n",
    " 'WarningBlocker',\n",
    " 'WarningCritical',\n",
    " 'WarningMajor',\n",
    " 'WarningMinor',\n",
    " 'Documentation Metric Rules',\n",
    " 'TNOS',\n",
    " 'TLOC',\n",
    " 'Size Metric Rules',\n",
    " 'Anti Pattern',\n",
    " 'McCC',\n",
    " 'TCLOC',\n",
    " 'NOS',\n",
    " 'WarningInfo',\n",
    " 'Complexity Metric Rules',\n",
    " 'LOC',\n",
    " 'TLLOC',\n",
    " 'DLOC']"
   ]
  },
  {
   "cell_type": "code",
   "execution_count": 7,
   "id": "f9b82df7",
   "metadata": {
    "execution": {
     "iopub.execute_input": "2024-11-18T20:47:05.620413Z",
     "iopub.status.busy": "2024-11-18T20:47:05.620164Z",
     "iopub.status.idle": "2024-11-18T20:47:06.643392Z",
     "shell.execute_reply": "2024-11-18T20:47:06.642665Z"
    },
    "papermill": {
     "duration": 1.028754,
     "end_time": "2024-11-18T20:47:06.645397",
     "exception": false,
     "start_time": "2024-11-18T20:47:05.616643",
     "status": "completed"
    },
    "tags": []
   },
   "outputs": [],
   "source": [
    "from sklearn.preprocessing import MinMaxScaler\n",
    "\n",
    "def df_transformation(df: pd.DataFrame, correlated_cols) -> pd.DataFrame:\n",
    "    df.drop([\"Name\", \"LongName\", \"Parent\", \"Component\", \"Path\", \"Line\", \"Column\", \"EndLine\", \"EndColumn\", \"ID\"],\n",
    "            axis=1, inplace=True)\n",
    "    df.drop(correlated_cols, axis=1, inplace=True)\n",
    "    scaler = MinMaxScaler()\n",
    "    scaler.fit_transform(df)\n",
    "    return df\n",
    "\n",
    "for df in dfs:\n",
    "    df = df_transformation(df, CORR_COLS)"
   ]
  },
  {
   "cell_type": "code",
   "execution_count": 8,
   "id": "0b8db9ce",
   "metadata": {
    "execution": {
     "iopub.execute_input": "2024-11-18T20:47:06.653481Z",
     "iopub.status.busy": "2024-11-18T20:47:06.653103Z",
     "iopub.status.idle": "2024-11-18T20:47:06.659018Z",
     "shell.execute_reply": "2024-11-18T20:47:06.658225Z"
    },
    "papermill": {
     "duration": 0.012219,
     "end_time": "2024-11-18T20:47:06.660615",
     "exception": false,
     "start_time": "2024-11-18T20:47:06.648396",
     "status": "completed"
    },
    "tags": []
   },
   "outputs": [
    {
     "data": {
      "text/plain": [
       "Index(['CLOC', 'LLOC', 'NOI', 'NUMPAR', 'Coupling Metric Rules'], dtype='object')"
      ]
     },
     "execution_count": 8,
     "metadata": {},
     "output_type": "execute_result"
    }
   ],
   "source": [
    "dfs[0].columns"
   ]
  },
  {
   "cell_type": "code",
   "execution_count": 9,
   "id": "3dbca6d3",
   "metadata": {
    "execution": {
     "iopub.execute_input": "2024-11-18T20:47:06.667386Z",
     "iopub.status.busy": "2024-11-18T20:47:06.667120Z",
     "iopub.status.idle": "2024-11-18T20:47:06.674900Z",
     "shell.execute_reply": "2024-11-18T20:47:06.674198Z"
    },
    "papermill": {
     "duration": 0.013049,
     "end_time": "2024-11-18T20:47:06.676507",
     "exception": false,
     "start_time": "2024-11-18T20:47:06.663458",
     "status": "completed"
    },
    "tags": []
   },
   "outputs": [],
   "source": [
    "def split_df(df: pd.DataFrame):\n",
    "    new_dfs = []\n",
    "    if len(df) > 6000:\n",
    "        new_dfs.extend(split_df(df.iloc[:int(len(df)/2), :]))\n",
    "        new_dfs.extend(split_df(df.iloc[int(len(df)/2):, :]))\n",
    "    else:\n",
    "        new_dfs.append(df)\n",
    "    return new_dfs\n",
    "\n",
    "short_dfs = []\n",
    "df_names = []\n",
    "for i in range(len(dfs)):\n",
    "    new_dfs = split_df(dfs[i])\n",
    "    new_names = [file_list[i]] if len(new_dfs) <= 1 else [f\"{file_list[i]}_{j+1}\" for j in range(len(new_dfs))]\n",
    "    short_dfs.extend(new_dfs)\n",
    "    df_names.extend(new_names)"
   ]
  },
  {
   "cell_type": "code",
   "execution_count": 10,
   "id": "a684f8e1",
   "metadata": {
    "execution": {
     "iopub.execute_input": "2024-11-18T20:47:06.682920Z",
     "iopub.status.busy": "2024-11-18T20:47:06.682670Z",
     "iopub.status.idle": "2024-11-18T20:47:06.688031Z",
     "shell.execute_reply": "2024-11-18T20:47:06.687406Z"
    },
    "papermill": {
     "duration": 0.010148,
     "end_time": "2024-11-18T20:47:06.689454",
     "exception": false,
     "start_time": "2024-11-18T20:47:06.679306",
     "status": "completed"
    },
    "tags": []
   },
   "outputs": [],
   "source": [
    "import numpy as np\n",
    "\n",
    "def initialize_population(num_food_sources, num_features, feature_count):\n",
    "    rng = np.random.default_rng()\n",
    "    population = np.zeros((num_food_sources, num_features), dtype=int)\n",
    "\n",
    "    for i in range(num_food_sources):\n",
    "        # randomly select feature_count indices to set to 1\n",
    "        active_indices = rng.choice(num_features, size=feature_count, replace=False)\n",
    "        population[i, active_indices] = 1\n",
    "    return population\n",
    "\n",
    "# used for generation of solutions during the mutation process\n",
    "def jaccard_dissimilarity(X1, X2):\n",
    "    intersection = np.sum(np.logical_and(X1, X2))\n",
    "    union = np.sum(np.logical_or(X1, X2))\n",
    "    return 1 - intersection / union if union > 0 else 1"
   ]
  },
  {
   "cell_type": "code",
   "execution_count": 11,
   "id": "9d7db9c9",
   "metadata": {
    "execution": {
     "iopub.execute_input": "2024-11-18T20:47:06.695958Z",
     "iopub.status.busy": "2024-11-18T20:47:06.695716Z",
     "iopub.status.idle": "2024-11-18T20:47:06.704708Z",
     "shell.execute_reply": "2024-11-18T20:47:06.703999Z"
    },
    "papermill": {
     "duration": 0.013956,
     "end_time": "2024-11-18T20:47:06.706205",
     "exception": false,
     "start_time": "2024-11-18T20:47:06.692249",
     "status": "completed"
    },
    "tags": []
   },
   "outputs": [],
   "source": [
    "def differential_mutation(food_sources, feature_count, phi, rng):\n",
    "    num_sources = len(food_sources)\n",
    "    mutant_sources = np.zeros_like(food_sources)\n",
    "\n",
    "    for i in range(num_sources):\n",
    "        # choose 3 random neighbours\n",
    "        r1, r2, r3 =  rng.choice([j for j in range(num_sources) if j != i], size=3, replace=False)\n",
    "        Xr1, Xr2, Xr3 = food_sources[r1], food_sources[r2], food_sources[r3]\n",
    "\n",
    "        # calculate scaled jackard dissimilarity\n",
    "        dissimilarity_r2_r3 = jaccard_dissimilarity(Xr2, Xr3)\n",
    "        target_dissimilarity = phi * dissimilarity_r2_r3\n",
    "        \n",
    "        # estimate similarity between new solution and r1\n",
    "        m1 = np.sum(Xr1)\n",
    "        m0 = len(Xr1) - m1\n",
    "\n",
    "        # estimate optimal ms\n",
    "        best_M11, best_M10, best_M01 = 0, 0, 0\n",
    "        min_difference = float('inf')\n",
    "\n",
    "        for M11 in range(m1 + 1):\n",
    "            for M10 in range(m0+1):\n",
    "                M01 = m1 - M11\n",
    "                denominator = M11 + M10 + M01\n",
    "                dissimilarity = 1 - (M11 / denominator if denominator != 0 else 1)\n",
    "                difference = abs(dissimilarity - target_dissimilarity)\n",
    "\n",
    "                if difference < min_difference:\n",
    "                    best_M11, best_M10, best_M01 = M11, M10, M01\n",
    "                    min_difference = difference\n",
    "\n",
    "        # compose le mutant\n",
    "        omega_i = np.zeros(len(food_sources[i]), dtype=int)\n",
    "\n",
    "        active_indices = np.where(Xr1 == 1)[0]\n",
    "        if len(active_indices) >= best_M11:\n",
    "            selected_indices = rng.choice(active_indices, size=best_M11, replace=False)\n",
    "            omega_i[selected_indices] = 1\n",
    "\n",
    "        inactive_indices = np.where(Xr1 == 0)[0]\n",
    "        if len(inactive_indices) >= best_M10:\n",
    "            selected_indices = rng.choice(inactive_indices, size=best_M10, replace=False)\n",
    "            omega_i[selected_indices] = 1\n",
    "\n",
    "        current_active_count = np.sum(omega_i)\n",
    "\n",
    "        if current_active_count < feature_count:\n",
    "            remaining_inactive_indices = np.where(omega_i == 0)[0]\n",
    "            additional_indices = rng.choice(remaining_inactive_indices, size=feature_count - current_active_count, replace=False)\n",
    "            omega_i[additional_indices] = 1\n",
    "\n",
    "        elif current_active_count > feature_count:\n",
    "            excess_active_indices = np.where(omega_i == 1)[0]\n",
    "            removal_indices = rng.choice(excess_active_indices, size=current_active_count - feature_count, replace=False)\n",
    "            omega_i[removal_indices] = 0\n",
    "\n",
    "        mutant_sources[i] = omega_i\n",
    "        # print(mutant_sources)\n",
    "\n",
    "    return mutant_sources"
   ]
  },
  {
   "cell_type": "code",
   "execution_count": 12,
   "id": "da39cc96",
   "metadata": {
    "execution": {
     "iopub.execute_input": "2024-11-18T20:47:06.712558Z",
     "iopub.status.busy": "2024-11-18T20:47:06.712318Z",
     "iopub.status.idle": "2024-11-18T20:47:06.717237Z",
     "shell.execute_reply": "2024-11-18T20:47:06.716570Z"
    },
    "papermill": {
     "duration": 0.009894,
     "end_time": "2024-11-18T20:47:06.718832",
     "exception": false,
     "start_time": "2024-11-18T20:47:06.708938",
     "status": "completed"
    },
    "tags": []
   },
   "outputs": [],
   "source": [
    "def crossover(parent, mutant, crossover_rate, rng, num_features):\n",
    "    offspring = np.where(rng.random(len(parent)) < crossover_rate, mutant, parent)\n",
    "    current_active_count = np.sum(offspring)\n",
    "    if current_active_count < num_features:\n",
    "        inactive_indices = np.where(offspring == 0)[0]\n",
    "        additional_indices = rng.choice(inactive_indices, size=num_features - current_active_count, replace=False)\n",
    "        offspring[additional_indices] = 1\n",
    "\n",
    "    elif current_active_count > num_features:\n",
    "        active_indices = np.where(offspring == 1)[0]\n",
    "        removal_indices = rng.choice(active_indices, size=current_active_count - num_features, replace=False)\n",
    "        offspring[removal_indices] = 0\n",
    "\n",
    "    # print(offspring)\n",
    "    return offspring"
   ]
  },
  {
   "cell_type": "code",
   "execution_count": 13,
   "id": "72d36940",
   "metadata": {
    "execution": {
     "iopub.execute_input": "2024-11-18T20:47:06.725375Z",
     "iopub.status.busy": "2024-11-18T20:47:06.725118Z",
     "iopub.status.idle": "2024-11-18T20:47:08.137190Z",
     "shell.execute_reply": "2024-11-18T20:47:08.136494Z"
    },
    "papermill": {
     "duration": 1.417656,
     "end_time": "2024-11-18T20:47:08.139197",
     "exception": false,
     "start_time": "2024-11-18T20:47:06.721541",
     "status": "completed"
    },
    "tags": []
   },
   "outputs": [],
   "source": [
    "from tqdm import tqdm\n",
    "import cupy as cp\n",
    "\n",
    "def optimized_sammon_error(high_distances, low_dim_data):\n",
    "    low_distances = cp.linalg.norm(low_dim_data[:, None] - low_dim_data, axis=2)\n",
    "    high_dist_sum = cp.sum(high_distances)\n",
    "    sammon_error_value = cp.sum(((high_distances - low_distances) ** 2) / (high_distances + 1e-9)) / high_dist_sum\n",
    "    return sammon_error_value\n",
    "\n",
    "def reduce_features(data, binary_vector):\n",
    "    selected_features = data[:, binary_vector == 1]\n",
    "    return selected_features\n",
    "\n",
    "def mdisabc(num_food_sources, crossover_rate, phi, MAX_LIMIT, max_iterations, feature_count, num_features, dataset: pd.DataFrame):\n",
    "    rng = np.random.default_rng()\n",
    "    food_sources = initialize_population(num_food_sources, num_features, feature_count)\n",
    "    limits = np.zeros(num_food_sources)\n",
    "    best_solution = None\n",
    "    best_error = float('inf')\n",
    "    error_history = []\n",
    "    dataset_norms = cp.linalg.norm(dataset[:, None] - dataset, axis=2)\n",
    "    low_dim_errors = np.zeros(num_food_sources)\n",
    "    sammon_errors = {}\n",
    "\n",
    "    for iteration in tqdm(range(max_iterations)):\n",
    "        mutants = differential_mutation(food_sources, feature_count, phi, rng)\n",
    "        for i in range(num_food_sources):\n",
    "            if tuple(food_sources[i]) not in sammon_errors:\n",
    "                subset_data = reduce_features(dataset, food_sources[i])\n",
    "                current_error = optimized_sammon_error(dataset_norms, subset_data)\n",
    "                sammon_errors[tuple(food_sources[i])] = current_error\n",
    "                # print(current_error)\n",
    "            else:\n",
    "                current_error = sammon_errors[tuple(food_sources[i])]\n",
    "\n",
    "            mutant = mutants[i]\n",
    "            candidate_solution = crossover(food_sources[i], mutant, crossover_rate, rng, feature_count)\n",
    "\n",
    "            if tuple(candidate_solution) not in sammon_errors:\n",
    "                neighbor_subset_data = reduce_features(dataset, candidate_solution)\n",
    "                neighbor_error = optimized_sammon_error(dataset_norms, neighbor_subset_data)\n",
    "                sammon_errors[tuple(candidate_solution)] = neighbor_error\n",
    "            else:\n",
    "                neighbor_error = sammon_errors[tuple(candidate_solution)]\n",
    "\n",
    "            if neighbor_error < current_error:\n",
    "                food_sources[i] = candidate_solution\n",
    "                low_dim_errors[i] = neighbor_error\n",
    "                limits[i] = 0\n",
    "            else:\n",
    "                limits[i] += 1\n",
    "            # print(food_sources[i])\n",
    "\n",
    "            if current_error < best_error:\n",
    "                best_solution = food_sources[i]\n",
    "                best_error = current_error\n",
    "\n",
    "        for i in range(num_food_sources):\n",
    "            if limits[i] >= MAX_LIMIT:\n",
    "                pos_indices = rng.choice(num_features, size=feature_count, replace=False)\n",
    "                food_sources[i]=np.array([1 if i in pos_indices else 0 for i in range(num_features)])\n",
    "                limits[i] = 0\n",
    "\n",
    "        error_history.append(best_error)\n",
    "\n",
    "    return best_solution, error_history"
   ]
  },
  {
   "cell_type": "code",
   "execution_count": 14,
   "id": "95afa50a",
   "metadata": {
    "execution": {
     "iopub.execute_input": "2024-11-18T20:47:08.147628Z",
     "iopub.status.busy": "2024-11-18T20:47:08.147342Z",
     "iopub.status.idle": "2024-11-18T20:47:08.151519Z",
     "shell.execute_reply": "2024-11-18T20:47:08.150870Z"
    },
    "papermill": {
     "duration": 0.010717,
     "end_time": "2024-11-18T20:47:08.153007",
     "exception": false,
     "start_time": "2024-11-18T20:47:08.142290",
     "status": "completed"
    },
    "tags": []
   },
   "outputs": [],
   "source": [
    "open(\"abc.log\", \"a\").close()"
   ]
  },
  {
   "cell_type": "code",
   "execution_count": 16,
   "id": "bcb19ac0",
   "metadata": {
    "execution": {
     "iopub.execute_input": "2024-11-18T20:47:08.159701Z",
     "iopub.status.busy": "2024-11-18T20:47:08.159478Z",
     "iopub.status.idle": "2024-11-18T21:01:19.868747Z",
     "shell.execute_reply": "2024-11-18T21:01:19.867873Z"
    },
    "papermill": {
     "duration": 851.714834,
     "end_time": "2024-11-18T21:01:19.870703",
     "exception": false,
     "start_time": "2024-11-18T20:47:08.155869",
     "status": "completed"
    },
    "tags": []
   },
   "outputs": [
    {
     "name": "stderr",
     "output_type": "stream",
     "text": [
      "100%|███████████████████████████████████████████████████████████████████████████████████████████████████████████████████| 50/50 [00:01<00:00, 47.75it/s]\n",
      "100%|███████████████████████████████████████████████████████████████████████████████████████████████████████████████████| 50/50 [00:00<00:00, 54.60it/s]\n",
      "100%|██████████████████████████████████████████████████████████████████████████████████████████████████████████████████| 50/50 [00:00<00:00, 205.29it/s]\n",
      "100%|██████████████████████████████████████████████████████████████████████████████████████████████████████████████████| 50/50 [00:00<00:00, 213.25it/s]\n",
      "100%|██████████████████████████████████████████████████████████████████████████████████████████████████████████████████| 50/50 [00:00<00:00, 165.25it/s]\n",
      "100%|██████████████████████████████████████████████████████████████████████████████████████████████████████████████████| 50/50 [00:00<00:00, 171.16it/s]\n",
      "100%|███████████████████████████████████████████████████████████████████████████████████████████████████████████████████| 50/50 [00:00<00:00, 66.65it/s]\n",
      "100%|███████████████████████████████████████████████████████████████████████████████████████████████████████████████████| 50/50 [00:00<00:00, 67.53it/s]\n",
      "100%|███████████████████████████████████████████████████████████████████████████████████████████████████████████████████| 50/50 [00:00<00:00, 69.61it/s]\n",
      "100%|███████████████████████████████████████████████████████████████████████████████████████████████████████████████████| 50/50 [00:00<00:00, 69.99it/s]\n",
      "100%|██████████████████████████████████████████████████████████████████████████████████████████████████████████████████| 50/50 [00:00<00:00, 208.14it/s]\n",
      "100%|██████████████████████████████████████████████████████████████████████████████████████████████████████████████████| 50/50 [00:00<00:00, 216.37it/s]\n",
      "100%|██████████████████████████████████████████████████████████████████████████████████████████████████████████████████| 50/50 [00:00<00:00, 121.32it/s]\n",
      "100%|██████████████████████████████████████████████████████████████████████████████████████████████████████████████████| 50/50 [00:00<00:00, 122.86it/s]\n",
      "100%|██████████████████████████████████████████████████████████████████████████████████████████████████████████████████| 50/50 [00:00<00:00, 158.19it/s]\n",
      "100%|██████████████████████████████████████████████████████████████████████████████████████████████████████████████████| 50/50 [00:00<00:00, 159.82it/s]\n",
      "100%|██████████████████████████████████████████████████████████████████████████████████████████████████████████████████| 50/50 [00:00<00:00, 185.85it/s]\n",
      "100%|██████████████████████████████████████████████████████████████████████████████████████████████████████████████████| 50/50 [00:00<00:00, 196.02it/s]\n",
      "100%|███████████████████████████████████████████████████████████████████████████████████████████████████████████████████| 50/50 [00:00<00:00, 71.95it/s]\n",
      "100%|███████████████████████████████████████████████████████████████████████████████████████████████████████████████████| 50/50 [00:00<00:00, 73.42it/s]\n",
      "100%|███████████████████████████████████████████████████████████████████████████████████████████████████████████████████| 50/50 [00:00<00:00, 73.24it/s]\n",
      "100%|███████████████████████████████████████████████████████████████████████████████████████████████████████████████████| 50/50 [00:00<00:00, 73.40it/s]\n",
      "100%|██████████████████████████████████████████████████████████████████████████████████████████████████████████████████| 50/50 [00:00<00:00, 117.03it/s]\n",
      "100%|██████████████████████████████████████████████████████████████████████████████████████████████████████████████████| 50/50 [00:00<00:00, 117.52it/s]\n",
      "100%|███████████████████████████████████████████████████████████████████████████████████████████████████████████████████| 50/50 [00:00<00:00, 50.82it/s]\n",
      "100%|███████████████████████████████████████████████████████████████████████████████████████████████████████████████████| 50/50 [00:00<00:00, 50.63it/s]\n",
      "100%|███████████████████████████████████████████████████████████████████████████████████████████████████████████████████| 50/50 [00:01<00:00, 42.00it/s]\n",
      "100%|███████████████████████████████████████████████████████████████████████████████████████████████████████████████████| 50/50 [00:01<00:00, 41.84it/s]\n",
      "100%|██████████████████████████████████████████████████████████████████████████████████████████████████████████████████| 50/50 [00:00<00:00, 112.85it/s]\n",
      "100%|██████████████████████████████████████████████████████████████████████████████████████████████████████████████████| 50/50 [00:00<00:00, 112.79it/s]\n",
      "100%|██████████████████████████████████████████████████████████████████████████████████████████████████████████████████| 50/50 [00:00<00:00, 140.76it/s]\n",
      "100%|██████████████████████████████████████████████████████████████████████████████████████████████████████████████████| 50/50 [00:00<00:00, 143.48it/s]\n",
      "100%|███████████████████████████████████████████████████████████████████████████████████████████████████████████████████| 50/50 [00:01<00:00, 40.59it/s]\n",
      "100%|███████████████████████████████████████████████████████████████████████████████████████████████████████████████████| 50/50 [00:01<00:00, 40.78it/s]\n",
      "100%|██████████████████████████████████████████████████████████████████████████████████████████████████████████████████| 50/50 [00:00<00:00, 137.70it/s]\n",
      "100%|██████████████████████████████████████████████████████████████████████████████████████████████████████████████████| 50/50 [00:00<00:00, 139.55it/s]\n",
      "100%|██████████████████████████████████████████████████████████████████████████████████████████████████████████████████| 50/50 [00:00<00:00, 138.92it/s]\n",
      "100%|██████████████████████████████████████████████████████████████████████████████████████████████████████████████████| 50/50 [00:00<00:00, 140.42it/s]\n",
      "100%|███████████████████████████████████████████████████████████████████████████████████████████████████████████████████| 50/50 [00:00<00:00, 90.55it/s]\n",
      "100%|███████████████████████████████████████████████████████████████████████████████████████████████████████████████████| 50/50 [00:00<00:00, 90.83it/s]\n",
      "100%|███████████████████████████████████████████████████████████████████████████████████████████████████████████████████| 50/50 [00:00<00:00, 90.07it/s]\n",
      "100%|███████████████████████████████████████████████████████████████████████████████████████████████████████████████████| 50/50 [00:00<00:00, 90.92it/s]\n",
      "100%|███████████████████████████████████████████████████████████████████████████████████████████████████████████████████| 50/50 [00:00<00:00, 90.05it/s]\n",
      "100%|███████████████████████████████████████████████████████████████████████████████████████████████████████████████████| 50/50 [00:00<00:00, 91.24it/s]\n",
      "100%|███████████████████████████████████████████████████████████████████████████████████████████████████████████████████| 50/50 [00:00<00:00, 85.80it/s]\n",
      "100%|███████████████████████████████████████████████████████████████████████████████████████████████████████████████████| 50/50 [00:00<00:00, 74.91it/s]\n",
      "100%|███████████████████████████████████████████████████████████████████████████████████████████████████████████████████| 50/50 [00:00<00:00, 73.41it/s]\n",
      "100%|███████████████████████████████████████████████████████████████████████████████████████████████████████████████████| 50/50 [00:00<00:00, 91.36it/s]\n",
      "100%|███████████████████████████████████████████████████████████████████████████████████████████████████████████████████| 50/50 [00:00<00:00, 89.32it/s]\n",
      "100%|███████████████████████████████████████████████████████████████████████████████████████████████████████████████████| 50/50 [00:00<00:00, 91.12it/s]\n",
      "100%|███████████████████████████████████████████████████████████████████████████████████████████████████████████████████| 50/50 [00:00<00:00, 89.95it/s]\n",
      "100%|███████████████████████████████████████████████████████████████████████████████████████████████████████████████████| 50/50 [00:00<00:00, 91.30it/s]\n",
      "100%|███████████████████████████████████████████████████████████████████████████████████████████████████████████████████| 50/50 [00:00<00:00, 89.41it/s]\n",
      "100%|███████████████████████████████████████████████████████████████████████████████████████████████████████████████████| 50/50 [00:00<00:00, 90.33it/s]\n",
      "100%|██████████████████████████████████████████████████████████████████████████████████████████████████████████████████| 50/50 [00:00<00:00, 214.31it/s]\n",
      "100%|██████████████████████████████████████████████████████████████████████████████████████████████████████████████████| 50/50 [00:00<00:00, 216.46it/s]\n",
      "100%|███████████████████████████████████████████████████████████████████████████████████████████████████████████████████| 50/50 [00:01<00:00, 43.26it/s]\n",
      "100%|███████████████████████████████████████████████████████████████████████████████████████████████████████████████████| 50/50 [00:01<00:00, 43.22it/s]\n",
      "100%|███████████████████████████████████████████████████████████████████████████████████████████████████████████████████| 50/50 [00:01<00:00, 42.91it/s]\n",
      "100%|███████████████████████████████████████████████████████████████████████████████████████████████████████████████████| 50/50 [00:01<00:00, 43.05it/s]\n",
      "100%|██████████████████████████████████████████████████████████████████████████████████████████████████████████████████| 50/50 [00:00<00:00, 200.97it/s]\n",
      "100%|██████████████████████████████████████████████████████████████████████████████████████████████████████████████████| 50/50 [00:00<00:00, 203.40it/s]\n",
      "100%|███████████████████████████████████████████████████████████████████████████████████████████████████████████████████| 50/50 [00:00<00:00, 62.20it/s]\n",
      "100%|███████████████████████████████████████████████████████████████████████████████████████████████████████████████████| 50/50 [00:00<00:00, 62.57it/s]\n",
      "100%|███████████████████████████████████████████████████████████████████████████████████████████████████████████████████| 50/50 [00:00<00:00, 67.91it/s]\n",
      "100%|███████████████████████████████████████████████████████████████████████████████████████████████████████████████████| 50/50 [00:00<00:00, 68.22it/s]\n",
      "100%|███████████████████████████████████████████████████████████████████████████████████████████████████████████████████| 50/50 [00:00<00:00, 67.72it/s]\n",
      "100%|███████████████████████████████████████████████████████████████████████████████████████████████████████████████████| 50/50 [00:00<00:00, 68.42it/s]\n",
      "100%|██████████████████████████████████████████████████████████████████████████████████████████████████████████████████| 50/50 [00:00<00:00, 196.82it/s]\n",
      "100%|██████████████████████████████████████████████████████████████████████████████████████████████████████████████████| 50/50 [00:00<00:00, 203.30it/s]\n",
      "100%|███████████████████████████████████████████████████████████████████████████████████████████████████████████████████| 50/50 [00:00<00:00, 94.21it/s]\n",
      "100%|███████████████████████████████████████████████████████████████████████████████████████████████████████████████████| 50/50 [00:00<00:00, 94.65it/s]\n",
      "100%|███████████████████████████████████████████████████████████████████████████████████████████████████████████████████| 50/50 [00:00<00:00, 93.74it/s]\n",
      "100%|███████████████████████████████████████████████████████████████████████████████████████████████████████████████████| 50/50 [00:00<00:00, 94.62it/s]\n",
      "100%|██████████████████████████████████████████████████████████████████████████████████████████████████████████████████| 50/50 [00:00<00:00, 160.98it/s]\n",
      "100%|██████████████████████████████████████████████████████████████████████████████████████████████████████████████████| 50/50 [00:00<00:00, 162.53it/s]\n"
     ]
    }
   ],
   "source": [
    "import gc\n",
    "\n",
    "with open(\"abc.log\", \"a\", buffering=1) as f:\n",
    "    for i in range(0, len(short_dfs)):\n",
    "        f.write(f\"Working on {df_names[i]}...\\n\\n\")\n",
    "        for feature_count in range(2, len(short_dfs[i].columns)-1):\n",
    "            best_solution, error_history = mdisabc(30, 0.25, 0.9, 50, 50, feature_count, \n",
    "                                                   len(short_dfs[i].columns), cp.array(short_dfs[i].values))\n",
    "            f.write(f\"Reduction to {feature_count} features.\\nBest error: {error_history[-1]}.\\nError history: {error_history}.\\n\\\n",
    "                    Best solution: {best_solution}.\\nSelected subset: {[short_dfs[i].columns[j] for j in np.where(best_solution == 1)[0]]}.\\n\\n\")\n",
    "            if error_history[-1] == 0:\n",
    "                break\n",
    "        gc.collect()"
   ]
  },
  {
   "cell_type": "code",
   "execution_count": null,
   "id": "4d4d04a5",
   "metadata": {},
   "outputs": [],
   "source": []
  }
 ],
 "metadata": {
  "kaggle": {
   "accelerator": "none",
   "dataSources": [
    {
     "datasetId": 6013863,
     "sourceId": 9810302,
     "sourceType": "datasetVersion"
    }
   ],
   "isGpuEnabled": false,
   "isInternetEnabled": true,
   "language": "python",
   "sourceType": "notebook"
  },
  "kernelspec": {
   "display_name": "Python 3 (ipykernel)",
   "language": "python",
   "name": "python3"
  },
  "language_info": {
   "codemirror_mode": {
    "name": "ipython",
    "version": 3
   },
   "file_extension": ".py",
   "mimetype": "text/x-python",
   "name": "python",
   "nbconvert_exporter": "python",
   "pygments_lexer": "ipython3",
   "version": "3.10.12"
  },
  "papermill": {
   "default_parameters": {},
   "duration": 859.110713,
   "end_time": "2024-11-18T21:01:20.659485",
   "environment_variables": {},
   "exception": null,
   "input_path": "__notebook__.ipynb",
   "output_path": "__notebook__.ipynb",
   "parameters": {},
   "start_time": "2024-11-18T20:47:01.548772",
   "version": "2.6.0"
  }
 },
 "nbformat": 4,
 "nbformat_minor": 5
}

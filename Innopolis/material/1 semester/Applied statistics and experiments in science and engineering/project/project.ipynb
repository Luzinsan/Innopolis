{
 "cells": [
  {
   "cell_type": "code",
   "execution_count": 129,
   "metadata": {},
   "outputs": [],
   "source": [
    "from tqdm import tqdm\n",
    "import seaborn as sns\n",
    "import matplotlib.pyplot as plt\n",
    "import numpy as np\n",
    "import pandas as pd\n",
    "import optuna\n",
    "import scipy.io\n",
    "import os, random\n",
    "from clearml import Task\n",
    "from scipy.sparse import csr_matrix\n",
    "\n",
    "seed = 42\n",
    "\n",
    "def seed_everything(seed):\n",
    "    print(\"Seeding...\")\n",
    "    np.random.seed(seed)\n",
    "    random.seed(seed)\n",
    "    os.environ['PYTHONHASHSEED'] = str(seed)\n",
    "    print(\"Seeded everything!\")\n",
    "\n",
    "def add_to_class(Class):\n",
    "    \"\"\"Register functions as methods in created class.\"\"\"\n",
    "    def wrapper(obj):\n",
    "        setattr(Class, obj.__name__, obj)\n",
    "    return wrapper"
   ]
  },
  {
   "cell_type": "code",
   "execution_count": 263,
   "metadata": {},
   "outputs": [],
   "source": [
    "import scipy.sparse\n",
    "\n",
    "\n",
    "class HDDA:\n",
    "\n",
    "    def __init__(self, X, r, y_true=None, precision=2, task_name='BCD', debug=True):\n",
    "        self.precision = precision\n",
    "\n",
    "        if isinstance(X, str):\n",
    "            X = scipy.io.loadmat(X)['X']\n",
    "        elif isinstance(X, np.ndarray) and np.isnan(X).any(): \n",
    "            # then impute np.nan with zeros\n",
    "            X = np.nan_to_num(X, nan=0)\n",
    "          \n",
    "         # Model parameters\n",
    "        self.m, self.n = X.shape  # dimensions of X\n",
    "        self.r = r\n",
    "        self.X  = csr_matrix(X)\n",
    "        self.W = self.X.copy()\n",
    "        self.W.data = np.ones_like(self.W.data)\n",
    "\n",
    "        if y_true:\n",
    "            self.val = pd.read_csv(y_true, header=None)\n",
    "            self.val.columns = ['user', 'movie', 'true']\n",
    "\n",
    "        self.debug = debug\n",
    "        if not debug:\n",
    "            self.task = Task.init(project_name='HDDA', \n",
    "                                task_name=task_name,\n",
    "                                auto_connect_frameworks=False,\n",
    "                                auto_resource_monitoring=False,\n",
    "                                reuse_last_task_id=False)\n",
    "            self.logger = Task.get_logger(self.task)\n",
    "       \n",
    "    def init_UV(self, strategy='eye'):\n",
    "        '''Initialize matrices U and V with eye matrix (or random values)'''\n",
    "        self.UV_strategy = strategy\n",
    "        match strategy:\n",
    "            case 'eye':\n",
    "                self.U = np.eye(self.m, self.r)\n",
    "                self.V = np.eye(self.n, self.r)\n",
    "            case 'random':\n",
    "                self.U = np.random.rand(self.m, self.r)\n",
    "                self.V = np.random.rand(self.n, self.r) * 4 + 1\n",
    "\n",
    "    def calc_errors_matrix(self, U, V):\n",
    "        residual = U @ V.T  # reconstructed matrix\n",
    "        masked_residual = self.W.multiply(self.X - residual)  # error only for known values\n",
    "        return masked_residual\n",
    "\n",
    "    # Function to calculate the weighted loss\n",
    "    @staticmethod\n",
    "    def rmse(error):\n",
    "        \"\"\"Calculate root mean squared error (RMSE) loss.\"\"\"\n",
    "        if isinstance(error, np.ndarray):\n",
    "            return np.sqrt(np.mean((error**2)))\n",
    "        else:\n",
    "            return np.sqrt(error.power(2).mean())\n",
    "    \n",
    "    def log_metrics(self, U, V, idx, log_step, max_iter, prev_loss, tol):\n",
    "        # Compute training error\n",
    "        train_loss = HDDA.rmse(self.calc_errors_matrix(U, V))\n",
    "        if not self.debug:\n",
    "            # Log and print progress\n",
    "            self.logger.report_scalar('loss', 'train', train_loss, idx)\n",
    "        val_loss = np.inf\n",
    "        if idx % log_step == 0 or idx == max_iter - 1:\n",
    "            print(f\"Iteration {idx + 1}: Training Loss = {train_loss:.4f}\")\n",
    "            if hasattr(self, 'val'):\n",
    "                self.predicted_X = self.predict(U, V)\n",
    "                self.val['predicted'] = self.predicted_X[self.val.iloc[:, 0] - 1, \n",
    "                                                         self.val.iloc[:, 1] - 1]\n",
    "                val_loss = HDDA.rmse(np.asarray(self.val['predicted'] - self.val['true']))\n",
    "                if not self.debug:\n",
    "                    self.logger.report_scalar('loss', 'val', val_loss, idx)\n",
    "                print(f\"Validation RMSE: {val_loss:.4f}\")\n",
    "\n",
    "        # Check convergence\n",
    "        if abs(prev_loss - train_loss) < tol:\n",
    "            print(f\"Converged at iteration {idx + 1}\")\n",
    "            print(f\"Training Loss = {train_loss:.4f}\")\n",
    "            if hasattr(self, 'val'):\n",
    "                print(f\"Validation RMSE: {val_loss:.4f}\")\n",
    "            return True, train_loss, val_loss\n",
    "        else: return False, train_loss, val_loss\n",
    "        \n",
    "    \n",
    "    def predict(self, U, V):\n",
    "        return np.round(U @ V.T, self.precision)\n",
    "    \n",
    "\n",
    "    def test(self, path='./inputEval.mat', predicts_path='predicts.csv'):\n",
    "        res = scipy.io.loadmat(path)\n",
    "        print(res['Eval'].shape)\n",
    "        test_predicts = self.predicted_X[res['Eval'][:,0]- 1, \n",
    "                                         res['Eval'][:,1] - 1]\n",
    "        print(test_predicts.shape)\n",
    "        self.test_predicts = pd.Series(data=test_predicts, \n",
    "                                       index=range(1, test_predicts.shape[0]+1))\n",
    "        self.test_predicts.to_csv(predicts_path, index_label='ID', header=['Rating'])\n",
    "        return self.test_predicts\n",
    "    \n",
    "    \n",
    "    def show_error_heatmap(self, scale=10):\n",
    "        errors_matrix = self.calc_errors_matrix(self.U, self.V)\n",
    "        errors_matrix = abs(errors_matrix.toarray()[:scale,:scale])\n",
    "        mask = self.W.toarray()[:scale,:scale].astype(bool)\n",
    "        sns.heatmap(errors_matrix, \n",
    "                    annot=True, vmin=0, vmax=5, \n",
    "                    mask=~mask).set_title('Errors Heatmap')\n",
    "        if not self.debug:\n",
    "            self.logger.report_confusion_matrix('Errors Heatmap', 'series', errors_matrix, iteration=1)"
   ]
  },
  {
   "cell_type": "markdown",
   "metadata": {},
   "source": [
    "# Nonnegative Matrix Factorization (NMF)"
   ]
  },
  {
   "cell_type": "markdown",
   "metadata": {},
   "source": [
    "The **Multiplicative Update (MU)** algorithm iteratively updates $( W )$ and $( H )$ by minimizing the reconstruction error:\n",
    "$[\n",
    "\\min_{W, H} || X - WH ||_F^2\n",
    "]$\n",
    "subject to $( W \\geq 0 )$ and $( H \\geq 0 )$. Here, $( || \\cdot ||_F )$ denotes the Frobenius norm.\n",
    "\n",
    "#### Update Equations\n",
    "\n",
    "The MU algorithm applies the following element-wise update rules for $( W )$ and $( H )$:\n",
    "\n",
    "1. **Update for $( H )$**:\n",
    "   $[\n",
    "   H \\leftarrow H \\circ \\frac{W^T X}{W^T WH}\n",
    "   ]$\n",
    "\n",
    "2. **Update for $( W )$**:\n",
    "   $[\n",
    "   W \\leftarrow W \\circ \\frac{X H^T}{W H H^T}\n",
    "   ]$\n",
    "   \n",
    "where $( \\circ )$ denotes element-wise multiplication, and division is also element-wise.\n"
   ]
  },
  {
   "cell_type": "code",
   "execution_count": 94,
   "metadata": {},
   "outputs": [],
   "source": [
    "@add_to_class(HDDA)\n",
    "def NMF(self, max_iter=100, log_step=2, tol=1e-6):\n",
    "    \"\"\"\n",
    "    Performs Nonnegative Matrix Factorization using the Multiplicative Update algorithm.\n",
    "    \n",
    "    Parameters:\n",
    "        max_iter (int): The maximum number of iterations.\n",
    "        tol (float): The tolerance for convergence.\n",
    "    \"\"\"\n",
    "    self.task.connect(dict(max_iter=max_iter, \n",
    "                           latency_factors=self.r, \n",
    "                           UV_init_strategy=self.UV_strategy))\n",
    "    logger = Task.get_logger(self.task)\n",
    "\n",
    "    train_losses = []\n",
    "    val_losses = []\n",
    "    prev_error = np.inf\n",
    "\n",
    "    for idx in tqdm(range(max_iter), desc='Training'):\n",
    "        # Update V by fixing U\n",
    "        self.V = self.V * ((self.U.T @ self.X)/(self.U.T @ self.U @ self.V + 1e-10))\n",
    "        # Update U by fixing V\n",
    "        self.U = self.U * ((self.X @ self.V.T)/(self.U @ self.V @ self.V.T + 1e-10))\n",
    "        \n",
    "        loss = np.linalg.norm(self.calc_errors_matrix(self.U, self.V), 'fro')\n",
    "        logger.report_scalar('loss', 'train', loss, idx)\n",
    "        \n",
    "        if idx % log_step == 0:\n",
    "            train_losses.append(loss)\n",
    "            print(f\"Iteration {idx}: Loss = {loss:.4f}\")\n",
    "            \n",
    "            self.predicted_X = self.predict(self.U, self.V) # Final predicted preference matrix\n",
    "            if hasattr(self, 'val'):\n",
    "                self.val['predicted'] = self.predicted_X[self.val.iloc[:,0]  - 1, \n",
    "                                                         self.val.iloc[:,1] - 1]\n",
    "                val_loss = HDDA.rmse(np.asarray(self.val['predicted'] - self.val['true']))\n",
    "                val_losses.append(val_loss)\n",
    "                logger.report_scalar('loss', 'val', val_loss, idx)\n",
    "\n",
    "                print(\"RMSE on val: \", val_loss, '\\n')\n",
    "            if (prev_error-loss) < tol:\n",
    "                print(\"Converged.\")\n",
    "                break\n",
    "            prev_error = loss\n",
    "        if np.isnan(loss):\n",
    "            print(\"LOSS: \", loss)\n",
    "            break\n",
    "    if hasattr(self, 'val'):\n",
    "        logger.report_single_value('loss/val', val_loss)\n",
    "        self.finish_val_loss = val_loss\n",
    "\n",
    "    return self.predicted_X"
   ]
  },
  {
   "cell_type": "code",
   "execution_count": 95,
   "metadata": {},
   "outputs": [
    {
     "ename": "ValueError",
     "evalue": "unrecognized csr_matrix constructor input: [[ 2.  3.  2. nan nan]\n [nan  2. nan  4.  3.]\n [ 3. nan  3. nan  4.]\n [nan  3. nan  4.  3.]\n [nan nan nan nan  2.]\n [ 1.  4.  3.  4. nan]\n [ 5.  3.  2. nan nan]]",
     "output_type": "error",
     "traceback": [
      "\u001b[0;31m---------------------------------------------------------------------------\u001b[0m",
      "\u001b[0;31mTypeError\u001b[0m                                 Traceback (most recent call last)",
      "File \u001b[0;32m~/.cache/pypoetry/virtualenvs/hdda-ogT78WGF-py3.10/lib/python3.10/site-packages/scipy/sparse/_compressed.py:84\u001b[0m, in \u001b[0;36m_cs_matrix.__init__\u001b[0;34m(self, arg1, shape, dtype, copy)\u001b[0m\n\u001b[1;32m     83\u001b[0m \u001b[38;5;28;01mtry\u001b[39;00m:\n\u001b[0;32m---> 84\u001b[0m     arg1 \u001b[38;5;241m=\u001b[39m \u001b[43mnp\u001b[49m\u001b[38;5;241;43m.\u001b[39;49m\u001b[43masarray\u001b[49m\u001b[43m(\u001b[49m\u001b[43marg1\u001b[49m\u001b[43m)\u001b[49m\n\u001b[1;32m     85\u001b[0m \u001b[38;5;28;01mexcept\u001b[39;00m \u001b[38;5;167;01mException\u001b[39;00m \u001b[38;5;28;01mas\u001b[39;00m e:\n",
      "File \u001b[0;32mcupy/_core/core.pyx:1481\u001b[0m, in \u001b[0;36mcupy._core.core._ndarray_base.__array__\u001b[0;34m()\u001b[0m\n",
      "\u001b[0;31mTypeError\u001b[0m: Implicit conversion to a NumPy array is not allowed. Please use `.get()` to construct a NumPy array explicitly.",
      "\nThe above exception was the direct cause of the following exception:\n",
      "\u001b[0;31mValueError\u001b[0m                                Traceback (most recent call last)",
      "Cell \u001b[0;32mIn[95], line 1\u001b[0m\n\u001b[0;32m----> 1\u001b[0m test_NMF_method \u001b[38;5;241m=\u001b[39m \u001b[43mHDDA\u001b[49m\u001b[43m(\u001b[49m\u001b[43mX\u001b[49m\u001b[38;5;241;43m=\u001b[39;49m\u001b[43mnp\u001b[49m\u001b[38;5;241;43m.\u001b[39;49m\u001b[43marray\u001b[49m\u001b[43m(\u001b[49m\u001b[43m[\u001b[49m\n\u001b[1;32m      2\u001b[0m \u001b[43m                    \u001b[49m\u001b[43m[\u001b[49m\u001b[38;5;241;43m2\u001b[39;49m\u001b[43m,\u001b[49m\u001b[43m \u001b[49m\u001b[38;5;241;43m3\u001b[39;49m\u001b[43m,\u001b[49m\u001b[43m \u001b[49m\u001b[38;5;241;43m2\u001b[39;49m\u001b[43m,\u001b[49m\u001b[43m \u001b[49m\u001b[43mnp\u001b[49m\u001b[38;5;241;43m.\u001b[39;49m\u001b[43mnan\u001b[49m\u001b[43m,\u001b[49m\u001b[43m \u001b[49m\u001b[43mnp\u001b[49m\u001b[38;5;241;43m.\u001b[39;49m\u001b[43mnan\u001b[49m\u001b[43m]\u001b[49m\u001b[43m,\u001b[49m\n\u001b[1;32m      3\u001b[0m \u001b[43m                    \u001b[49m\u001b[43m[\u001b[49m\u001b[43mnp\u001b[49m\u001b[38;5;241;43m.\u001b[39;49m\u001b[43mnan\u001b[49m\u001b[43m,\u001b[49m\u001b[43m \u001b[49m\u001b[38;5;241;43m2\u001b[39;49m\u001b[43m,\u001b[49m\u001b[43m \u001b[49m\u001b[43mnp\u001b[49m\u001b[38;5;241;43m.\u001b[39;49m\u001b[43mnan\u001b[49m\u001b[43m,\u001b[49m\u001b[43m \u001b[49m\u001b[38;5;241;43m4\u001b[39;49m\u001b[43m,\u001b[49m\u001b[43m \u001b[49m\u001b[38;5;241;43m3\u001b[39;49m\u001b[43m]\u001b[49m\u001b[43m,\u001b[49m\n\u001b[1;32m      4\u001b[0m \u001b[43m                    \u001b[49m\u001b[43m[\u001b[49m\u001b[38;5;241;43m3\u001b[39;49m\u001b[43m,\u001b[49m\u001b[43m \u001b[49m\u001b[43mnp\u001b[49m\u001b[38;5;241;43m.\u001b[39;49m\u001b[43mnan\u001b[49m\u001b[43m,\u001b[49m\u001b[43m \u001b[49m\u001b[38;5;241;43m3\u001b[39;49m\u001b[43m,\u001b[49m\u001b[43m \u001b[49m\u001b[43mnp\u001b[49m\u001b[38;5;241;43m.\u001b[39;49m\u001b[43mnan\u001b[49m\u001b[43m,\u001b[49m\u001b[43m \u001b[49m\u001b[38;5;241;43m4\u001b[39;49m\u001b[43m]\u001b[49m\u001b[43m,\u001b[49m\n\u001b[1;32m      5\u001b[0m \u001b[43m                    \u001b[49m\u001b[43m[\u001b[49m\u001b[43mnp\u001b[49m\u001b[38;5;241;43m.\u001b[39;49m\u001b[43mnan\u001b[49m\u001b[43m,\u001b[49m\u001b[43m \u001b[49m\u001b[38;5;241;43m3\u001b[39;49m\u001b[43m,\u001b[49m\u001b[43m \u001b[49m\u001b[43mnp\u001b[49m\u001b[38;5;241;43m.\u001b[39;49m\u001b[43mnan\u001b[49m\u001b[43m,\u001b[49m\u001b[43m \u001b[49m\u001b[38;5;241;43m4\u001b[39;49m\u001b[43m,\u001b[49m\u001b[43m \u001b[49m\u001b[38;5;241;43m3\u001b[39;49m\u001b[43m]\u001b[49m\u001b[43m,\u001b[49m\n\u001b[1;32m      6\u001b[0m \u001b[43m                    \u001b[49m\u001b[43m[\u001b[49m\u001b[43mnp\u001b[49m\u001b[38;5;241;43m.\u001b[39;49m\u001b[43mnan\u001b[49m\u001b[43m,\u001b[49m\u001b[43m \u001b[49m\u001b[43mnp\u001b[49m\u001b[38;5;241;43m.\u001b[39;49m\u001b[43mnan\u001b[49m\u001b[43m,\u001b[49m\u001b[43m \u001b[49m\u001b[43mnp\u001b[49m\u001b[38;5;241;43m.\u001b[39;49m\u001b[43mnan\u001b[49m\u001b[43m,\u001b[49m\u001b[43m \u001b[49m\u001b[43mnp\u001b[49m\u001b[38;5;241;43m.\u001b[39;49m\u001b[43mnan\u001b[49m\u001b[43m,\u001b[49m\u001b[43m \u001b[49m\u001b[38;5;241;43m2\u001b[39;49m\u001b[43m]\u001b[49m\u001b[43m,\u001b[49m\n\u001b[1;32m      7\u001b[0m \u001b[43m                    \u001b[49m\u001b[43m[\u001b[49m\u001b[38;5;241;43m1\u001b[39;49m\u001b[43m,\u001b[49m\u001b[43m \u001b[49m\u001b[38;5;241;43m4\u001b[39;49m\u001b[43m,\u001b[49m\u001b[43m \u001b[49m\u001b[38;5;241;43m3\u001b[39;49m\u001b[43m,\u001b[49m\u001b[43m \u001b[49m\u001b[38;5;241;43m4\u001b[39;49m\u001b[43m,\u001b[49m\u001b[43m \u001b[49m\u001b[43mnp\u001b[49m\u001b[38;5;241;43m.\u001b[39;49m\u001b[43mnan\u001b[49m\u001b[43m]\u001b[49m\u001b[43m,\u001b[49m\n\u001b[1;32m      8\u001b[0m \u001b[43m                    \u001b[49m\u001b[43m[\u001b[49m\u001b[38;5;241;43m5\u001b[39;49m\u001b[43m,\u001b[49m\u001b[43m \u001b[49m\u001b[38;5;241;43m3\u001b[39;49m\u001b[43m,\u001b[49m\u001b[43m \u001b[49m\u001b[38;5;241;43m2\u001b[39;49m\u001b[43m,\u001b[49m\u001b[43m \u001b[49m\u001b[43mnp\u001b[49m\u001b[38;5;241;43m.\u001b[39;49m\u001b[43mnan\u001b[49m\u001b[43m,\u001b[49m\u001b[43m \u001b[49m\u001b[43mnp\u001b[49m\u001b[38;5;241;43m.\u001b[39;49m\u001b[43mnan\u001b[49m\u001b[43m]\u001b[49m\u001b[43m]\u001b[49m\u001b[43m)\u001b[49m\u001b[43m,\u001b[49m\n\u001b[1;32m      9\u001b[0m \u001b[43m                \u001b[49m\u001b[43mr\u001b[49m\u001b[38;5;241;43m=\u001b[39;49m\u001b[38;5;241;43m2\u001b[39;49m\u001b[43m,\u001b[49m\u001b[43m \u001b[49m\u001b[43mtask_name\u001b[49m\u001b[38;5;241;43m=\u001b[39;49m\u001b[38;5;124;43m'\u001b[39;49m\u001b[38;5;124;43mtest_NMF\u001b[39;49m\u001b[38;5;124;43m'\u001b[39;49m\n\u001b[1;32m     10\u001b[0m \u001b[43m    \u001b[49m\u001b[43m)\u001b[49m\n\u001b[1;32m     11\u001b[0m test_NMF_method\u001b[38;5;241m.\u001b[39minit_UV(\u001b[38;5;124m'\u001b[39m\u001b[38;5;124mrandom\u001b[39m\u001b[38;5;124m'\u001b[39m)\n\u001b[1;32m     12\u001b[0m test_NMF_method\u001b[38;5;241m.\u001b[39mNMF(max_iter\u001b[38;5;241m=\u001b[39m\u001b[38;5;241m10000\u001b[39m, log_step\u001b[38;5;241m=\u001b[39m\u001b[38;5;241m100\u001b[39m, tol\u001b[38;5;241m=\u001b[39m\u001b[38;5;241m1e-10\u001b[39m)\n",
      "Cell \u001b[0;32mIn[93], line 7\u001b[0m, in \u001b[0;36mHDDA.__init__\u001b[0;34m(self, X, r, y_true, precision, task_name)\u001b[0m\n\u001b[1;32m      4\u001b[0m \u001b[38;5;28mself\u001b[39m\u001b[38;5;241m.\u001b[39mprecision \u001b[38;5;241m=\u001b[39m precision\n\u001b[1;32m      6\u001b[0m \u001b[38;5;28;01mif\u001b[39;00m \u001b[38;5;28misinstance\u001b[39m(X, np\u001b[38;5;241m.\u001b[39mndarray):\n\u001b[0;32m----> 7\u001b[0m     \u001b[38;5;28mself\u001b[39m\u001b[38;5;241m.\u001b[39mX  \u001b[38;5;241m=\u001b[39m \u001b[43mcsr_matrix\u001b[49m\u001b[43m(\u001b[49m\u001b[43mX\u001b[49m\u001b[43m)\u001b[49m\n\u001b[1;32m      8\u001b[0m \u001b[38;5;28;01melif\u001b[39;00m \u001b[38;5;28misinstance\u001b[39m(X, \u001b[38;5;28mstr\u001b[39m):\n\u001b[1;32m      9\u001b[0m     X \u001b[38;5;241m=\u001b[39m scipy\u001b[38;5;241m.\u001b[39mio\u001b[38;5;241m.\u001b[39mloadmat(X)\n",
      "File \u001b[0;32m~/.cache/pypoetry/virtualenvs/hdda-ogT78WGF-py3.10/lib/python3.10/site-packages/scipy/sparse/_compressed.py:86\u001b[0m, in \u001b[0;36m_cs_matrix.__init__\u001b[0;34m(self, arg1, shape, dtype, copy)\u001b[0m\n\u001b[1;32m     84\u001b[0m     arg1 \u001b[38;5;241m=\u001b[39m np\u001b[38;5;241m.\u001b[39masarray(arg1)\n\u001b[1;32m     85\u001b[0m \u001b[38;5;28;01mexcept\u001b[39;00m \u001b[38;5;167;01mException\u001b[39;00m \u001b[38;5;28;01mas\u001b[39;00m e:\n\u001b[0;32m---> 86\u001b[0m     \u001b[38;5;28;01mraise\u001b[39;00m \u001b[38;5;167;01mValueError\u001b[39;00m(\u001b[38;5;124mf\u001b[39m\u001b[38;5;124m\"\u001b[39m\u001b[38;5;124munrecognized \u001b[39m\u001b[38;5;132;01m{\u001b[39;00m\u001b[38;5;28mself\u001b[39m\u001b[38;5;241m.\u001b[39m\u001b[38;5;18m__class__\u001b[39m\u001b[38;5;241m.\u001b[39m\u001b[38;5;18m__name__\u001b[39m\u001b[38;5;132;01m}\u001b[39;00m\u001b[38;5;124m \u001b[39m\u001b[38;5;124m\"\u001b[39m\n\u001b[1;32m     87\u001b[0m                      \u001b[38;5;124mf\u001b[39m\u001b[38;5;124m\"\u001b[39m\u001b[38;5;124mconstructor input: \u001b[39m\u001b[38;5;132;01m{\u001b[39;00marg1\u001b[38;5;132;01m}\u001b[39;00m\u001b[38;5;124m\"\u001b[39m) \u001b[38;5;28;01mfrom\u001b[39;00m \u001b[38;5;21;01me\u001b[39;00m\n\u001b[1;32m     88\u001b[0m \u001b[38;5;28;01mif\u001b[39;00m \u001b[38;5;28misinstance\u001b[39m(\u001b[38;5;28mself\u001b[39m, sparray) \u001b[38;5;129;01mand\u001b[39;00m arg1\u001b[38;5;241m.\u001b[39mndim \u001b[38;5;241m<\u001b[39m \u001b[38;5;241m2\u001b[39m \u001b[38;5;129;01mand\u001b[39;00m \u001b[38;5;28mself\u001b[39m\u001b[38;5;241m.\u001b[39mformat \u001b[38;5;241m==\u001b[39m \u001b[38;5;124m\"\u001b[39m\u001b[38;5;124mcsc\u001b[39m\u001b[38;5;124m\"\u001b[39m:\n\u001b[1;32m     89\u001b[0m     \u001b[38;5;28;01mraise\u001b[39;00m \u001b[38;5;167;01mValueError\u001b[39;00m(\n\u001b[1;32m     90\u001b[0m         \u001b[38;5;124mf\u001b[39m\u001b[38;5;124m\"\u001b[39m\u001b[38;5;124mCSC arrays don\u001b[39m\u001b[38;5;124m'\u001b[39m\u001b[38;5;124mt support \u001b[39m\u001b[38;5;132;01m{\u001b[39;00marg1\u001b[38;5;241m.\u001b[39mndim\u001b[38;5;132;01m}\u001b[39;00m\u001b[38;5;124mD input. Use 2D\u001b[39m\u001b[38;5;124m\"\u001b[39m\n\u001b[1;32m     91\u001b[0m     )\n",
      "\u001b[0;31mValueError\u001b[0m: unrecognized csr_matrix constructor input: [[ 2.  3.  2. nan nan]\n [nan  2. nan  4.  3.]\n [ 3. nan  3. nan  4.]\n [nan  3. nan  4.  3.]\n [nan nan nan nan  2.]\n [ 1.  4.  3.  4. nan]\n [ 5.  3.  2. nan nan]]"
     ]
    }
   ],
   "source": [
    "test_NMF_method = HDDA(X=np.array([\n",
    "                    [2, 3, 2, np.nan, np.nan],\n",
    "                    [np.nan, 2, np.nan, 4, 3],\n",
    "                    [3, np.nan, 3, np.nan, 4],\n",
    "                    [np.nan, 3, np.nan, 4, 3],\n",
    "                    [np.nan, np.nan, np.nan, np.nan, 2],\n",
    "                    [1, 4, 3, 4, np.nan],\n",
    "                    [5, 3, 2, np.nan, np.nan]]),\n",
    "                r=2, task_name='test_NMF'\n",
    "    )\n",
    "test_NMF_method.init_UV('random')\n",
    "test_NMF_method.NMF(max_iter=10000, log_step=100, tol=1e-10)\n",
    "test_NMF_method.show_error_heatmap(max(test_NMF_method.m, test_NMF_method.n))\n",
    "test_NMF_method.task.close()"
   ]
  },
  {
   "cell_type": "code",
   "execution_count": 4,
   "metadata": {},
   "outputs": [
    {
     "name": "stdout",
     "output_type": "stream",
     "text": [
      "ClearML Task: created new task id=5586b7abfe9d4660905e45e02dc3bcb3\n",
      "2024-11-19 15:06:02,976 - clearml.Task - INFO - Storing jupyter notebook directly as code\n",
      "ClearML results page: https://app.clear.ml/projects/520a519c5b09413f9400a52e9dbf3d61/experiments/5586b7abfe9d4660905e45e02dc3bcb3/output/log\n"
     ]
    },
    {
     "name": "stderr",
     "output_type": "stream",
     "text": [
      " ... (more hidden) ..."
     ]
    },
    {
     "name": "stdout",
     "output_type": "stream",
     "text": [
      "Iteration 0: Loss = 1066.6884\n",
      "RMSE on val:  1.1924690522451649 \n",
      "\n"
     ]
    },
    {
     "name": "stderr",
     "output_type": "stream",
     "text": [
      " ... (more hidden) ..."
     ]
    },
    {
     "name": "stdout",
     "output_type": "stream",
     "text": [
      "Iteration 100: Loss = 1049.8101\n",
      "RMSE on val:  1.1736064719160788 \n",
      "\n"
     ]
    },
    {
     "name": "stderr",
     "output_type": "stream",
     "text": [
      " ... (more hidden) ..."
     ]
    },
    {
     "name": "stdout",
     "output_type": "stream",
     "text": [
      "Iteration 200: Loss = 1046.3211\n",
      "RMSE on val:  1.1697031268616631 \n",
      "\n"
     ]
    },
    {
     "name": "stderr",
     "output_type": "stream",
     "text": [
      " ... (more hidden) ..."
     ]
    },
    {
     "name": "stdout",
     "output_type": "stream",
     "text": [
      "Iteration 300: Loss = 1036.3303\n",
      "RMSE on val:  1.1585365387736153 \n",
      "\n"
     ]
    },
    {
     "name": "stderr",
     "output_type": "stream",
     "text": [
      " ... (more hidden) ..."
     ]
    },
    {
     "name": "stdout",
     "output_type": "stream",
     "text": [
      "Iteration 400: Loss = 1022.8472\n",
      "RMSE on val:  1.1434573696584374 \n",
      "\n"
     ]
    },
    {
     "name": "stderr",
     "output_type": "stream",
     "text": [
      " ... (more hidden) ..."
     ]
    },
    {
     "name": "stdout",
     "output_type": "stream",
     "text": [
      "Iteration 500: Loss = 1014.7271\n",
      "RMSE on val:  1.134384191357295 \n",
      "\n"
     ]
    },
    {
     "name": "stderr",
     "output_type": "stream",
     "text": [
      " ... (more hidden) ..."
     ]
    },
    {
     "name": "stdout",
     "output_type": "stream",
     "text": [
      "Iteration 600: Loss = 1009.8408\n",
      "RMSE on val:  1.1289253493529472 \n",
      "\n"
     ]
    },
    {
     "name": "stderr",
     "output_type": "stream",
     "text": [
      " ... (more hidden) ..."
     ]
    },
    {
     "name": "stdout",
     "output_type": "stream",
     "text": [
      "Iteration 700: Loss = 1006.0326\n",
      "RMSE on val:  1.1246648751729984 \n",
      "\n"
     ]
    },
    {
     "name": "stderr",
     "output_type": "stream",
     "text": [
      " ... (more hidden) ..."
     ]
    },
    {
     "name": "stdout",
     "output_type": "stream",
     "text": [
      "Iteration 800: Loss = 1002.7742\n",
      "RMSE on val:  1.121017678525424 \n",
      "\n"
     ]
    },
    {
     "name": "stderr",
     "output_type": "stream",
     "text": [
      " ... (more hidden) ..."
     ]
    },
    {
     "name": "stdout",
     "output_type": "stream",
     "text": [
      "Iteration 900: Loss = 1000.0160\n",
      "RMSE on val:  1.1179381794681877 \n",
      "\n"
     ]
    },
    {
     "name": "stderr",
     "output_type": "stream",
     "text": [
      " ... (more hidden) ..."
     ]
    },
    {
     "name": "stdout",
     "output_type": "stream",
     "text": [
      "Iteration 1000: Loss = 997.7311\n",
      "RMSE on val:  1.1153899122043323 \n",
      "\n"
     ]
    },
    {
     "name": "stderr",
     "output_type": "stream",
     "text": [
      " ... (more hidden) ..."
     ]
    },
    {
     "name": "stdout",
     "output_type": "stream",
     "text": [
      "Iteration 1100: Loss = 995.8411\n",
      "RMSE on val:  1.1132723808854017 \n",
      "\n"
     ]
    },
    {
     "name": "stderr",
     "output_type": "stream",
     "text": [
      " ... (more hidden) ..."
     ]
    },
    {
     "name": "stdout",
     "output_type": "stream",
     "text": [
      "Iteration 1200: Loss = 994.2510\n",
      "RMSE on val:  1.1114924676954827 \n",
      "\n"
     ]
    },
    {
     "name": "stderr",
     "output_type": "stream",
     "text": [
      " ... (more hidden) ..."
     ]
    },
    {
     "name": "stdout",
     "output_type": "stream",
     "text": [
      "Iteration 1300: Loss = 992.8765\n",
      "RMSE on val:  1.1099559813438957 \n",
      "\n"
     ]
    },
    {
     "name": "stderr",
     "output_type": "stream",
     "text": [
      " ... (more hidden) ..."
     ]
    },
    {
     "name": "stdout",
     "output_type": "stream",
     "text": [
      "Iteration 1400: Loss = 991.6537\n",
      "RMSE on val:  1.1085872996439226 \n",
      "\n"
     ]
    },
    {
     "name": "stderr",
     "output_type": "stream",
     "text": [
      " ... (more hidden) ..."
     ]
    },
    {
     "name": "stdout",
     "output_type": "stream",
     "text": [
      "Iteration 1500: Loss = 990.5409\n",
      "RMSE on val:  1.1073452491950322 \n",
      "\n"
     ]
    },
    {
     "name": "stderr",
     "output_type": "stream",
     "text": [
      " ... (more hidden) ..."
     ]
    },
    {
     "name": "stdout",
     "output_type": "stream",
     "text": [
      "Iteration 1600: Loss = 989.5136\n",
      "RMSE on val:  1.106201718372032 \n",
      "\n"
     ]
    },
    {
     "name": "stderr",
     "output_type": "stream",
     "text": [
      "\n"
     ]
    },
    {
     "ename": "KeyboardInterrupt",
     "evalue": "",
     "output_type": "error",
     "traceback": [
      "\u001b[0;31m---------------------------------------------------------------------------\u001b[0m",
      "\u001b[0;31mKeyboardInterrupt\u001b[0m                         Traceback (most recent call last)",
      "Cell \u001b[0;32mIn[4], line 6\u001b[0m\n\u001b[1;32m      3\u001b[0m kaggle_NMF \u001b[38;5;241m=\u001b[39m HDDA(X\u001b[38;5;241m=\u001b[39m\u001b[38;5;124m'\u001b[39m\u001b[38;5;124m./inputX.mat\u001b[39m\u001b[38;5;124m'\u001b[39m, r\u001b[38;5;241m=\u001b[39mconfigs[\u001b[38;5;124m'\u001b[39m\u001b[38;5;124mr\u001b[39m\u001b[38;5;124m'\u001b[39m], y_true\u001b[38;5;241m=\u001b[39m\u001b[38;5;124m'\u001b[39m\u001b[38;5;124m./ratings_given.csv\u001b[39m\u001b[38;5;124m'\u001b[39m, task_name\u001b[38;5;241m=\u001b[39m\u001b[38;5;124m'\u001b[39m\u001b[38;5;124mkaggle_NMF_fix\u001b[39m\u001b[38;5;124m'\u001b[39m)\n\u001b[1;32m      4\u001b[0m kaggle_NMF\u001b[38;5;241m.\u001b[39minit_UV(\u001b[38;5;124m'\u001b[39m\u001b[38;5;124mrandom\u001b[39m\u001b[38;5;124m'\u001b[39m)\n\u001b[0;32m----> 6\u001b[0m \u001b[43mkaggle_NMF\u001b[49m\u001b[38;5;241;43m.\u001b[39;49m\u001b[43mNMF\u001b[49m\u001b[43m(\u001b[49m\u001b[43mmax_iter\u001b[49m\u001b[38;5;241;43m=\u001b[39;49m\u001b[43mconfigs\u001b[49m\u001b[43m[\u001b[49m\u001b[38;5;124;43m'\u001b[39;49m\u001b[38;5;124;43mmax_iter\u001b[39;49m\u001b[38;5;124;43m'\u001b[39;49m\u001b[43m]\u001b[49m\u001b[43m,\u001b[49m\u001b[43m \u001b[49m\u001b[43mlog_step\u001b[49m\u001b[38;5;241;43m=\u001b[39;49m\u001b[38;5;241;43m100\u001b[39;49m\u001b[43m,\u001b[49m\u001b[43m \u001b[49m\u001b[43mtol\u001b[49m\u001b[38;5;241;43m=\u001b[39;49m\u001b[38;5;241;43m1e-5\u001b[39;49m\u001b[43m)\u001b[49m\n\u001b[1;32m      7\u001b[0m kaggle_NMF\u001b[38;5;241m.\u001b[39mshow_error_heatmap(\u001b[38;5;241m15\u001b[39m)\n\u001b[1;32m      9\u001b[0m predicts_path \u001b[38;5;241m=\u001b[39m \u001b[38;5;124m'\u001b[39m\u001b[38;5;124mpredicts_NMF.csv\u001b[39m\u001b[38;5;124m'\u001b[39m\n",
      "Cell \u001b[0;32mIn[3], line 25\u001b[0m, in \u001b[0;36mNMF\u001b[0;34m(self, max_iter, log_step, tol)\u001b[0m\n\u001b[1;32m     22\u001b[0m \u001b[38;5;66;03m# Update U by fixing V\u001b[39;00m\n\u001b[1;32m     23\u001b[0m \u001b[38;5;28mself\u001b[39m\u001b[38;5;241m.\u001b[39mU \u001b[38;5;241m=\u001b[39m \u001b[38;5;28mself\u001b[39m\u001b[38;5;241m.\u001b[39mU \u001b[38;5;241m*\u001b[39m ((\u001b[38;5;28mself\u001b[39m\u001b[38;5;241m.\u001b[39mX \u001b[38;5;241m@\u001b[39m \u001b[38;5;28mself\u001b[39m\u001b[38;5;241m.\u001b[39mV\u001b[38;5;241m.\u001b[39mT)\u001b[38;5;241m/\u001b[39m(\u001b[38;5;28mself\u001b[39m\u001b[38;5;241m.\u001b[39mU \u001b[38;5;241m@\u001b[39m \u001b[38;5;28mself\u001b[39m\u001b[38;5;241m.\u001b[39mV \u001b[38;5;241m@\u001b[39m \u001b[38;5;28mself\u001b[39m\u001b[38;5;241m.\u001b[39mV\u001b[38;5;241m.\u001b[39mT \u001b[38;5;241m+\u001b[39m \u001b[38;5;241m1e-10\u001b[39m))\n\u001b[0;32m---> 25\u001b[0m loss \u001b[38;5;241m=\u001b[39m \u001b[43mnp\u001b[49m\u001b[38;5;241;43m.\u001b[39;49m\u001b[43mlinalg\u001b[49m\u001b[38;5;241;43m.\u001b[39;49m\u001b[43mnorm\u001b[49m\u001b[43m(\u001b[49m\u001b[38;5;28;43mself\u001b[39;49m\u001b[38;5;241;43m.\u001b[39;49m\u001b[43mcalc_errors_matrix\u001b[49m\u001b[43m(\u001b[49m\u001b[38;5;28;43mself\u001b[39;49m\u001b[38;5;241;43m.\u001b[39;49m\u001b[43mU\u001b[49m\u001b[43m,\u001b[49m\u001b[43m \u001b[49m\u001b[38;5;28;43mself\u001b[39;49m\u001b[38;5;241;43m.\u001b[39;49m\u001b[43mV\u001b[49m\u001b[43m)\u001b[49m\u001b[43m,\u001b[49m\u001b[43m \u001b[49m\u001b[38;5;124;43m'\u001b[39;49m\u001b[38;5;124;43mfro\u001b[39;49m\u001b[38;5;124;43m'\u001b[39;49m\u001b[43m)\u001b[49m\n\u001b[1;32m     26\u001b[0m logger\u001b[38;5;241m.\u001b[39mreport_scalar(\u001b[38;5;124m'\u001b[39m\u001b[38;5;124mloss\u001b[39m\u001b[38;5;124m'\u001b[39m, \u001b[38;5;124m'\u001b[39m\u001b[38;5;124mtrain\u001b[39m\u001b[38;5;124m'\u001b[39m, loss, idx)\n\u001b[1;32m     28\u001b[0m \u001b[38;5;28;01mif\u001b[39;00m idx \u001b[38;5;241m%\u001b[39m log_step \u001b[38;5;241m==\u001b[39m \u001b[38;5;241m0\u001b[39m:\n",
      "File \u001b[0;32m~/.cache/pypoetry/virtualenvs/hdda-ogT78WGF-py3.10/lib/python3.10/site-packages/cupy/linalg/_norms.py:62\u001b[0m, in \u001b[0;36mnorm\u001b[0;34m(x, ord, axis, keepdims)\u001b[0m\n\u001b[1;32m     60\u001b[0m     ret \u001b[38;5;241m=\u001b[39m cupy\u001b[38;5;241m.\u001b[39msqrt(s\u001b[38;5;241m.\u001b[39msum())\n\u001b[1;32m     61\u001b[0m \u001b[38;5;28;01melse\u001b[39;00m:\n\u001b[0;32m---> 62\u001b[0m     ret \u001b[38;5;241m=\u001b[39m \u001b[43mcupy\u001b[49m\u001b[38;5;241;43m.\u001b[39;49m\u001b[43msqrt\u001b[49m\u001b[43m(\u001b[49m\u001b[43m(\u001b[49m\u001b[43mx\u001b[49m\u001b[43m \u001b[49m\u001b[38;5;241;43m*\u001b[39;49m\u001b[43m \u001b[49m\u001b[43mx\u001b[49m\u001b[43m)\u001b[49m\u001b[38;5;241;43m.\u001b[39;49m\u001b[43msum\u001b[49m\u001b[43m(\u001b[49m\u001b[43m)\u001b[49m\u001b[43m)\u001b[49m\n\u001b[1;32m     63\u001b[0m \u001b[38;5;28;01mif\u001b[39;00m keepdims:\n\u001b[1;32m     64\u001b[0m     ret \u001b[38;5;241m=\u001b[39m ret\u001b[38;5;241m.\u001b[39mreshape((\u001b[38;5;241m1\u001b[39m,) \u001b[38;5;241m*\u001b[39m ndim)\n",
      "File \u001b[0;32m~/.cache/pypoetry/virtualenvs/hdda-ogT78WGF-py3.10/lib/python3.10/site-packages/clearml/utilities/process/exit_hooks.py:157\u001b[0m, in \u001b[0;36mExitHooks.signal_handler\u001b[0;34m(self, sig, frame)\u001b[0m\n\u001b[1;32m    154\u001b[0m \u001b[38;5;66;03m# if this is a sig term, we wait until __at_exit is called (basically do nothing)\u001b[39;00m\n\u001b[1;32m    155\u001b[0m \u001b[38;5;28;01mif\u001b[39;00m sig \u001b[38;5;241m==\u001b[39m signal\u001b[38;5;241m.\u001b[39mSIGINT:\n\u001b[1;32m    156\u001b[0m     \u001b[38;5;66;03m# return original handler result\u001b[39;00m\n\u001b[0;32m--> 157\u001b[0m     \u001b[38;5;28;01mreturn\u001b[39;00m org_handler \u001b[38;5;28;01mif\u001b[39;00m \u001b[38;5;129;01mnot\u001b[39;00m \u001b[38;5;28mcallable\u001b[39m(org_handler) \u001b[38;5;28;01melse\u001b[39;00m \u001b[43morg_handler\u001b[49m\u001b[43m(\u001b[49m\u001b[43msig\u001b[49m\u001b[43m,\u001b[49m\u001b[43m \u001b[49m\u001b[43mframe\u001b[49m\u001b[43m)\u001b[49m\n\u001b[1;32m    159\u001b[0m \u001b[38;5;28;01mif\u001b[39;00m \u001b[38;5;28mself\u001b[39m\u001b[38;5;241m.\u001b[39m_signal_recursion_protection_flag:\n\u001b[1;32m    160\u001b[0m     \u001b[38;5;66;03m# call original\u001b[39;00m\n\u001b[1;32m    161\u001b[0m     os\u001b[38;5;241m.\u001b[39mkill(os\u001b[38;5;241m.\u001b[39mgetpid(), sig)\n",
      "\u001b[0;31mKeyboardInterrupt\u001b[0m: "
     ]
    }
   ],
   "source": [
    "configs = dict(max_iter=100000, r=15)\n",
    "\n",
    "kaggle_NMF = HDDA(X='./inputX.mat', r=configs['r'], y_true='./ratings_given.csv', task_name='kaggle_NMF_fix')\n",
    "kaggle_NMF.init_UV('random')\n",
    "\n",
    "kaggle_NMF.NMF(max_iter=configs['max_iter'], log_step=100, tol=1e-5)\n",
    "kaggle_NMF.show_error_heatmap(15)\n",
    "\n",
    "predicts_path = 'predicts_NMF.csv'\n",
    "kaggle_NMF.test(path='./inputEval.mat', predicts_path=predicts_path)\n",
    "kaggle_NMF.task.close()"
   ]
  },
  {
   "cell_type": "code",
   "execution_count": null,
   "metadata": {},
   "outputs": [
    {
     "name": "stdout",
     "output_type": "stream",
     "text": [
      "100%|██████████████████████████████████████| 2.16M/2.16M [00:01<00:00, 1.23MB/s]\n",
      "Successfully submitted to Recommendation System Project"
     ]
    }
   ],
   "source": [
    "# Warning: we have only 10 submissions per 4 hours, use it carefully!\n",
    "# !kaggle competitions submit -c recommendation-systems -f {predicts_path} -m \"Nonnegative Matrix Factorization method with: {configs['r']} latency factors, 9900 iters, {kaggle_NMF.finish_val_loss} rmse on validation\""
   ]
  },
  {
   "cell_type": "markdown",
   "metadata": {},
   "source": [
    "It give us 1.1098 rmse on test set (on the kaggle): 15 latency factors, 9900 iterations, 1.08976 rmse on validation set with nonnegative matrix factorization method."
   ]
  },
  {
   "cell_type": "markdown",
   "metadata": {},
   "source": [
    "As bigger rank we put, as bigger divergence between test and validate scores we have. More appropriate rank ~15"
   ]
  },
  {
   "cell_type": "markdown",
   "metadata": {},
   "source": [
    "# A. Block coordinate descent method"
   ]
  },
  {
   "cell_type": "markdown",
   "metadata": {},
   "source": [
    "https://dspace.mit.edu/bitstream/handle/1721.1/3164/P-1924-21454764.pdf?sequence=1&isAllowed=y"
   ]
  },
  {
   "cell_type": "markdown",
   "metadata": {},
   "source": [
    "### 1. **Problem Statement**\n",
    "The method seeks to decompose a matrix $X$ into two low-rank matrices $ U \\in \\mathbb{R}^{m \\times r} $ and $ V \\in \\mathbb{R}^{n \\times r} $, such that:  \n",
    "$$\n",
    "X \\approx UV^T\n",
    "$$\n",
    "The optimization problem can be written as:\n",
    "$$\n",
    "\\min_{U, V} \\|W \\odot (X - UV^T)\\|_F^2 + \\lambda_{\\text{reg}} \\left(\\|U\\|_F^2 + \\|V\\|_F^2 \\right)\n",
    "$$\n",
    "where:\n",
    "- $ W $ is a binary mask matrix indicating observed entries ($ W_{ij} = 1 $ if $ X_{ij} $ is observed, $ 0 $ otherwise).\n",
    "- $ \\odot $ represents element-wise multiplication (Hadamard product).\n",
    "- $ \\lambda_{\\text{reg}} $ is a regularization parameter to prevent overfitting.\n",
    "- $ \\| \\cdot \\|_F $ denotes the Frobenius norm.\n",
    "\n",
    "---\n",
    "\n",
    "### 2. **Alternating Updates**\n",
    "The method alternates between solving for $ U $ and $ V $ while fixing the other. These updates involve solving quadratic subproblems derived from the above objective.\n",
    "\n",
    "#### a) **Fix $ U $, Update $ V $:**\n",
    "For each column $ j $ of $ V $, the update is:\n",
    "$$\n",
    "V[j, :] = \\arg\\min_{v_j} \\| W[:, j] \\odot (X[:, j] - U v_j^T) \\|_2^2 + \\lambda_{\\text{reg}} \\|v_j\\|_2^2\n",
    "$$\n",
    "- Extract only the known entries in column $ j $:  \n",
    "  $ \\text{Known indices: } \\text{known\\_idx} = \\{i : W[i, j] = 1\\} $.  \n",
    "  $ U_{\\text{known}} \\in \\mathbb{R}^{|\\text{known\\_idx}| \\times r} $ and $ X_{\\text{known}} \\in \\mathbb{R}^{|\\text{known\\_idx}|} $.\n",
    "\n",
    "- Solve the **normal equation**:\n",
    "$$\n",
    "A = U_{\\text{known}}^T U_{\\text{known}} + \\lambda_{\\text{reg}} I_r, \\quad b = U_{\\text{known}}^T X_{\\text{known}}\n",
    "$$\n",
    "$$\n",
    "V[j, :] = A^{-1} b\n",
    "$$\n",
    "\n",
    "#### b) **Fix $ V $, Update $ U $:**\n",
    "Similarly, for each row $ i $ of $ U $, the update is:\n",
    "$$\n",
    "U[i, :] = \\arg\\min_{u_i} \\| W[i, :] \\odot (X[i, :] - V u_i^T) \\|_2^2 + \\lambda_{\\text{reg}} \\|u_i\\|_2^2\n",
    "$$\n",
    "- Extract only the known entries in row $ i $:  \n",
    "  $ \\text{Known indices: } \\text{known\\_idx} = \\{j : W[i, j] = 1\\} $.  \n",
    "  $ V_{\\text{known}} \\in \\mathbb{R}^{|\\text{known\\_idx}| \\times r} $ and $ X_{\\text{known}} \\in \\mathbb{R}^{|\\text{known\\_idx}|} $.\n",
    "\n",
    "- Solve the **normal equation**:\n",
    "$$\n",
    "A = V_{\\text{known}}^T V_{\\text{known}} + \\lambda_{\\text{reg}} I_r, \\quad b = V_{\\text{known}}^T X_{\\text{known}}^T\n",
    "$$\n",
    "$$\n",
    "U[i, :] = A^{-1} b\n",
    "$$\n",
    "\n",
    "---\n",
    "\n",
    "### 3. **Regularization and Stability**\n",
    "The regularization term $ \\lambda_{\\text{reg}} I_r $ is added to the diagonal of $ A $ in the normal equations. This ensures:\n",
    "1. Numerical stability of matrix inversion.\n",
    "2. Prevention of overfitting by penalizing large values in $ U $ and $ V $.\n",
    "\n",
    "---\n",
    "\n",
    "### 4. **Convergence**\n",
    "The algorithm checks for convergence based on the change in the training loss:\n",
    "$$\n",
    "\\text{Loss} = \\|W \\odot (X - UV^T)\\|_F^2 + \\lambda_{\\text{reg}} \\left(\\|U\\|_F^2 + \\|V\\|_F^2 \\right)\n",
    "$$\n",
    "If the change in loss between iterations is less than a tolerance $ \\text{tol} $, or the maximum number of iterations $ \\text{max\\_iter} $ is reached, the process stops.\n",
    "\n",
    "---\n",
    "\n",
    "### 5. **Key Features**\n",
    "- **Sparse Data Handling:** The updates utilize only the observed (non-zero) entries of $ X $, making the method efficient for large, sparse datasets.\n",
    "- **Analytic Updates:** Closed-form solutions for $ U $ and $ V $ ensure efficient optimization.\n",
    "- **Alternating Least Squares (ALS):** The block-coordinate updates alternate between solving for $ U $ and $ V $, making this a specific case of BCD."
   ]
  },
  {
   "cell_type": "code",
   "execution_count": 264,
   "metadata": {},
   "outputs": [],
   "source": [
    "@add_to_class(HDDA)\n",
    "def BCD(self, max_iter=100, tol=1e-4, lambda_reg=0.1, log_step=10):\n",
    "    \"\"\"\n",
    "    Performs Matrix Factorization (MF) using Block Coordinate Descent (BCD) \n",
    "    with Alternating Least Squares (ALS) to minimize the reconstruction error \n",
    "    of a given sparse matrix.\n",
    "\n",
    "    Parameters:\n",
    "    -----------\n",
    "    max_iter : int, optional, default=100\n",
    "        The maximum number of iterations for the optimization algorithm.\n",
    "\n",
    "    tol : float, optional, default=1e-4\n",
    "        The tolerance for convergence. If the change in the training loss \n",
    "        between consecutive iterations is smaller than this value, \n",
    "        the algorithm stops.\n",
    "\n",
    "    lambda_reg : float, optional, default=0.1\n",
    "        Regularization parameter to control overfitting. A larger value \n",
    "        penalizes large values in the matrices `U` and `V`.\n",
    "\n",
    "    log_step : int, optional, default=10\n",
    "        Frequency of logging progress during training. Metrics will be logged \n",
    "        every `log_step` iterations.\n",
    "\n",
    "    Returns:\n",
    "    --------\n",
    "    numpy.ndarray\n",
    "        The predicted matrix `UV^T` after factorization.\n",
    "\n",
    "    Attributes Modified:\n",
    "    --------------------\n",
    "    U : numpy.ndarray\n",
    "        The user-factor matrix (updated during the process).\n",
    "\n",
    "    V : numpy.ndarray\n",
    "        The item-factor matrix (updated during the process).\n",
    "\n",
    "    train_losses : list of float\n",
    "        A record of the training loss at each iteration.\n",
    "\n",
    "    val_losses : list of float\n",
    "        A record of the validation loss at each iteration (if validation \n",
    "        data is provided).\n",
    "\n",
    "    Method Description:\n",
    "    --------------------\n",
    "    This method factorizes the input matrix `X` into two low-rank matrices \n",
    "    `U` and `V` by alternating between optimizing for `U` while keeping `V` \n",
    "    fixed, and optimizing for `V` while keeping `U` fixed. The optimization \n",
    "    is regularized using L2 regularization to avoid overfitting.\n",
    "\n",
    "    The optimization problem solved is:\n",
    "        min_{U, V} || W ⊙ (X - UV^T) ||_F^2 + lambda_reg * (||U||_F^2 + ||V||_F^2)\n",
    "    where:\n",
    "        - `W` is a binary mask indicating observed entries in `X`.\n",
    "        - `⊙` denotes the element-wise (Hadamard) product.\n",
    "        - `||·||_F` denotes the Frobenius norm.\n",
    "\n",
    "    The algorithm:\n",
    "    --------------\n",
    "    1. Initialize `U` and `V` randomly or with a predefined method.\n",
    "    2. For each iteration:\n",
    "       a. Fix `U` and update `V` using the normal equation:\n",
    "          V[j, :] = (UᵀU + λI)⁻¹(UᵀX[:, j]).\n",
    "       b. Fix `V` and update `U` using the normal equation:\n",
    "          U[i, :] = (VᵀV + λI)⁻¹(VᵀX[i, :]).\n",
    "    3. Compute training and validation losses.\n",
    "    4. Stop when the change in training loss is less than `tol`, or \n",
    "       `max_iter` is reached.\n",
    "\n",
    "    Notes:\n",
    "    ------\n",
    "    - This method is particularly suited for sparse matrices as it only \n",
    "      operates on the non-zero entries of the input matrix `X`.\n",
    "    - The regularization parameter `lambda_reg` plays a crucial role in \n",
    "      balancing model complexity and overfitting.\n",
    "\n",
    "    Examples:\n",
    "    ---------\n",
    "    >>> model = HDDA(X, W, r=10)\n",
    "    >>> predictions = model.BCD(max_iter=50, tol=1e-5, lambda_reg=0.05)\n",
    "    >>> print(predictions)\n",
    "    \"\"\"\n",
    "    if not self.debug:\n",
    "        self.task.connect(dict(max_iter=max_iter, lambda_reg=lambda_reg, tol=tol))\n",
    "        \n",
    "    train_losses = []\n",
    "    val_losses = []\n",
    "    prev_loss = np.inf\n",
    "\n",
    "    for idx in tqdm(range(max_iter), desc=\"Block coordinate descent method: min f(U,V)\"):\n",
    "        \n",
    "        for j in tqdm(range(self.n), desc='Fix U and update V'):\n",
    "            # Extract known entries for column j\n",
    "            known_idx = self.W[:, j].nonzero()[0]\n",
    "            U_known = self.U[known_idx, :]\n",
    "            X_known = self.X[known_idx, j]\n",
    "\n",
    "            # Solve for V[:,j] using the normal equation\n",
    "            A = U_known.T @ U_known + lambda_reg * np.eye(self.r)\n",
    "            b = U_known.T @ X_known\n",
    "            self.V[j, :] = np.linalg.solve(A, b).T\n",
    "\n",
    "        for i in tqdm(range(self.m), desc='Fix new V and update U'):\n",
    "            # Extract known entries for row i\n",
    "            known_idx = self.W[i, :].nonzero()[1]\n",
    "            V_known = self.V[known_idx, :]\n",
    "            X_known = self.X[i, known_idx]\n",
    "\n",
    "            # Solve for U[i,:] using the normal equation\n",
    "            A = V_known.T @ V_known + lambda_reg * np.eye(self.r)\n",
    "            b = V_known.T @ X_known.T\n",
    "            self.U[i, :] = np.linalg.solve(A, b).T\n",
    "\n",
    "        converged, train_loss, val_loss = self.log_metrics(self.U, self.V, idx, log_step, \n",
    "                                                           max_iter, prev_loss, tol)\n",
    "        train_losses.append(train_loss)\n",
    "        val_losses.append(val_loss)\n",
    "        prev_loss = train_loss\n",
    "        if converged: break\n",
    "\n",
    "    if hasattr(self, 'val') and not self.debug:\n",
    "        self.logger.report_single_value('final_val_loss', val_loss)\n",
    "\n",
    "    return self.predict(self.U, self.V)\n"
   ]
  },
  {
   "cell_type": "code",
   "execution_count": 274,
   "metadata": {},
   "outputs": [
    {
     "name": "stderr",
     "output_type": "stream",
     "text": [
      "Block coordinate descent method: min f(U,V):   0%|                                                                               | 0/10 [00:00<?, ?it/s]"
     ]
    },
    {
     "name": "stderr",
     "output_type": "stream",
     "text": [
      "Fix U and update V: 100%|████████████████████████████████████████████████████████████████████████████████████████████████| 5/5 [00:00<00:00, 110.90it/s]\n",
      "Fix new V and update U: 100%|████████████████████████████████████████████████████████████████████████████████████████████| 7/7 [00:00<00:00, 788.15it/s]\n",
      "Block coordinate descent method: min f(U,V):  10%|███████                                                                | 1/10 [00:00<00:03,  2.37it/s]"
     ]
    },
    {
     "name": "stdout",
     "output_type": "stream",
     "text": [
      "Iteration 1: Training Loss = 0.1808\n"
     ]
    },
    {
     "name": "stderr",
     "output_type": "stream",
     "text": [
      "Fix U and update V: 100%|████████████████████████████████████████████████████████████████████████████████████████████████| 5/5 [00:00<00:00, 927.00it/s]\n",
      "Fix new V and update U: 100%|████████████████████████████████████████████████████████████████████████████████████████████| 7/7 [00:00<00:00, 858.26it/s]\n",
      "Fix U and update V: 100%|███████████████████████████████████████████████████████████████████████████████████████████████| 5/5 [00:00<00:00, 1061.04it/s]\n",
      "Fix new V and update U: 100%|████████████████████████████████████████████████████████████████████████████████████████████| 7/7 [00:00<00:00, 868.85it/s]\n",
      "Fix U and update V: 100%|████████████████████████████████████████████████████████████████████████████████████████████████| 5/5 [00:00<00:00, 948.68it/s]\n",
      "Fix new V and update U: 100%|████████████████████████████████████████████████████████████████████████████████████████████| 7/7 [00:00<00:00, 861.13it/s]\n",
      "Fix U and update V: 100%|███████████████████████████████████████████████████████████████████████████████████████████████| 5/5 [00:00<00:00, 1086.38it/s]\n",
      "Fix new V and update U: 100%|████████████████████████████████████████████████████████████████████████████████████████████| 7/7 [00:00<00:00, 746.41it/s]\n",
      "Fix U and update V: 100%|████████████████████████████████████████████████████████████████████████████████████████████████| 5/5 [00:00<00:00, 850.22it/s]\n",
      "Fix new V and update U: 100%|████████████████████████████████████████████████████████████████████████████████████████████| 7/7 [00:00<00:00, 868.00it/s]\n",
      "Fix U and update V: 100%|████████████████████████████████████████████████████████████████████████████████████████████████| 5/5 [00:00<00:00, 851.43it/s]\n",
      "Fix new V and update U: 100%|████████████████████████████████████████████████████████████████████████████████████████████| 7/7 [00:00<00:00, 934.44it/s]\n",
      "Fix U and update V: 100%|████████████████████████████████████████████████████████████████████████████████████████████████| 5/5 [00:00<00:00, 852.26it/s]\n",
      "Fix new V and update U: 100%|████████████████████████████████████████████████████████████████████████████████████████████| 7/7 [00:00<00:00, 954.74it/s]\n",
      "Fix U and update V: 100%|████████████████████████████████████████████████████████████████████████████████████████████████| 5/5 [00:00<00:00, 743.35it/s]\n",
      "Fix new V and update U: 100%|████████████████████████████████████████████████████████████████████████████████████████████| 7/7 [00:00<00:00, 904.25it/s]\n",
      "Fix U and update V: 100%|████████████████████████████████████████████████████████████████████████████████████████████████| 5/5 [00:00<00:00, 938.62it/s]\n",
      "Fix new V and update U: 100%|████████████████████████████████████████████████████████████████████████████████████████████| 7/7 [00:00<00:00, 868.57it/s]\n",
      "Block coordinate descent method: min f(U,V): 100%|██████████████████████████████████████████████████████████████████████| 10/10 [00:00<00:00, 13.95it/s]\n"
     ]
    },
    {
     "name": "stdout",
     "output_type": "stream",
     "text": [
      "Iteration 10: Training Loss = 0.0667\n"
     ]
    },
    {
     "data": {
      "image/png": "[encoded data removed]",
      "text/plain": [
       "<Figure size 640x480 with 2 Axes>"
      ]
     },
     "metadata": {},
     "output_type": "display_data"
    }
   ],
   "source": [
    "test_BCD_method = HDDA(X=np.array([\n",
    "                    [2, 3, 2, np.nan, np.nan],\n",
    "                    [np.nan, 2, np.nan, 4, 3],\n",
    "                    [3, np.nan, 3, np.nan, 4],\n",
    "                    [np.nan, 3, np.nan, 4, 3],\n",
    "                    [np.nan, np.nan, np.nan, np.nan, 2],\n",
    "                    [1, 4, 3, 4, np.nan],\n",
    "                    [5, 3, 2, np.nan, np.nan]]),\n",
    "                r=2, task_name='test_BCD'\n",
    "    )\n",
    "test_BCD_method.init_UV('random')\n",
    "test_BCD_method.BCD(max_iter=10, log_step=10, lambda_reg=0.01, tol=1e-4)\n",
    "test_BCD_method.show_error_heatmap(max(test_BCD_method.m, test_BCD_method.n))\n",
    "# test_BCD_method.task.close()"
   ]
  },
  {
   "cell_type": "code",
   "execution_count": 271,
   "metadata": {},
   "outputs": [
    {
     "name": "stderr",
     "output_type": "stream",
     "text": [
      "Fix U and update V: 100%|██████████████████████████████████████████████████████████████████████████████████████████| 3952/3952 [00:06<00:00, 627.82it/s]\n",
      "Fix new V and update U: 100%|█████████████████████████████████████████████████████████████████████████████████████| 6040/6040 [00:01<00:00, 3398.11it/s]\n",
      "Block coordinate descent method: min f(U,V):  10%|███████                                                                | 1/10 [00:08<01:17,  8.64s/it]"
     ]
    },
    {
     "name": "stdout",
     "output_type": "stream",
     "text": [
      "Iteration 1: Training Loss = 0.1517\n",
      "Validation RMSE: 0.8285\n"
     ]
    },
    {
     "name": "stderr",
     "output_type": "stream",
     "text": [
      "Fix U and update V: 100%|██████████████████████████████████████████████████████████████████████████████████████████| 3952/3952 [00:05<00:00, 720.64it/s]\n",
      "Fix new V and update U: 100%|█████████████████████████████████████████████████████████████████████████████████████| 6040/6040 [00:01<00:00, 3414.60it/s]\n",
      "Fix U and update V: 100%|██████████████████████████████████████████████████████████████████████████████████████████| 3952/3952 [00:05<00:00, 720.44it/s]\n",
      "Fix new V and update U: 100%|█████████████████████████████████████████████████████████████████████████████████████| 6040/6040 [00:01<00:00, 3461.48it/s]\n",
      "Block coordinate descent method: min f(U,V):  30%|█████████████████████▎                                                 | 3/10 [00:24<00:55,  7.94s/it]"
     ]
    },
    {
     "name": "stdout",
     "output_type": "stream",
     "text": [
      "Iteration 3: Training Loss = 0.1395\n",
      "Validation RMSE: 0.7621\n"
     ]
    },
    {
     "name": "stderr",
     "output_type": "stream",
     "text": [
      "Fix U and update V: 100%|██████████████████████████████████████████████████████████████████████████████████████████| 3952/3952 [00:05<00:00, 713.60it/s]\n",
      "Fix new V and update U: 100%|█████████████████████████████████████████████████████████████████████████████████████| 6040/6040 [00:01<00:00, 3462.29it/s]\n",
      "Fix U and update V: 100%|██████████████████████████████████████████████████████████████████████████████████████████| 3952/3952 [00:05<00:00, 718.38it/s]\n",
      "Fix new V and update U: 100%|█████████████████████████████████████████████████████████████████████████████████████| 6040/6040 [00:01<00:00, 3423.68it/s]\n",
      "Block coordinate descent method: min f(U,V):  50%|███████████████████████████████████▌                                   | 5/10 [00:39<00:39,  7.84s/it]"
     ]
    },
    {
     "name": "stdout",
     "output_type": "stream",
     "text": [
      "Iteration 5: Training Loss = 0.1356\n",
      "Validation RMSE: 0.7405\n"
     ]
    },
    {
     "name": "stderr",
     "output_type": "stream",
     "text": [
      "Fix U and update V: 100%|██████████████████████████████████████████████████████████████████████████████████████████| 3952/3952 [00:05<00:00, 720.24it/s]\n",
      "Fix new V and update U: 100%|█████████████████████████████████████████████████████████████████████████████████████| 6040/6040 [00:01<00:00, 3408.95it/s]\n",
      "Fix U and update V: 100%|██████████████████████████████████████████████████████████████████████████████████████████| 3952/3952 [00:06<00:00, 602.94it/s]\n",
      "Fix new V and update U: 100%|█████████████████████████████████████████████████████████████████████████████████████| 6040/6040 [00:01<00:00, 3403.97it/s]\n",
      "Block coordinate descent method: min f(U,V):  60%|██████████████████████████████████████████▌                            | 6/10 [00:56<00:37,  9.37s/it]"
     ]
    },
    {
     "name": "stdout",
     "output_type": "stream",
     "text": [
      "Iteration 7: Training Loss = 0.1337\n",
      "Validation RMSE: 0.7303\n",
      "Converged at iteration 7\n",
      "Training Loss = 0.1337\n",
      "Validation RMSE: 0.7303\n"
     ]
    },
    {
     "name": "stderr",
     "output_type": "stream",
     "text": [
      "\n"
     ]
    },
    {
     "name": "stdout",
     "output_type": "stream",
     "text": [
      "(200041, 2)\n",
      "(200041,)\n"
     ]
    },
    {
     "data": {
      "text/plain": [
       "1         3.88\n",
       "2         3.42\n",
       "3         2.74\n",
       "4         4.22\n",
       "5         4.37\n",
       "          ... \n",
       "200037    4.35\n",
       "200038    4.10\n",
       "200039    3.56\n",
       "200040    4.28\n",
       "200041    3.73\n",
       "Length: 200041, dtype: float64"
      ]
     },
     "execution_count": 271,
     "metadata": {},
     "output_type": "execute_result"
    },
    {
     "data": {
      "image/png": "[encoded data removed]",
      "text/plain": [
       "<Figure size 640x480 with 2 Axes>"
      ]
     },
     "metadata": {},
     "output_type": "display_data"
    }
   ],
   "source": [
    "configs = dict(max_iter=10, r=14, tol=0.001, lambda_reg=0.01,  predicts_path='./predicts_BCD.csv')\n",
    "\n",
    "kaggle_BCD = HDDA(X='./inputX.mat', r=configs['r'], y_true='./ratings_given.csv', task_name='kaggle_BCD')\n",
    "kaggle_BCD.init_UV('random')\n",
    "\n",
    "\n",
    "kaggle_BCD.BCD(max_iter=configs['max_iter'], tol=configs['tol'], lambda_reg=configs['lambda_reg'], log_step=2)\n",
    "kaggle_BCD.show_error_heatmap(15)\n",
    "\n",
    "kaggle_BCD.test(path='./inputEval.mat', predicts_path=configs['predicts_path'])\n",
    "\n",
    "# kaggle_BCD.task.close()"
   ]
  },
  {
   "cell_type": "code",
   "execution_count": 12,
   "metadata": {},
   "outputs": [
    {
     "name": "stdout",
     "output_type": "stream",
     "text": [
      "100%|██████████████████████████████████████| 2.17M/2.17M [00:01<00:00, 1.41MB/s]\n",
      "Successfully submitted to Recommendation System Project"
     ]
    }
   ],
   "source": [
    "# Warning: we have only 10 submissions per 4 hours, use it carefully!\n",
    "!kaggle competitions submit -c recommendation-systems -f ./predicts_BCD.csv -m \"Block coordinate descent method (with sparse implementation) with: 14 latency factors, 7 iterations, 0.01 lambda_reg, 0.7289 rmse on validation\""
   ]
  },
  {
   "cell_type": "markdown",
   "metadata": {},
   "source": [
    "Here we have 1.0873 rmse on the test set (with 0.7289 rmse on validation set)"
   ]
  },
  {
   "cell_type": "markdown",
   "metadata": {},
   "source": [
    "# B. Gradient Descent "
   ]
  },
  {
   "cell_type": "code",
   "execution_count": 46,
   "metadata": {},
   "outputs": [],
   "source": [
    "@add_to_class(HDDA)\n",
    "def BCGD(self, lr=0.001, beta=0.5, sigma=0.1, max_iter=100, log_step=2, tol=1e-4, lambda_reg=0.1):\n",
    "    \"\"\"Block coordinate descent method\"\"\"\n",
    "    self.task.connect(dict(learning_rate=lr, max_iter=max_iter, \n",
    "                           log_step=log_step, tol=tol, latency_factors=self.r, \n",
    "                           lambda_reg=lambda_reg, UV_init_strategy=self.UV_strategy))\n",
    "    logger = Task.get_logger(self.task)\n",
    "\n",
    "    train_losses = []\n",
    "    val_losses = []\n",
    "    prev_error = np.inf\n",
    "\n",
    "    def armijo_rule(f, x, d, alpha=lr, beta=beta, sigma=sigma):\n",
    "        \"\"\"\n",
    "        Правило Армихо для матричных блоков.\n",
    "\n",
    "        Параметры:\n",
    "        - f: функция потерь, возвращающая скалярное значение.\n",
    "        - x: текущие параметры (матрица).\n",
    "        - d: направление изменения (градиент, матрица той же размерности, что x).\n",
    "        - alpha: начальный шаг.\n",
    "        - beta: коэффициент уменьшения шага.\n",
    "        - sigma: параметр для условия достаточного убывания.\n",
    "\n",
    "        Возвращает:\n",
    "        - alpha: найденный шаг, удовлетворяющий условию Армихо.\n",
    "        \"\"\"\n",
    "        while f(x + alpha * d) > f(x) + sigma * alpha * np.linalg.norm(d, 'fro')**2:\n",
    "            alpha *= beta\n",
    "        return alpha\n",
    "    \n",
    "    def loss_for_V(V):\n",
    "        \"\"\"Функция потерь для V.\"\"\"\n",
    "        return np.linalg.norm(self.calc_errors_matrix(self.U, V), 'fro')**2 \\\n",
    "            + lambda_reg * np.linalg.norm(V, 'fro')**2\n",
    "    \n",
    "    def loss_for_U(U):\n",
    "        \"\"\"Функция потерь для U.\"\"\"\n",
    "        return np.linalg.norm(self.calc_errors_matrix(U, self.V), 'fro')**2 \\\n",
    "            + lambda_reg * np.linalg.norm(U, 'fro')**2\n",
    "    \n",
    "    for idx in tqdm(range(max_iter), desc='Training'):\n",
    "        # Update U by fixing V\n",
    "        error = self.calc_errors_matrix(self.U, self.V)\n",
    "        U_gradient = -2 * error @ self.V.T + lambda_reg * self.U  # gradient for U \n",
    "        alpha_U = armijo_rule(loss_for_U, self.U, -U_gradient)\n",
    "        self.U -= alpha_U * U_gradient  # update rule for U\n",
    "\n",
    "        # Update V by fixing U\n",
    "        error = self.calc_errors_matrix(self.U, self.V)\n",
    "        V_gradient = -2 * self.U.T @ error + lambda_reg * self.V  # gradient for V \n",
    "\n",
    "        alpha_V = armijo_rule(loss_for_V, self.V, -V_gradient)\n",
    "        self.V -= alpha_V * V_gradient  # update rule for V\n",
    "        \n",
    "        error = self.calc_errors_matrix(self.U, self.V)\n",
    "        loss = HDDA.rmse(error)\n",
    "        logger.report_scalar('loss', 'train', loss, idx)\n",
    "        \n",
    "        if idx % log_step == 0:\n",
    "            train_losses.append(loss)\n",
    "            print(f\"Iteration {idx}: Loss = {loss:.4f}\")\n",
    "            \n",
    "            self.predicted_X = self.predict(self.U, self.V) # Final predicted preference matrix\n",
    "            if hasattr(self, 'val'):\n",
    "                self.val['predicted'] = self.predicted_X[self.val.iloc[:,0]  - 1, \n",
    "                                                         self.val.iloc[:,1] - 1]\n",
    "                val_loss = HDDA.rmse(np.asarray(self.val['predicted'] - self.val['true']))\n",
    "                val_losses.append(val_loss)\n",
    "                logger.report_scalar('loss', 'val', val_loss, idx)\n",
    "\n",
    "                print(\"Validation RMSE: \", val_loss, '\\n')\n",
    "            if abs(prev_error - loss) < tol:\n",
    "                print(\"Converged.\")\n",
    "                print(f\"Iteration {idx}: Loss = {loss:.4f}\")\n",
    "                if hasattr(self, 'val'):\n",
    "                    print(\"Validation RMSE: \", val_loss, '\\n')\n",
    "                break\n",
    "            prev_error = loss\n",
    "        if np.isnan(loss):\n",
    "            print(\"LOSS: \", loss)\n",
    "            break\n",
    "    if hasattr(self, 'val'):\n",
    "        logger.report_single_value('loss/val', val_loss)\n",
    "        self.finish_val_loss = val_loss\n",
    "\n",
    "    return self.predicted_X"
   ]
  },
  {
   "cell_type": "code",
   "execution_count": 48,
   "metadata": {},
   "outputs": [
    {
     "name": "stdout",
     "output_type": "stream",
     "text": [
      "ClearML Task: created new task id=082f9ffa5c4a480695d840a735a08655\n",
      "ClearML results page: https://app.clear.ml/projects/520a519c5b09413f9400a52e9dbf3d61/experiments/082f9ffa5c4a480695d840a735a08655/output/log\n"
     ]
    },
    {
     "name": "stderr",
     "output_type": "stream",
     "text": [
      "Training:  27%|███████████████████████████▊                                                                           | 27/100 [00:00<00:00, 132.45it/s]"
     ]
    },
    {
     "name": "stdout",
     "output_type": "stream",
     "text": [
      "Iteration 0: Loss = 0.5599\n",
      "Iteration 5: Loss = 0.1542\n",
      "Iteration 10: Loss = 0.0802\n",
      "Iteration 15: Loss = 0.0598\n",
      "Iteration 20: Loss = 0.0515\n",
      "Iteration 25: Loss = 0.0483\n"
     ]
    },
    {
     "name": "stderr",
     "output_type": "stream",
     "text": [
      "Training:  60%|█████████████████████████████████████████████████████████████▊                                         | 60/100 [00:00<00:00, 153.52it/s]"
     ]
    },
    {
     "name": "stdout",
     "output_type": "stream",
     "text": [
      "Iteration 30: Loss = 0.0470\n",
      "Iteration 35: Loss = 0.0459\n",
      "Iteration 40: Loss = 0.0451\n",
      "Iteration 45: Loss = 0.0443\n",
      "Iteration 50: Loss = 0.0434\n",
      "Iteration 55: Loss = 0.0423\n",
      "Iteration 60: Loss = 0.0413\n",
      "Iteration 65: Loss = 0.0403\n"
     ]
    },
    {
     "name": "stderr",
     "output_type": "stream",
     "text": [
      "Training:  95%|█████████████████████████████████████████████████████████████████████████████████████████████████▊     | 95/100 [00:00<00:00, 161.97it/s]"
     ]
    },
    {
     "name": "stdout",
     "output_type": "stream",
     "text": [
      "Iteration 70: Loss = 0.0394\n",
      "Iteration 75: Loss = 0.0385\n",
      "Iteration 80: Loss = 0.0376\n",
      "Iteration 85: Loss = 0.0369\n",
      "Iteration 90: Loss = 0.0365\n",
      "Iteration 95: Loss = 0.0364\n"
     ]
    },
    {
     "name": "stderr",
     "output_type": "stream",
     "text": [
      "Training: 100%|██████████████████████████████████████████████████████████████████████████████████████████████████████| 100/100 [00:00<00:00, 131.08it/s]\n"
     ]
    },
    {
     "data": {
      "image/png": "[encoded data removed]",
      "text/plain": [
       "<Figure size 640x480 with 2 Axes>"
      ]
     },
     "metadata": {},
     "output_type": "display_data"
    },
    {
     "name": "stderr",
     "output_type": "stream",
     "text": [
      "Action failed <400/110: tasks.add_or_update_artifacts/v2.10 (Invalid task status: expected=created, status=stopped)> (task=082f9ffa5c4a480695d840a735a08655, artifacts=[{'key': 'notebook', 'type': 'custom', 'uri': 'https://files.clear.ml/HDDA/test_BCGD.082f9ffa5c4a480695d840a735a08655/artifacts/notebook/project.ipynb', 'content_size': 248427, 'hash': '53e090213e25c0362cc89d163840a6b5c4e37c37ab490050e40104763fe96892', 'timestamp': 1732107212, 'type_data': {'preview': 'See `notebook preview` artifact'}, 'display_data': [('UPDATE', '2024-11-20 12:53:31')]}, {'key': 'notebook preview', 'type': 'custom', 'uri': 'https://files.clear.ml/HDDA/test_BCGD.082f9ffa5c4a480695d840a735a08655/artifacts/notebook%20preview/notebook_082f9ffa5c4a480695d840a735a08655.html', 'content_size': 648483, 'hash': 'e56d6d8a3c0faf6954d7b2e2c6ec2e0f7cefdfd1eed07d137054a655c2a9acb3', 'timestamp': 1732107216, 'type_data': {'preview': 'Click `FILE PATH` link', 'content_type': 'text/html'}, 'display_data': [('UPDATE', '2024-11-20 12:53:35')]}], force=True)\n"
     ]
    }
   ],
   "source": [
    "test_BCGD_method = HDDA(X=np.array([\n",
    "                    [2, 3, 2, np.nan, np.nan],\n",
    "                    [np.nan, 2, np.nan, 4, 3],\n",
    "                    [3, np.nan, 3, np.nan, 4],\n",
    "                    [np.nan, 3, np.nan, 4, 3],\n",
    "                    [np.nan, np.nan, np.nan, np.nan, 2],\n",
    "                    [1, 4, 3, 4, np.nan],\n",
    "                    [5, 3, 2, np.nan, np.nan]]),\n",
    "                r=2, task_name='test_BCGD'\n",
    "    )\n",
    "test_BCGD_method.init_UV('random')\n",
    "test_BCGD_method.BCGD(lr=0.1, beta=0.5, sigma=0.1, max_iter=100, log_step=5, tol=1e-4, lambda_reg=0.1)\n",
    "test_BCGD_method.show_error_heatmap(7)\n",
    "test_BCGD_method.task.close()"
   ]
  },
  {
   "cell_type": "code",
   "execution_count": 81,
   "metadata": {},
   "outputs": [
    {
     "name": "stdout",
     "output_type": "stream",
     "text": [
      "ClearML Task: created new task id=064042751fd544feb6028fb950c6ccef\n",
      "ClearML results page: https://app.clear.ml/projects/520a519c5b09413f9400a52e9dbf3d61/experiments/064042751fd544feb6028fb950c6ccef/output/log\n"
     ]
    },
    {
     "name": "stderr",
     "output_type": "stream",
     "text": [
      "Training:   0%|▎                                                                                                        | 1/400 [00:00<02:39,  2.50it/s]"
     ]
    },
    {
     "name": "stdout",
     "output_type": "stream",
     "text": [
      "Iteration 0: Loss = 0.5437\n",
      "Validation RMSE:  2.969386423223089 \n",
      "\n"
     ]
    },
    {
     "name": "stderr",
     "output_type": "stream",
     "text": [
      "Training:   8%|████████                                                                                                | 31/400 [00:03<00:36, 10.12it/s]"
     ]
    },
    {
     "name": "stdout",
     "output_type": "stream",
     "text": [
      "Iteration 30: Loss = 0.1719\n",
      "Validation RMSE:  0.9387717611815375 \n",
      "\n"
     ]
    },
    {
     "name": "stderr",
     "output_type": "stream",
     "text": [
      "Training:  16%|████████████████▍                                                                                       | 63/400 [00:06<00:32, 10.44it/s]"
     ]
    },
    {
     "name": "stdout",
     "output_type": "stream",
     "text": [
      "Iteration 60: Loss = 0.1600\n",
      "Validation RMSE:  0.8739197905025101 \n",
      "\n"
     ]
    },
    {
     "name": "stderr",
     "output_type": "stream",
     "text": [
      "Training:  23%|███████████████████████▋                                                                                | 91/400 [00:09<00:36,  8.57it/s]"
     ]
    },
    {
     "name": "stdout",
     "output_type": "stream",
     "text": [
      "Iteration 90: Loss = 0.1555\n",
      "Validation RMSE:  0.8491968353799394 \n",
      "\n"
     ]
    },
    {
     "name": "stderr",
     "output_type": "stream",
     "text": [
      "Training:  31%|███████████████████████████████▋                                                                       | 123/400 [00:12<00:26, 10.57it/s]"
     ]
    },
    {
     "name": "stdout",
     "output_type": "stream",
     "text": [
      "Iteration 120: Loss = 0.1523\n",
      "Validation RMSE:  0.8318603840148396 \n",
      "\n"
     ]
    },
    {
     "name": "stderr",
     "output_type": "stream",
     "text": [
      "Training:  38%|██████████████████████████████████████▉                                                                | 151/400 [00:16<00:24, 10.20it/s]"
     ]
    },
    {
     "name": "stdout",
     "output_type": "stream",
     "text": [
      "Iteration 150: Loss = 0.1498\n",
      "Validation RMSE:  0.8182937441091395 \n",
      "\n"
     ]
    },
    {
     "name": "stderr",
     "output_type": "stream",
     "text": [
      "Training:  46%|███████████████████████████████████████████████                                                        | 183/400 [00:19<00:20, 10.70it/s]"
     ]
    },
    {
     "name": "stdout",
     "output_type": "stream",
     "text": [
      "Iteration 180: Loss = 0.1477\n",
      "Validation RMSE:  0.8067860133604299 \n",
      "\n"
     ]
    },
    {
     "name": "stderr",
     "output_type": "stream",
     "text": [
      "Training:  53%|██████████████████████████████████████████████████████▊                                                | 213/400 [00:22<00:17, 10.80it/s]"
     ]
    },
    {
     "name": "stdout",
     "output_type": "stream",
     "text": [
      "Iteration 210: Loss = 0.1459\n",
      "Validation RMSE:  0.797106730702089 \n",
      "\n"
     ]
    },
    {
     "name": "stderr",
     "output_type": "stream",
     "text": [
      "Training:  61%|██████████████████████████████████████████████████████████████▌                                        | 243/400 [00:25<00:14, 10.80it/s]"
     ]
    },
    {
     "name": "stdout",
     "output_type": "stream",
     "text": [
      "Iteration 240: Loss = 0.1444\n",
      "Validation RMSE:  0.7887308773476889 \n",
      "\n"
     ]
    },
    {
     "name": "stderr",
     "output_type": "stream",
     "text": [
      "Training:  68%|██████████████████████████████████████████████████████████████████████▎                                | 273/400 [00:27<00:11, 10.92it/s]"
     ]
    },
    {
     "name": "stdout",
     "output_type": "stream",
     "text": [
      "Iteration 270: Loss = 0.1430\n",
      "Validation RMSE:  0.7811604952978121 \n",
      "\n"
     ]
    },
    {
     "name": "stderr",
     "output_type": "stream",
     "text": [
      "Training:  76%|██████████████████████████████████████████████████████████████████████████████                         | 303/400 [00:30<00:09, 10.57it/s]"
     ]
    },
    {
     "name": "stdout",
     "output_type": "stream",
     "text": [
      "Iteration 300: Loss = 0.1418\n",
      "Validation RMSE:  0.774732041147472 \n",
      "\n"
     ]
    },
    {
     "name": "stderr",
     "output_type": "stream",
     "text": [
      "Training:  83%|█████████████████████████████████████████████████████████████████████████████████████▋                 | 333/400 [00:33<00:06, 10.93it/s]"
     ]
    },
    {
     "name": "stdout",
     "output_type": "stream",
     "text": [
      "Iteration 330: Loss = 0.1408\n",
      "Validation RMSE:  0.7689423621476293 \n",
      "\n"
     ]
    },
    {
     "name": "stderr",
     "output_type": "stream",
     "text": [
      "Training:  91%|█████████████████████████████████████████████████████████████████████████████████████████████▍         | 363/400 [00:36<00:03, 10.86it/s]"
     ]
    },
    {
     "name": "stdout",
     "output_type": "stream",
     "text": [
      "Iteration 360: Loss = 0.1399\n",
      "Validation RMSE:  0.7638751811576276 \n",
      "\n"
     ]
    },
    {
     "name": "stderr",
     "output_type": "stream",
     "text": [
      "Training:  98%|█████████████████████████████████████████████████████████████████████████████████████████████████████▏ | 393/400 [00:39<00:00, 10.11it/s]"
     ]
    },
    {
     "name": "stdout",
     "output_type": "stream",
     "text": [
      "Iteration 390: Loss = 0.1391\n",
      "Validation RMSE:  0.7594822681134356 \n",
      "\n"
     ]
    },
    {
     "name": "stderr",
     "output_type": "stream",
     "text": [
      "Training: 100%|███████████████████████████████████████████████████████████████████████████████████████████████████████| 400/400 [00:39<00:00, 10.08it/s]\n"
     ]
    },
    {
     "name": "stdout",
     "output_type": "stream",
     "text": [
      "(200041, 2)\n",
      "(200041,)\n"
     ]
    },
    {
     "data": {
      "text/plain": [
       "1         4.53\n",
       "2         3.93\n",
       "3         4.50\n",
       "4         4.49\n",
       "5         4.43\n",
       "          ... \n",
       "200037    4.09\n",
       "200038    3.37\n",
       "200039    2.99\n",
       "200040    4.59\n",
       "200041    3.41\n",
       "Length: 200041, dtype: float64"
      ]
     },
     "execution_count": 81,
     "metadata": {},
     "output_type": "execute_result"
    },
    {
     "data": {
      "image/png": "[encoded data removed]",
      "text/plain": [
       "<Figure size 640x480 with 2 Axes>"
      ]
     },
     "metadata": {},
     "output_type": "display_data"
    }
   ],
   "source": [
    "configs = dict(max_iter=300, tol=1e-4, lambda_reg=0.1, log_step=10, r=15)\n",
    "\n",
    "kaggle_BCGD = HDDA(X='./inputX.mat', r=configs['r'], y_true='./ratings_given.csv', task_name='kaggle_GD')\n",
    "kaggle_BCGD.init_UV('eye')\n",
    "\n",
    "kaggle_BCGD.BCGD(lr=0.5, beta=0.1, sigma=0.15, max_iter=400, log_step=30, tol=1e-4, lambda_reg=0.1)\n",
    "\n",
    "kaggle_BCGD.show_error_heatmap(15)\n",
    "\n",
    "predicts_path = 'predicts_BCGD.csv'\n",
    "kaggle_BCGD.test(path='./inputEval.mat', predicts_path=predicts_path)\n",
    "\n",
    "kaggle_BCGD.task.close()\n",
    "kaggle_BCGD.test_predicts"
   ]
  },
  {
   "cell_type": "code",
   "execution_count": 82,
   "metadata": {},
   "outputs": [
    {
     "name": "stdout",
     "output_type": "stream",
     "text": [
      "100%|██████████████████████████████████████| 2.16M/2.16M [00:01<00:00, 1.31MB/s]\n",
      "400 - Bad Request - Submission not allowed:  Your team has used its daily Submission allowance (10) today, please try again tomorrow UTC (10 hours from now).\n"
     ]
    }
   ],
   "source": [
    "# Warning: we have only 10 submissions per 4 hours, use it carefully!\n",
    "!kaggle competitions submit -c recommendation-systems -f predicts_BCGD.csv -m \"Block coordinate gradient descent method with: 15 latency factors, 400 iterations, start 0.5 lr with armijo rule (beta=0.1),  0.7811 rmse on validation\""
   ]
  },
  {
   "cell_type": "markdown",
   "metadata": {},
   "source": [
    "Here we have 0.8626 rmse on the test set (with 0.7539 rmse on validation set)"
   ]
  },
  {
   "cell_type": "markdown",
   "metadata": {},
   "source": [
    "# C. rank 1 factorization"
   ]
  },
  {
   "cell_type": "code",
   "execution_count": null,
   "metadata": {},
   "outputs": [],
   "source": [
    "import cupy as np"
   ]
  },
  {
   "cell_type": "code",
   "execution_count": null,
   "metadata": {},
   "outputs": [],
   "source": [
    "# Определяем матрицу предпочтений с NaN для неизвестных рейтингов\n",
    "X = np.array([[2, 3, 2, np.nan, np.nan],\n",
    "              [np.nan, 2, np.nan, 4, 3],\n",
    "              [3, np.nan, 3, np.nan, 4],\n",
    "              [np.nan, 3, np.nan, 4, 3],\n",
    "              [np.nan, np.nan, np.nan, np.nan, 2],\n",
    "              [1, 4, 3, 4, np.nan]])"
   ]
  },
  {
   "cell_type": "code",
   "execution_count": null,
   "metadata": {},
   "outputs": [],
   "source": [
    "def matrix_factorization(R, K, steps=5000, alpha=0.002, beta=0.02):\n",
    "    num_users, num_items = R.shape\n",
    "    # Инициализируем матрицы признаков пользователей и фильмов\n",
    "    P = np.random.normal(scale=1./K, size=(num_users, K))\n",
    "    Q = np.random.normal(scale=1./K, size=(num_items, K))\n",
    "\n",
    "    # Выполняем оптимизацию\n",
    "    for step in range(steps):\n",
    "        for i in range(num_users):\n",
    "            for j in range(num_items):\n",
    "                if not np.isnan(R[i][j]):\n",
    "                    eij = R[i][j] - np.dot(P[i,:], Q[j,:])  # Ошибка\n",
    "                    # Обновляем матрицы P и Q\n",
    "                    P[i,:] += alpha * (eij * Q[j,:] - beta * P[i,:])\n",
    "                    Q[j,:] += alpha * (eij * P[i,:] - beta * Q[j,:])\n",
    "\n",
    "    return P, Q"
   ]
  },
  {
   "cell_type": "code",
   "execution_count": null,
   "metadata": {},
   "outputs": [
    {
     "name": "stdout",
     "output_type": "stream",
     "text": [
      "Предсказанные рейтинги для всех пользователей:\n",
      "[[ 1.97330477  2.99890441  1.95767638  2.83557736  2.62798401]\n",
      " [-0.1595868   2.05939973  1.74877955  3.97425509  2.92559039]\n",
      " [ 2.95079508  4.60001816  3.0206594   3.90231631  3.93706704]\n",
      " [ 1.51029481  2.94678933  2.04081471  3.94571112  3.05991129]\n",
      " [ 0.91475315  2.07650848  1.47333034  1.96276392  1.98825007]\n",
      " [ 1.04540651  3.92674175  2.96594743  3.99728145  4.09378662]]\n"
     ]
    }
   ],
   "source": [
    "K = 3  # Количество латентных факторов\n",
    "P, Q = matrix_factorization(X.copy(), K)\n",
    "\n",
    "# Восстанавливаем предсказанную матрицу рейтингов\n",
    "predicted_ratings = np.dot(P, Q.T)  # Транспонируем Q для корректного умножения\n",
    "\n",
    "# Выводим предсказанные рейтинги для всех пользователей\n",
    "print(\"Предсказанные рейтинги для всех пользователей:\")\n",
    "print(predicted_ratings)"
   ]
  },
  {
   "cell_type": "markdown",
   "metadata": {},
   "source": [
    "# Hyperparameters tuning"
   ]
  },
  {
   "cell_type": "code",
   "execution_count": 10,
   "metadata": {},
   "outputs": [
    {
     "data": {
      "text/plain": [
       "array(3952)"
      ]
     },
     "execution_count": 10,
     "metadata": {},
     "output_type": "execute_result"
    }
   ],
   "source": [
    "X_rank = np.linalg.matrix_rank(kaggle_BCD.X)\n",
    "X_rank"
   ]
  },
  {
   "cell_type": "code",
   "execution_count": 5,
   "metadata": {},
   "outputs": [],
   "source": [
    "def objective(trial: optuna.Trial):\n",
    "    rank = trial.suggest_int(\"rank\", 0, X_rank)\n",
    "    init_UV = trial.suggest_categorical(\"init_UV\", [\"random\"])\n",
    "\n",
    "    configs = dict(max_iter=6, r=rank)\n",
    "\n",
    "    kaggle_NMF = HDDA(X='./inputX.mat', r=configs['r'], y_true='./ratings_given.csv', \n",
    "                      task_name='kaggle_NMF_search_optimal_rank')\n",
    "    kaggle_NMF.init_UV(init_UV)\n",
    "    kaggle_NMF.NMF(max_iter=configs['max_iter'], log_step=5)\n",
    "    return kaggle_NMF.finish_val_loss\n",
    "    "
   ]
  },
  {
   "cell_type": "code",
   "execution_count": 20,
   "metadata": {},
   "outputs": [
    {
     "name": "stderr",
     "output_type": "stream",
     "text": [
      "[I 2024-11-18 22:56:34,958] Using an existing study with name 'hdda-project-recommendation_systems' instead of creating a new one.\n"
     ]
    },
    {
     "data": {
      "application/vnd.jupyter.widget-view+json": {
       "model_id": "0840adf96f7a4b91b74a68e46b66a5f0",
       "version_major": 2,
       "version_minor": 0
      },
      "text/plain": [
       "  0%|          | 0/1000 [00:00<?, ?it/s]"
      ]
     },
     "metadata": {},
     "output_type": "display_data"
    },
    {
     "name": "stderr",
     "output_type": "stream",
     "text": []
    },
    {
     "name": "stdout",
     "output_type": "stream",
     "text": [
      "Iteration 0: Loss = 1051.5424\n",
      "RMSE on val:  1.1755371566767199 \n",
      "\n"
     ]
    },
    {
     "name": "stderr",
     "output_type": "stream",
     "text": [
      "Training: 100%|████████████████████████████| 6/6 [00:04<00:00,  1.22it/s]\n"
     ]
    },
    {
     "name": "stdout",
     "output_type": "stream",
     "text": [
      "Iteration 5: Loss = 1050.6707\n",
      "RMSE on val:  1.1745649576667296 \n",
      "\n",
      "[I 2024-11-18 22:56:41,365] Trial 162 finished with value: 1.1745649576667296 and parameters: {'rank': 1502, 'init_UV': 'random'}. Best is trial 20 with value: 1.1736211707480357.\n"
     ]
    },
    {
     "name": "stderr",
     "output_type": "stream",
     "text": []
    },
    {
     "name": "stdout",
     "output_type": "stream",
     "text": [
      "Iteration 0: Loss = 1051.0987\n"
     ]
    },
    {
     "name": "stderr",
     "output_type": "stream",
     "text": []
    },
    {
     "name": "stdout",
     "output_type": "stream",
     "text": [
      "RMSE on val:  1.1750435048456551 \n",
      "\n"
     ]
    },
    {
     "name": "stderr",
     "output_type": "stream",
     "text": []
    },
    {
     "name": "stdout",
     "output_type": "stream",
     "text": [
      "Iteration 5: Loss = 1050.2252\n"
     ]
    },
    {
     "name": "stderr",
     "output_type": "stream",
     "text": [
      "Training: 100%|████████████████████████████| 6/6 [00:09<00:00,  1.60s/it]\n"
     ]
    },
    {
     "name": "stdout",
     "output_type": "stream",
     "text": [
      "RMSE on val:  1.1740751993418144 \n",
      "\n",
      "[I 2024-11-18 22:56:52,245] Trial 163 finished with value: 1.1740751993418144 and parameters: {'rank': 2723, 'init_UV': 'random'}. Best is trial 20 with value: 1.1736211707480357.\n"
     ]
    },
    {
     "name": "stderr",
     "output_type": "stream",
     "text": []
    },
    {
     "name": "stdout",
     "output_type": "stream",
     "text": [
      "Iteration 0: Loss = 1051.3948\n",
      "RMSE on val:  1.175375910010808 \n",
      "\n"
     ]
    },
    {
     "name": "stderr",
     "output_type": "stream",
     "text": [
      "Training: 100%|████████████████████████████| 6/6 [00:05<00:00,  1.12it/s]\n"
     ]
    },
    {
     "name": "stdout",
     "output_type": "stream",
     "text": [
      "Iteration 5: Loss = 1050.5268\n",
      "RMSE on val:  1.1744065607949794 \n",
      "\n",
      "[I 2024-11-18 22:56:58,906] Trial 164 finished with value: 1.1744065607949794 and parameters: {'rank': 1618, 'init_UV': 'random'}. Best is trial 20 with value: 1.1736211707480357.\n"
     ]
    },
    {
     "name": "stderr",
     "output_type": "stream",
     "text": []
    },
    {
     "name": "stdout",
     "output_type": "stream",
     "text": [
      "Iteration 0: Loss = 1051.5044\n"
     ]
    },
    {
     "name": "stderr",
     "output_type": "stream",
     "text": []
    },
    {
     "name": "stdout",
     "output_type": "stream",
     "text": [
      "RMSE on val:  1.1754999879108754 \n",
      "\n"
     ]
    },
    {
     "name": "stderr",
     "output_type": "stream",
     "text": []
    },
    {
     "name": "stdout",
     "output_type": "stream",
     "text": [
      "Iteration 5: Loss = 1050.6410\n"
     ]
    },
    {
     "name": "stderr",
     "output_type": "stream",
     "text": [
      "Training: 100%|████████████████████████████| 6/6 [00:09<00:00,  1.59s/it]\n"
     ]
    },
    {
     "name": "stdout",
     "output_type": "stream",
     "text": [
      "RMSE on val:  1.1745315752977916 \n",
      "\n",
      "[I 2024-11-18 22:57:09,732] Trial 165 finished with value: 1.1745315752977916 and parameters: {'rank': 2710, 'init_UV': 'random'}. Best is trial 20 with value: 1.1736211707480357.\n"
     ]
    },
    {
     "name": "stderr",
     "output_type": "stream",
     "text": []
    },
    {
     "name": "stdout",
     "output_type": "stream",
     "text": [
      "Iteration 0: Loss = 1051.8895\n",
      "RMSE on val:  1.1759265407315496 \n",
      "\n"
     ]
    },
    {
     "name": "stderr",
     "output_type": "stream",
     "text": [
      "Training: 100%|████████████████████████████| 6/6 [00:04<00:00,  1.32it/s]\n"
     ]
    },
    {
     "name": "stdout",
     "output_type": "stream",
     "text": [
      "Iteration 5: Loss = 1051.0055\n",
      "RMSE on val:  1.1749375571981278 \n",
      "\n",
      "[I 2024-11-18 22:57:15,534] Trial 166 finished with value: 1.1749375571981278 and parameters: {'rank': 1406, 'init_UV': 'random'}. Best is trial 20 with value: 1.1736211707480357.\n"
     ]
    },
    {
     "name": "stderr",
     "output_type": "stream",
     "text": []
    },
    {
     "name": "stdout",
     "output_type": "stream",
     "text": [
      "Iteration 0: Loss = 1051.4262\n"
     ]
    },
    {
     "name": "stderr",
     "output_type": "stream",
     "text": []
    },
    {
     "name": "stdout",
     "output_type": "stream",
     "text": [
      "RMSE on val:  1.175412582980781 \n",
      "\n"
     ]
    },
    {
     "name": "stderr",
     "output_type": "stream",
     "text": []
    },
    {
     "name": "stdout",
     "output_type": "stream",
     "text": [
      "Iteration 5: Loss = 1050.5558\n"
     ]
    },
    {
     "name": "stderr",
     "output_type": "stream",
     "text": [
      "Training: 100%|████████████████████████████| 6/6 [00:09<00:00,  1.53s/it]\n"
     ]
    },
    {
     "name": "stdout",
     "output_type": "stream",
     "text": [
      "RMSE on val:  1.17443897571325 \n",
      "\n",
      "[I 2024-11-18 22:57:25,951] Trial 167 finished with value: 1.17443897571325 and parameters: {'rank': 2591, 'init_UV': 'random'}. Best is trial 20 with value: 1.1736211707480357.\n"
     ]
    },
    {
     "name": "stderr",
     "output_type": "stream",
     "text": []
    },
    {
     "name": "stdout",
     "output_type": "stream",
     "text": [
      "Iteration 0: Loss = 1051.3789\n",
      "RMSE on val:  1.1753547004219285 \n",
      "\n"
     ]
    },
    {
     "name": "stderr",
     "output_type": "stream",
     "text": [
      "Training: 100%|████████████████████████████| 6/6 [00:05<00:00,  1.02it/s]\n"
     ]
    },
    {
     "name": "stdout",
     "output_type": "stream",
     "text": [
      "Iteration 5: Loss = 1050.4911\n",
      "RMSE on val:  1.1743677031511626 \n",
      "\n",
      "[I 2024-11-18 22:57:33,185] Trial 168 finished with value: 1.1743677031511626 and parameters: {'rank': 1760, 'init_UV': 'random'}. Best is trial 20 with value: 1.1736211707480357.\n"
     ]
    },
    {
     "name": "stderr",
     "output_type": "stream",
     "text": []
    },
    {
     "name": "stdout",
     "output_type": "stream",
     "text": [
      "Iteration 0: Loss = 1051.7648\n"
     ]
    },
    {
     "name": "stderr",
     "output_type": "stream",
     "text": []
    },
    {
     "name": "stdout",
     "output_type": "stream",
     "text": [
      "RMSE on val:  1.1757934190645454 \n",
      "\n"
     ]
    },
    {
     "name": "stderr",
     "output_type": "stream",
     "text": [
      "Training:  83%|███████████████████████▎    | 5/6 [00:14<00:02,  2.84s/it]\n"
     ]
    },
    {
     "name": "stdout",
     "output_type": "stream",
     "text": [
      "[W 2024-11-18 22:57:48,740] Trial 169 failed with parameters: {'rank': 3859, 'init_UV': 'random'} because of the following error: KeyboardInterrupt().\n",
      "Traceback (most recent call last):\n",
      "  File \"/home/prog3/.cache/pypoetry/virtualenvs/hdda-ogT78WGF-py3.10/lib/python3.10/site-packages/optuna/study/_optimize.py\", line 197, in _run_trial\n",
      "    value_or_values = func(trial)\n",
      "  File \"/tmp/ipykernel_618151/909467058.py\", line 10, in objective\n",
      "    kaggle_NMF.NMF(max_iter=configs['max_iter'], log_step=5)\n",
      "  File \"/tmp/ipykernel_618151/4174593209.py\", line 31, in NMF\n",
      "    logger.report_scalar('loss', 'train', loss, idx)\n",
      "  File \"/home/prog3/.cache/pypoetry/virtualenvs/hdda-ogT78WGF-py3.10/lib/python3.10/site-packages/clearml/logger.py\", line 179, in report_scalar\n",
      "    return self._task._reporter.report_scalar(title=title, series=series, value=float(value), iter=iteration)\n",
      "KeyboardInterrupt\n",
      "[W 2024-11-18 22:57:48,741] Trial 169 failed with value None.\n"
     ]
    },
    {
     "ename": "KeyboardInterrupt",
     "evalue": "",
     "output_type": "error",
     "traceback": [
      "\u001b[0;31m-------------------------------------------------------------------------\u001b[0m",
      "\u001b[0;31mKeyboardInterrupt\u001b[0m                       Traceback (most recent call last)",
      "Cell \u001b[0;32mIn[20], line 6\u001b[0m\n\u001b[1;32m      1\u001b[0m study \u001b[38;5;241m=\u001b[39m optuna\u001b[38;5;241m.\u001b[39mcreate_study(storage\u001b[38;5;241m=\u001b[39m\u001b[38;5;124m\"\u001b[39m\u001b[38;5;124msqlite:///db.sqlite3\u001b[39m\u001b[38;5;124m\"\u001b[39m,\n\u001b[1;32m      2\u001b[0m                             study_name\u001b[38;5;241m=\u001b[39m\u001b[38;5;124m\"\u001b[39m\u001b[38;5;124mhdda-project-recommendation_systems\u001b[39m\u001b[38;5;124m\"\u001b[39m,\n\u001b[1;32m      3\u001b[0m                             direction\u001b[38;5;241m=\u001b[39m\u001b[38;5;124m\"\u001b[39m\u001b[38;5;124mminimize\u001b[39m\u001b[38;5;124m\"\u001b[39m, \n\u001b[1;32m      4\u001b[0m                             load_if_exists\u001b[38;5;241m=\u001b[39m\u001b[38;5;28;01mTrue\u001b[39;00m)\n\u001b[0;32m----> 6\u001b[0m \u001b[43mstudy\u001b[49m\u001b[38;5;241;43m.\u001b[39;49m\u001b[43moptimize\u001b[49m\u001b[43m(\u001b[49m\u001b[43mobjective\u001b[49m\u001b[43m,\u001b[49m\u001b[43m \u001b[49m\u001b[43mn_trials\u001b[49m\u001b[38;5;241;43m=\u001b[39;49m\u001b[38;5;241;43m1000\u001b[39;49m\u001b[43m,\u001b[49m\u001b[43m \u001b[49m\u001b[43mshow_progress_bar\u001b[49m\u001b[38;5;241;43m=\u001b[39;49m\u001b[38;5;28;43;01mTrue\u001b[39;49;00m\u001b[43m)\u001b[49m\n",
      "File \u001b[0;32m~/.cache/pypoetry/virtualenvs/hdda-ogT78WGF-py3.10/lib/python3.10/site-packages/optuna/study/study.py:475\u001b[0m, in \u001b[0;36mStudy.optimize\u001b[0;34m(self, func, n_trials, timeout, n_jobs, catch, callbacks, gc_after_trial, show_progress_bar)\u001b[0m\n\u001b[1;32m    373\u001b[0m \u001b[38;5;28;01mdef\u001b[39;00m \u001b[38;5;21moptimize\u001b[39m(\n\u001b[1;32m    374\u001b[0m     \u001b[38;5;28mself\u001b[39m,\n\u001b[1;32m    375\u001b[0m     func: ObjectiveFuncType,\n\u001b[0;32m   (...)\u001b[0m\n\u001b[1;32m    382\u001b[0m     show_progress_bar: \u001b[38;5;28mbool\u001b[39m \u001b[38;5;241m=\u001b[39m \u001b[38;5;28;01mFalse\u001b[39;00m,\n\u001b[1;32m    383\u001b[0m ) \u001b[38;5;241m-\u001b[39m\u001b[38;5;241m>\u001b[39m \u001b[38;5;28;01mNone\u001b[39;00m:\n\u001b[1;32m    384\u001b[0m \u001b[38;5;250m    \u001b[39m\u001b[38;5;124;03m\"\"\"Optimize an objective function.\u001b[39;00m\n\u001b[1;32m    385\u001b[0m \n\u001b[1;32m    386\u001b[0m \u001b[38;5;124;03m    Optimization is done by choosing a suitable set of hyperparameter values from a given\u001b[39;00m\n\u001b[0;32m   (...)\u001b[0m\n\u001b[1;32m    473\u001b[0m \u001b[38;5;124;03m            If nested invocation of this method occurs.\u001b[39;00m\n\u001b[1;32m    474\u001b[0m \u001b[38;5;124;03m    \"\"\"\u001b[39;00m\n\u001b[0;32m--> 475\u001b[0m     \u001b[43m_optimize\u001b[49m\u001b[43m(\u001b[49m\n\u001b[1;32m    476\u001b[0m \u001b[43m        \u001b[49m\u001b[43mstudy\u001b[49m\u001b[38;5;241;43m=\u001b[39;49m\u001b[38;5;28;43mself\u001b[39;49m\u001b[43m,\u001b[49m\n\u001b[1;32m    477\u001b[0m \u001b[43m        \u001b[49m\u001b[43mfunc\u001b[49m\u001b[38;5;241;43m=\u001b[39;49m\u001b[43mfunc\u001b[49m\u001b[43m,\u001b[49m\n\u001b[1;32m    478\u001b[0m \u001b[43m        \u001b[49m\u001b[43mn_trials\u001b[49m\u001b[38;5;241;43m=\u001b[39;49m\u001b[43mn_trials\u001b[49m\u001b[43m,\u001b[49m\n\u001b[1;32m    479\u001b[0m \u001b[43m        \u001b[49m\u001b[43mtimeout\u001b[49m\u001b[38;5;241;43m=\u001b[39;49m\u001b[43mtimeout\u001b[49m\u001b[43m,\u001b[49m\n\u001b[1;32m    480\u001b[0m \u001b[43m        \u001b[49m\u001b[43mn_jobs\u001b[49m\u001b[38;5;241;43m=\u001b[39;49m\u001b[43mn_jobs\u001b[49m\u001b[43m,\u001b[49m\n\u001b[1;32m    481\u001b[0m \u001b[43m        \u001b[49m\u001b[43mcatch\u001b[49m\u001b[38;5;241;43m=\u001b[39;49m\u001b[38;5;28;43mtuple\u001b[39;49m\u001b[43m(\u001b[49m\u001b[43mcatch\u001b[49m\u001b[43m)\u001b[49m\u001b[43m \u001b[49m\u001b[38;5;28;43;01mif\u001b[39;49;00m\u001b[43m \u001b[49m\u001b[38;5;28;43misinstance\u001b[39;49m\u001b[43m(\u001b[49m\u001b[43mcatch\u001b[49m\u001b[43m,\u001b[49m\u001b[43m \u001b[49m\u001b[43mIterable\u001b[49m\u001b[43m)\u001b[49m\u001b[43m \u001b[49m\u001b[38;5;28;43;01melse\u001b[39;49;00m\u001b[43m \u001b[49m\u001b[43m(\u001b[49m\u001b[43mcatch\u001b[49m\u001b[43m,\u001b[49m\u001b[43m)\u001b[49m\u001b[43m,\u001b[49m\n\u001b[1;32m    482\u001b[0m \u001b[43m        \u001b[49m\u001b[43mcallbacks\u001b[49m\u001b[38;5;241;43m=\u001b[39;49m\u001b[43mcallbacks\u001b[49m\u001b[43m,\u001b[49m\n\u001b[1;32m    483\u001b[0m \u001b[43m        \u001b[49m\u001b[43mgc_after_trial\u001b[49m\u001b[38;5;241;43m=\u001b[39;49m\u001b[43mgc_after_trial\u001b[49m\u001b[43m,\u001b[49m\n\u001b[1;32m    484\u001b[0m \u001b[43m        \u001b[49m\u001b[43mshow_progress_bar\u001b[49m\u001b[38;5;241;43m=\u001b[39;49m\u001b[43mshow_progress_bar\u001b[49m\u001b[43m,\u001b[49m\n\u001b[1;32m    485\u001b[0m \u001b[43m    \u001b[49m\u001b[43m)\u001b[49m\n",
      "File \u001b[0;32m~/.cache/pypoetry/virtualenvs/hdda-ogT78WGF-py3.10/lib/python3.10/site-packages/optuna/study/_optimize.py:63\u001b[0m, in \u001b[0;36m_optimize\u001b[0;34m(study, func, n_trials, timeout, n_jobs, catch, callbacks, gc_after_trial, show_progress_bar)\u001b[0m\n\u001b[1;32m     61\u001b[0m \u001b[38;5;28;01mtry\u001b[39;00m:\n\u001b[1;32m     62\u001b[0m     \u001b[38;5;28;01mif\u001b[39;00m n_jobs \u001b[38;5;241m==\u001b[39m \u001b[38;5;241m1\u001b[39m:\n\u001b[0;32m---> 63\u001b[0m         \u001b[43m_optimize_sequential\u001b[49m\u001b[43m(\u001b[49m\n\u001b[1;32m     64\u001b[0m \u001b[43m            \u001b[49m\u001b[43mstudy\u001b[49m\u001b[43m,\u001b[49m\n\u001b[1;32m     65\u001b[0m \u001b[43m            \u001b[49m\u001b[43mfunc\u001b[49m\u001b[43m,\u001b[49m\n\u001b[1;32m     66\u001b[0m \u001b[43m            \u001b[49m\u001b[43mn_trials\u001b[49m\u001b[43m,\u001b[49m\n\u001b[1;32m     67\u001b[0m \u001b[43m            \u001b[49m\u001b[43mtimeout\u001b[49m\u001b[43m,\u001b[49m\n\u001b[1;32m     68\u001b[0m \u001b[43m            \u001b[49m\u001b[43mcatch\u001b[49m\u001b[43m,\u001b[49m\n\u001b[1;32m     69\u001b[0m \u001b[43m            \u001b[49m\u001b[43mcallbacks\u001b[49m\u001b[43m,\u001b[49m\n\u001b[1;32m     70\u001b[0m \u001b[43m            \u001b[49m\u001b[43mgc_after_trial\u001b[49m\u001b[43m,\u001b[49m\n\u001b[1;32m     71\u001b[0m \u001b[43m            \u001b[49m\u001b[43mreseed_sampler_rng\u001b[49m\u001b[38;5;241;43m=\u001b[39;49m\u001b[38;5;28;43;01mFalse\u001b[39;49;00m\u001b[43m,\u001b[49m\n\u001b[1;32m     72\u001b[0m \u001b[43m            \u001b[49m\u001b[43mtime_start\u001b[49m\u001b[38;5;241;43m=\u001b[39;49m\u001b[38;5;28;43;01mNone\u001b[39;49;00m\u001b[43m,\u001b[49m\n\u001b[1;32m     73\u001b[0m \u001b[43m            \u001b[49m\u001b[43mprogress_bar\u001b[49m\u001b[38;5;241;43m=\u001b[39;49m\u001b[43mprogress_bar\u001b[49m\u001b[43m,\u001b[49m\n\u001b[1;32m     74\u001b[0m \u001b[43m        \u001b[49m\u001b[43m)\u001b[49m\n\u001b[1;32m     75\u001b[0m     \u001b[38;5;28;01melse\u001b[39;00m:\n\u001b[1;32m     76\u001b[0m         \u001b[38;5;28;01mif\u001b[39;00m n_jobs \u001b[38;5;241m==\u001b[39m \u001b[38;5;241m-\u001b[39m\u001b[38;5;241m1\u001b[39m:\n",
      "File \u001b[0;32m~/.cache/pypoetry/virtualenvs/hdda-ogT78WGF-py3.10/lib/python3.10/site-packages/optuna/study/_optimize.py:160\u001b[0m, in \u001b[0;36m_optimize_sequential\u001b[0;34m(study, func, n_trials, timeout, catch, callbacks, gc_after_trial, reseed_sampler_rng, time_start, progress_bar)\u001b[0m\n\u001b[1;32m    157\u001b[0m         \u001b[38;5;28;01mbreak\u001b[39;00m\n\u001b[1;32m    159\u001b[0m \u001b[38;5;28;01mtry\u001b[39;00m:\n\u001b[0;32m--> 160\u001b[0m     frozen_trial \u001b[38;5;241m=\u001b[39m \u001b[43m_run_trial\u001b[49m\u001b[43m(\u001b[49m\u001b[43mstudy\u001b[49m\u001b[43m,\u001b[49m\u001b[43m \u001b[49m\u001b[43mfunc\u001b[49m\u001b[43m,\u001b[49m\u001b[43m \u001b[49m\u001b[43mcatch\u001b[49m\u001b[43m)\u001b[49m\n\u001b[1;32m    161\u001b[0m \u001b[38;5;28;01mfinally\u001b[39;00m:\n\u001b[1;32m    162\u001b[0m     \u001b[38;5;66;03m# The following line mitigates memory problems that can be occurred in some\u001b[39;00m\n\u001b[1;32m    163\u001b[0m     \u001b[38;5;66;03m# environments (e.g., services that use computing containers such as GitHub Actions).\u001b[39;00m\n\u001b[1;32m    164\u001b[0m     \u001b[38;5;66;03m# Please refer to the following PR for further details:\u001b[39;00m\n\u001b[1;32m    165\u001b[0m     \u001b[38;5;66;03m# https://github.com/optuna/optuna/pull/325.\u001b[39;00m\n\u001b[1;32m    166\u001b[0m     \u001b[38;5;28;01mif\u001b[39;00m gc_after_trial:\n",
      "File \u001b[0;32m~/.cache/pypoetry/virtualenvs/hdda-ogT78WGF-py3.10/lib/python3.10/site-packages/optuna/study/_optimize.py:248\u001b[0m, in \u001b[0;36m_run_trial\u001b[0;34m(study, func, catch)\u001b[0m\n\u001b[1;32m    241\u001b[0m         \u001b[38;5;28;01massert\u001b[39;00m \u001b[38;5;28;01mFalse\u001b[39;00m, \u001b[38;5;124m\"\u001b[39m\u001b[38;5;124mShould not reach.\u001b[39m\u001b[38;5;124m\"\u001b[39m\n\u001b[1;32m    243\u001b[0m \u001b[38;5;28;01mif\u001b[39;00m (\n\u001b[1;32m    244\u001b[0m     frozen_trial\u001b[38;5;241m.\u001b[39mstate \u001b[38;5;241m==\u001b[39m TrialState\u001b[38;5;241m.\u001b[39mFAIL\n\u001b[1;32m    245\u001b[0m     \u001b[38;5;129;01mand\u001b[39;00m func_err \u001b[38;5;129;01mis\u001b[39;00m \u001b[38;5;129;01mnot\u001b[39;00m \u001b[38;5;28;01mNone\u001b[39;00m\n\u001b[1;32m    246\u001b[0m     \u001b[38;5;129;01mand\u001b[39;00m \u001b[38;5;129;01mnot\u001b[39;00m \u001b[38;5;28misinstance\u001b[39m(func_err, catch)\n\u001b[1;32m    247\u001b[0m ):\n\u001b[0;32m--> 248\u001b[0m     \u001b[38;5;28;01mraise\u001b[39;00m func_err\n\u001b[1;32m    249\u001b[0m \u001b[38;5;28;01mreturn\u001b[39;00m frozen_trial\n",
      "File \u001b[0;32m~/.cache/pypoetry/virtualenvs/hdda-ogT78WGF-py3.10/lib/python3.10/site-packages/optuna/study/_optimize.py:197\u001b[0m, in \u001b[0;36m_run_trial\u001b[0;34m(study, func, catch)\u001b[0m\n\u001b[1;32m    195\u001b[0m \u001b[38;5;28;01mwith\u001b[39;00m get_heartbeat_thread(trial\u001b[38;5;241m.\u001b[39m_trial_id, study\u001b[38;5;241m.\u001b[39m_storage):\n\u001b[1;32m    196\u001b[0m     \u001b[38;5;28;01mtry\u001b[39;00m:\n\u001b[0;32m--> 197\u001b[0m         value_or_values \u001b[38;5;241m=\u001b[39m \u001b[43mfunc\u001b[49m\u001b[43m(\u001b[49m\u001b[43mtrial\u001b[49m\u001b[43m)\u001b[49m\n\u001b[1;32m    198\u001b[0m     \u001b[38;5;28;01mexcept\u001b[39;00m exceptions\u001b[38;5;241m.\u001b[39mTrialPruned \u001b[38;5;28;01mas\u001b[39;00m e:\n\u001b[1;32m    199\u001b[0m         \u001b[38;5;66;03m# TODO(mamu): Handle multi-objective cases.\u001b[39;00m\n\u001b[1;32m    200\u001b[0m         state \u001b[38;5;241m=\u001b[39m TrialState\u001b[38;5;241m.\u001b[39mPRUNED\n",
      "Cell \u001b[0;32mIn[19], line 10\u001b[0m, in \u001b[0;36mobjective\u001b[0;34m(trial)\u001b[0m\n\u001b[1;32m      7\u001b[0m kaggle_NMF \u001b[38;5;241m=\u001b[39m HDDA(X\u001b[38;5;241m=\u001b[39m\u001b[38;5;124m'\u001b[39m\u001b[38;5;124m./inputX.mat\u001b[39m\u001b[38;5;124m'\u001b[39m, r\u001b[38;5;241m=\u001b[39mconfigs[\u001b[38;5;124m'\u001b[39m\u001b[38;5;124mr\u001b[39m\u001b[38;5;124m'\u001b[39m], y_true\u001b[38;5;241m=\u001b[39m\u001b[38;5;124m'\u001b[39m\u001b[38;5;124m./ratings_given.csv\u001b[39m\u001b[38;5;124m'\u001b[39m, \n\u001b[1;32m      8\u001b[0m                   task_name\u001b[38;5;241m=\u001b[39m\u001b[38;5;124m'\u001b[39m\u001b[38;5;124mkaggle_NMF_search_optimal_rank\u001b[39m\u001b[38;5;124m'\u001b[39m)\n\u001b[1;32m      9\u001b[0m kaggle_NMF\u001b[38;5;241m.\u001b[39minit_UV(init_UV)\n\u001b[0;32m---> 10\u001b[0m \u001b[43mkaggle_NMF\u001b[49m\u001b[38;5;241;43m.\u001b[39;49m\u001b[43mNMF\u001b[49m\u001b[43m(\u001b[49m\u001b[43mmax_iter\u001b[49m\u001b[38;5;241;43m=\u001b[39;49m\u001b[43mconfigs\u001b[49m\u001b[43m[\u001b[49m\u001b[38;5;124;43m'\u001b[39;49m\u001b[38;5;124;43mmax_iter\u001b[39;49m\u001b[38;5;124;43m'\u001b[39;49m\u001b[43m]\u001b[49m\u001b[43m,\u001b[49m\u001b[43m \u001b[49m\u001b[43mlog_step\u001b[49m\u001b[38;5;241;43m=\u001b[39;49m\u001b[38;5;241;43m5\u001b[39;49m\u001b[43m)\u001b[49m\n\u001b[1;32m     11\u001b[0m \u001b[38;5;28;01mreturn\u001b[39;00m kaggle_NMF\u001b[38;5;241m.\u001b[39mfinish_val_loss\n",
      "Cell \u001b[0;32mIn[9], line 31\u001b[0m, in \u001b[0;36mNMF\u001b[0;34m(self, max_iter, log_step, val_early_stopping)\u001b[0m\n\u001b[1;32m     28\u001b[0m \u001b[38;5;28mself\u001b[39m\u001b[38;5;241m.\u001b[39mU \u001b[38;5;241m=\u001b[39m \u001b[38;5;28mself\u001b[39m\u001b[38;5;241m.\u001b[39mU \u001b[38;5;241m*\u001b[39m (\u001b[38;5;28mself\u001b[39m\u001b[38;5;241m.\u001b[39mX \u001b[38;5;241m@\u001b[39m \u001b[38;5;28mself\u001b[39m\u001b[38;5;241m.\u001b[39mV\u001b[38;5;241m.\u001b[39mT)\u001b[38;5;241m/\u001b[39m(\u001b[38;5;28mself\u001b[39m\u001b[38;5;241m.\u001b[39mU \u001b[38;5;241m@\u001b[39m \u001b[38;5;28mself\u001b[39m\u001b[38;5;241m.\u001b[39mV \u001b[38;5;241m@\u001b[39m \u001b[38;5;28mself\u001b[39m\u001b[38;5;241m.\u001b[39mV\u001b[38;5;241m.\u001b[39mT)\n\u001b[1;32m     30\u001b[0m loss \u001b[38;5;241m=\u001b[39m np\u001b[38;5;241m.\u001b[39mlinalg\u001b[38;5;241m.\u001b[39mnorm(\u001b[38;5;28mself\u001b[39m\u001b[38;5;241m.\u001b[39mcalc_errors_matrix(\u001b[38;5;28mself\u001b[39m\u001b[38;5;241m.\u001b[39mU, \u001b[38;5;28mself\u001b[39m\u001b[38;5;241m.\u001b[39mV), \u001b[38;5;124m'\u001b[39m\u001b[38;5;124mfro\u001b[39m\u001b[38;5;124m'\u001b[39m)\n\u001b[0;32m---> 31\u001b[0m \u001b[43mlogger\u001b[49m\u001b[38;5;241;43m.\u001b[39;49m\u001b[43mreport_scalar\u001b[49m\u001b[43m(\u001b[49m\u001b[38;5;124;43m'\u001b[39;49m\u001b[38;5;124;43mloss\u001b[39;49m\u001b[38;5;124;43m'\u001b[39;49m\u001b[43m,\u001b[49m\u001b[43m \u001b[49m\u001b[38;5;124;43m'\u001b[39;49m\u001b[38;5;124;43mtrain\u001b[39;49m\u001b[38;5;124;43m'\u001b[39;49m\u001b[43m,\u001b[49m\u001b[43m \u001b[49m\u001b[43mloss\u001b[49m\u001b[43m,\u001b[49m\u001b[43m \u001b[49m\u001b[43midx\u001b[49m\u001b[43m)\u001b[49m\n\u001b[1;32m     33\u001b[0m \u001b[38;5;28;01mif\u001b[39;00m idx \u001b[38;5;241m%\u001b[39m log_step \u001b[38;5;241m==\u001b[39m \u001b[38;5;241m0\u001b[39m:\n\u001b[1;32m     34\u001b[0m     train_losses\u001b[38;5;241m.\u001b[39mappend(loss\u001b[38;5;241m.\u001b[39mget())\n",
      "File \u001b[0;32m~/.cache/pypoetry/virtualenvs/hdda-ogT78WGF-py3.10/lib/python3.10/site-packages/clearml/logger.py:179\u001b[0m, in \u001b[0;36mLogger.report_scalar\u001b[0;34m(self, title, series, value, iteration)\u001b[0m\n\u001b[1;32m    177\u001b[0m \u001b[38;5;28mself\u001b[39m\u001b[38;5;241m.\u001b[39m_touch_title_series(title, series)\n\u001b[1;32m    178\u001b[0m \u001b[38;5;66;03m# noinspection PyProtectedMember\u001b[39;00m\n\u001b[0;32m--> 179\u001b[0m \u001b[38;5;28;01mreturn\u001b[39;00m \u001b[38;5;28mself\u001b[39m\u001b[38;5;241m.\u001b[39m_task\u001b[38;5;241m.\u001b[39m_reporter\u001b[38;5;241m.\u001b[39mreport_scalar(title\u001b[38;5;241m=\u001b[39mtitle, series\u001b[38;5;241m=\u001b[39mseries, value\u001b[38;5;241m=\u001b[39m\u001b[38;5;28;43mfloat\u001b[39;49m\u001b[43m(\u001b[49m\u001b[43mvalue\u001b[49m\u001b[43m)\u001b[49m, \u001b[38;5;28miter\u001b[39m\u001b[38;5;241m=\u001b[39miteration)\n",
      "\u001b[0;31mKeyboardInterrupt\u001b[0m: "
     ]
    }
   ],
   "source": [
    "study = optuna.create_study(storage=\"sqlite:///db.sqlite3\",\n",
    "                            study_name=\"hdda-project-recommendation_systems\",\n",
    "                            direction=\"minimize\", \n",
    "                            load_if_exists=True)\n",
    "\n",
    "study.optimize(objective, n_trials=1000, show_progress_bar=True)"
   ]
  },
  {
   "cell_type": "code",
   "execution_count": 37,
   "metadata": {},
   "outputs": [
    {
     "name": "stderr",
     "output_type": "stream",
     "text": [
      "2 task found when searching for `{'task_name': 'kaggle_NMF_search_optimal_rank', 'include_archived': True}`\n",
      "Selected task `kaggle_NMF_search_optimal_rank` (id=a3c5b167c7ac48898b94b3c608e977ee)\n"
     ]
    },
    {
     "ename": "",
     "evalue": "",
     "output_type": "error",
     "traceback": [
      "\u001b[1;31mThe Kernel crashed while executing code in the current cell or a previous cell. \n",
      "\u001b[1;31mPlease review the code in the cell(s) to identify a possible cause of the failure. \n",
      "\u001b[1;31mClick <a href='https://aka.ms/vscodeJupyterKernelCrash'>here</a> for more info. \n",
      "\u001b[1;31mView Jupyter <a href='command:jupyter.viewOutput'>log</a> for further details."
     ]
    }
   ],
   "source": [
    "Task.get_task(task_name='kaggle_NMF_search_optimal_rank').close()"
   ]
  },
  {
   "cell_type": "code",
   "execution_count": 21,
   "metadata": {},
   "outputs": [
    {
     "data": {
      "text/plain": [
       "2718"
      ]
     },
     "execution_count": 21,
     "metadata": {},
     "output_type": "execute_result"
    }
   ],
   "source": [
    "trial = study.best_trial\n",
    "best_rank = trial.params['rank']\n",
    "best_rank"
   ]
  }
 ],
 "metadata": {
  "kernelspec": {
   "display_name": "Python 3 (ipykernel)",
   "language": "python",
   "name": "python3"
  },
  "language_info": {
   "codemirror_mode": {
    "name": "ipython",
    "version": 3
   },
   "file_extension": ".py",
   "mimetype": "text/x-python",
   "name": "python",
   "nbconvert_exporter": "python",
   "pygments_lexer": "ipython3",
   "version": "3.10.12"
  }
 },
 "nbformat": 4,
 "nbformat_minor": 2
}
